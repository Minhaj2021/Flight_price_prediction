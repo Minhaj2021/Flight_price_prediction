{
 "cells": [
  {
   "cell_type": "code",
   "execution_count": 1,
   "id": "541af42c",
   "metadata": {},
   "outputs": [],
   "source": [
    "# Importing Libraries\n",
    "import selenium\n",
    "import pandas as pd\n",
    "import time\n",
    "from bs4 import BeautifulSoup as bs\n",
    "\n",
    "# Importing selenium webdriver \n",
    "from selenium import webdriver\n",
    "\n",
    "# Importing required Exceptions which needs to handled\n",
    "from selenium.common.exceptions import StaleElementReferenceException, NoSuchElementException, WebDriverException\n",
    "\n",
    "#Importing requests\n",
    "import requests\n",
    "\n",
    "import warnings   #importing warning modules for ignoring the warnings\n",
    "warnings.filterwarnings('ignore')\n",
    "\n",
    "from selenium.webdriver import ActionChains\n",
    "\n",
    "from selenium.webdriver.support.ui import Select\n",
    "\n",
    "from selenium.webdriver.support.ui import WebDriverWait\n",
    "\n",
    "from selenium.webdriver.support import expected_conditions as EC\n",
    "\n",
    "from selenium.webdriver.common.by import By"
   ]
  },
  {
   "cell_type": "markdown",
   "id": "baaa1ee5",
   "metadata": {},
   "source": [
    "# yatra.com"
   ]
  },
  {
   "cell_type": "code",
   "execution_count": 2,
   "id": "aa6dbfa9",
   "metadata": {},
   "outputs": [],
   "source": [
    "#connecting to webdriver\n",
    "driver=webdriver.Chrome(r'C:\\Program Files (x86)\\chromedriver.exe')\n",
    "#opening the url\n",
    "driver.get('https://www.yatra.com/')\n",
    "time.sleep(2)\n",
    "driver.maximize_window()"
   ]
  },
  {
   "cell_type": "code",
   "execution_count": 5,
   "id": "6fe683c3",
   "metadata": {},
   "outputs": [],
   "source": [
    "#source\n",
    "source_area=driver.find_element_by_xpath(\"//input[@class='required_field cityPadRight ac_input origin_ac']\")\n",
    "time.sleep(2)\n",
    "source_area.click()"
   ]
  },
  {
   "cell_type": "code",
   "execution_count": 6,
   "id": "47e0649b",
   "metadata": {},
   "outputs": [],
   "source": [
    "#chennai\n",
    "clicks=driver.find_element_by_xpath(\"/html/body/div[2]/div/section/div[1]/div/div[1]/section/div/div/div/div[1]/div[1]/div[2]/ul/li[1]/ul/li[1]/div/div/ul/div/div/div/li[4]/div[1]/p[1]\")\n",
    "time.sleep(5)\n",
    "clicks.click()"
   ]
  },
  {
   "cell_type": "code",
   "execution_count": 7,
   "id": "8c5fc81c",
   "metadata": {},
   "outputs": [],
   "source": [
    "#destination\n",
    "destination_area=driver.find_element_by_xpath(\"//input[@id='BE_flight_arrival_city']\")\n",
    "time.sleep(2)\n",
    "destination_area.click()"
   ]
  },
  {
   "cell_type": "code",
   "execution_count": 8,
   "id": "edf43221",
   "metadata": {},
   "outputs": [],
   "source": [
    "#selecting mumbai\n",
    "mumbai=driver.find_element_by_xpath(\"/html/body/div[2]/div/section/div[1]/div/div[1]/section/div/div/div/div[1]/div[1]/div[2]/ul/li[1]/ul/li[3]/div/div/ul/div/div/div/li[2]/div[1]/p[1]\")\n",
    "time.sleep(5)\n",
    "mumbai.click()"
   ]
  },
  {
   "cell_type": "code",
   "execution_count": 9,
   "id": "9c8921d1",
   "metadata": {},
   "outputs": [],
   "source": [
    "#selecting date\n",
    "date=driver.find_element_by_xpath(\"//input[@class='custom-date-input BE_flight_origin_date']\")\n",
    "time.sleep(2)\n",
    "date.click()"
   ]
  },
  {
   "cell_type": "code",
   "execution_count": 10,
   "id": "25f4b874",
   "metadata": {},
   "outputs": [],
   "source": [
    "#clicking on particular date\n",
    "depart_date=driver.find_element_by_xpath(\"/html/body/div[2]/div/section/div[1]/div/div[1]/section/div/div/div/div[1]/div[1]/div[2]/ul/li[2]/ul/li[1]/section/div/div[2]/div[2]/div[2]/div[1]/div/div/table/tbody/tr[2]/td[4]\")\n",
    "\n",
    "chains=ActionChains(driver)\n",
    "\n",
    "time.sleep(5)\n",
    "\n",
    "chains.double_click(depart_date).perform()"
   ]
  },
  {
   "cell_type": "code",
   "execution_count": 12,
   "id": "77a0c8bd",
   "metadata": {},
   "outputs": [],
   "source": [
    "#clicking search\n",
    "search_btn=driver.find_element_by_xpath(\"//div[@class='ripple-parent search-height demo-icon icon-go']/input\")\n",
    "time.sleep(3)\n",
    "search_btn.click()"
   ]
  },
  {
   "cell_type": "code",
   "execution_count": 13,
   "id": "8b3bd164",
   "metadata": {},
   "outputs": [],
   "source": [
    "#airline\n",
    "airlines=[]\n",
    "try:\n",
    "    airline=driver.find_elements_by_xpath(\"//span[@class='i-b text ellipsis']\")\n",
    "    for air in airline:\n",
    "        airlines.append(air.text)\n",
    "except:\n",
    "    airlines.append(\"None\")\n",
    "\n",
    "#source\n",
    "depart=[]\n",
    "try:\n",
    "    departs=driver.find_elements_by_xpath(\"//p[@class='fs-10 font-lightgrey no-wrap city ellipsis']\")\n",
    "    for de in departs:\n",
    "        depart.append(de.text)\n",
    "except:\n",
    "    depart.append(\"None\")\n",
    "    \n",
    "#duration\n",
    "duration=[]\n",
    "try:\n",
    "    durable=driver.find_elements_by_xpath(\"//p[@class='fs-12 bold du mb-2']\")\n",
    "    for du in durable:\n",
    "        duration.append(du.text)\n",
    "except:\n",
    "    duration.append(\"none\")\n",
    "    \n",
    "#stops\n",
    "total_stops=[]\n",
    "try:\n",
    "    stops=driver.find_elements_by_xpath(\"//div[@class=' font-lightgrey fs-10 tipsy i-b fs-10']\")\n",
    "    for st in stops:\n",
    "        total_stops.append(st.text)\n",
    "except:\n",
    "    total_stops.append(\"None\")\n",
    "    \n",
    "#departure time\n",
    "depart_time=[]\n",
    "try:\n",
    "    dep=driver.find_elements_by_xpath(\"//div[@class='i-b pr']\")\n",
    "    for dp in dep:\n",
    "        depart_time.append(dp.text)\n",
    "except:\n",
    "    depart_time.append(\"None\")        \n",
    "    \n",
    "#arrival time\n",
    "arrival_time=[]\n",
    "try:\n",
    "    arrive=driver.find_elements_by_xpath(\"//p[@class='fs-12 bold du mb-2']\")\n",
    "    for arr in arrive:\n",
    "        arrival_time.append(arr.text)\n",
    "except:\n",
    "    arrival_time.append(\"None\")\n",
    "    \n",
    "#price\n",
    "price=[]\n",
    "try:\n",
    "    ticket=driver.find_elements_by_xpath(\"//div[@class='i-b tipsy fare-summary-tooltip fs-18']\")\n",
    "    for ti in ticket:\n",
    "        price.append(ti.text)\n",
    "except:\n",
    "    price.append(\"None\")"
   ]
  },
  {
   "cell_type": "code",
   "execution_count": 14,
   "id": "fb44b17f",
   "metadata": {},
   "outputs": [
    {
     "name": "stdout",
     "output_type": "stream",
     "text": [
      "107 214\n"
     ]
    }
   ],
   "source": [
    "print(len(price),len(depart))"
   ]
  },
  {
   "cell_type": "code",
   "execution_count": 15,
   "id": "bfeb3082",
   "metadata": {},
   "outputs": [],
   "source": [
    "source=depart[0:214:2]\n",
    "destination=depart[1:214:2]"
   ]
  },
  {
   "cell_type": "code",
   "execution_count": 16,
   "id": "3584e224",
   "metadata": {},
   "outputs": [],
   "source": [
    "driver.current_url\n",
    "try:\n",
    "    detail=driver.find_elements_by_xpath(\"//div[@class='link-color fs-12 cursor-pointer']/span\")\n",
    "    for x in range(len(detail)):\n",
    "        time.sleep(10)\n",
    "        driver.execute_script(\"window.scrollBy(0,document.body.scrollHeight);\")\n",
    "        detail[x].click()\n",
    "except:\n",
    "    pass\n",
    "date_journey=[]\n",
    "try:\n",
    "    journey=driver.find_elements_by_xpath(\"//div[@class='bold fs-12 mb-5']\")\n",
    "    for j in journey:\n",
    "        date_journey.append(j.text)\n",
    "except:\n",
    "    date_journey.append(\"NONE\")"
   ]
  },
  {
   "cell_type": "code",
   "execution_count": 17,
   "id": "b18f9825",
   "metadata": {},
   "outputs": [
    {
     "data": {
      "text/plain": [
       "224"
      ]
     },
     "execution_count": 17,
     "metadata": {},
     "output_type": "execute_result"
    }
   ],
   "source": [
    "len(date_journey)"
   ]
  },
  {
   "cell_type": "code",
   "execution_count": 18,
   "id": "cbb38606",
   "metadata": {},
   "outputs": [],
   "source": [
    "journey_date=date_journey[0:107]"
   ]
  },
  {
   "cell_type": "code",
   "execution_count": 19,
   "id": "f0160710",
   "metadata": {},
   "outputs": [
    {
     "name": "stdout",
     "output_type": "stream",
     "text": [
      "107 107 107 107 107 107 107 107 107\n"
     ]
    }
   ],
   "source": [
    "print(len(airlines),len(duration),len(total_stops),len(depart_time),len(arrival_time),len(price),len(source),len(destination),len(journey_date))"
   ]
  },
  {
   "cell_type": "markdown",
   "id": "b6f40e75",
   "metadata": {},
   "source": [
    "Same source and destination with another date"
   ]
  },
  {
   "cell_type": "code",
   "execution_count": 20,
   "id": "4a1acb90",
   "metadata": {},
   "outputs": [],
   "source": [
    "#source\n",
    "source_area=driver.find_element_by_xpath(\"//input[@class='required_field cityPadRight ac_input origin_ac']\")\n",
    "time.sleep(2)\n",
    "source_area.click()"
   ]
  },
  {
   "cell_type": "code",
   "execution_count": 21,
   "id": "c8199dda",
   "metadata": {},
   "outputs": [],
   "source": [
    "#chennai\n",
    "clicks=driver.find_element_by_xpath(\"/html/body/div[2]/div/section/div[1]/div/div[1]/section/div/div/div/div[1]/div[1]/div[2]/ul/li[1]/ul/li[1]/div/div/ul/div/div/div/li[4]/div[1]/p[1]\")\n",
    "time.sleep(5)\n",
    "clicks.click()"
   ]
  },
  {
   "cell_type": "code",
   "execution_count": 22,
   "id": "49946eb5",
   "metadata": {},
   "outputs": [],
   "source": [
    "#destination\n",
    "destination_area=driver.find_element_by_xpath(\"//input[@id='BE_flight_arrival_city']\")\n",
    "time.sleep(2)\n",
    "destination_area.click()"
   ]
  },
  {
   "cell_type": "code",
   "execution_count": 23,
   "id": "1bee5a4c",
   "metadata": {},
   "outputs": [],
   "source": [
    "#selecting mumbai\n",
    "mumbai=driver.find_element_by_xpath(\"/html/body/div[2]/div/section/div[1]/div/div[1]/section/div/div/div/div[1]/div[1]/div[2]/ul/li[1]/ul/li[3]/div/div/ul/div/div/div/li[2]/div[1]/p[1]\")\n",
    "time.sleep(5)\n",
    "mumbai.click()"
   ]
  },
  {
   "cell_type": "code",
   "execution_count": 24,
   "id": "ec216b61",
   "metadata": {},
   "outputs": [],
   "source": [
    "#selecting date\n",
    "date=driver.find_element_by_xpath(\"//input[@class='custom-date-input BE_flight_origin_date']\")\n",
    "time.sleep(2)\n",
    "date.click()"
   ]
  },
  {
   "cell_type": "code",
   "execution_count": 25,
   "id": "c72392bd",
   "metadata": {},
   "outputs": [],
   "source": [
    "#clicking on particular date\n",
    "depart_date=driver.find_element_by_xpath(\"/html/body/div[2]/div/section/div[1]/div/div[1]/section/div/div/div/div[1]/div[1]/div[2]/ul/li[2]/ul/li[1]/section/div/div[2]/div[2]/div[2]/div[1]/div/div/table/tbody/tr[2]/td[5]\")\n",
    "\n",
    "chains=ActionChains(driver)\n",
    "\n",
    "time.sleep(5)\n",
    "\n",
    "chains.double_click(depart_date).perform()"
   ]
  },
  {
   "cell_type": "code",
   "execution_count": 26,
   "id": "ca63f1ab",
   "metadata": {},
   "outputs": [],
   "source": [
    "#clicking search\n",
    "search_btn=driver.find_element_by_xpath(\"//div[@class='ripple-parent search-height demo-icon icon-go']/input\")\n",
    "time.sleep(3)\n",
    "search_btn.click()"
   ]
  },
  {
   "cell_type": "code",
   "execution_count": 27,
   "id": "45724b03",
   "metadata": {},
   "outputs": [],
   "source": [
    "#airline\n",
    "airlines24=[]\n",
    "try:\n",
    "    airline24=driver.find_elements_by_xpath(\"//span[@class='i-b text ellipsis']\")\n",
    "    for air24 in airline24:\n",
    "        airlines24.append(air24.text)\n",
    "except:\n",
    "    airlines24.append(\"None\")\n",
    "\n",
    "#source\n",
    "depart24=[]\n",
    "try:\n",
    "    departs24=driver.find_elements_by_xpath(\"//p[@class='fs-10 font-lightgrey no-wrap city ellipsis']\")\n",
    "    for de24 in departs24:\n",
    "        depart24.append(de24.text)\n",
    "except:\n",
    "    depart24.append(\"None\")\n",
    "    \n",
    "#duration\n",
    "duration24=[]\n",
    "try:\n",
    "    durable24=driver.find_elements_by_xpath(\"//p[@class='fs-12 bold du mb-2']\")\n",
    "    for du24 in durable24:\n",
    "        duration24.append(du24.text)\n",
    "except:\n",
    "    duration24.append(\"none\")\n",
    "    \n",
    "#stops\n",
    "total_stops24=[]\n",
    "try:\n",
    "    stops24=driver.find_elements_by_xpath(\"//div[@class=' font-lightgrey fs-10 tipsy i-b fs-10']\")\n",
    "    for st24 in stops24:\n",
    "        total_stops24.append(st24.text)\n",
    "except:\n",
    "    total_stops24.append(\"None\")\n",
    "    \n",
    "#departure time\n",
    "depart_time24=[]\n",
    "try:\n",
    "    dep24=driver.find_elements_by_xpath(\"//div[@class='i-b pr']\")\n",
    "    for dp24 in dep24:\n",
    "        depart_time24.append(dp24.text)\n",
    "except:\n",
    "    depart_time24.append(\"None\")        \n",
    "    \n",
    "#arrival time\n",
    "arrival_time24=[]\n",
    "try:\n",
    "    arrive24=driver.find_elements_by_xpath(\"//p[@class='fs-12 bold du mb-2']\")\n",
    "    for arr24 in arrive24:\n",
    "        arrival_time24.append(arr24.text)\n",
    "except:\n",
    "    arrival_time24.append(\"None\")\n",
    "    \n",
    "#price\n",
    "price24=[]\n",
    "try:\n",
    "    ticket24=driver.find_elements_by_xpath(\"//div[@class='i-b tipsy fare-summary-tooltip fs-18']\")\n",
    "    for ti24 in ticket24:\n",
    "        price24.append(ti24.text)\n",
    "except:\n",
    "    price24.append(\"None\")"
   ]
  },
  {
   "cell_type": "code",
   "execution_count": 28,
   "id": "6be67a41",
   "metadata": {},
   "outputs": [
    {
     "name": "stdout",
     "output_type": "stream",
     "text": [
      "218 109\n"
     ]
    }
   ],
   "source": [
    "print(len(depart24),len(price24))"
   ]
  },
  {
   "cell_type": "code",
   "execution_count": 29,
   "id": "5ee0c864",
   "metadata": {},
   "outputs": [],
   "source": [
    "source24=depart24[0:218:2]\n",
    "destination24=depart24[1:218:2]"
   ]
  },
  {
   "cell_type": "code",
   "execution_count": 30,
   "id": "08aa68ce",
   "metadata": {},
   "outputs": [],
   "source": [
    "driver.current_url\n",
    "try:\n",
    "    detail=driver.find_elements_by_xpath(\"//div[@class='link-color fs-12 cursor-pointer']/span\")\n",
    "    for x in range(len(detail)):\n",
    "        time.sleep(10)\n",
    "        driver.execute_script(\"window.scrollBy(0,document.body.scrollHeight);\")\n",
    "        detail[x].click()\n",
    "except:\n",
    "    pass\n",
    "date24=[]\n",
    "try:\n",
    "    journey24=driver.find_elements_by_xpath(\"//div[@class='bold fs-12 mb-5']\")\n",
    "    for j24 in journey24:\n",
    "        date24.append(j24.text)\n",
    "except:\n",
    "    date24.append(\"NONE\")"
   ]
  },
  {
   "cell_type": "code",
   "execution_count": 31,
   "id": "28c03dcf",
   "metadata": {},
   "outputs": [
    {
     "data": {
      "text/plain": [
       "233"
      ]
     },
     "execution_count": 31,
     "metadata": {},
     "output_type": "execute_result"
    }
   ],
   "source": [
    "len(date24)"
   ]
  },
  {
   "cell_type": "code",
   "execution_count": 32,
   "id": "d5a48163",
   "metadata": {},
   "outputs": [],
   "source": [
    "journey_date24=date24[0:109]"
   ]
  },
  {
   "cell_type": "code",
   "execution_count": 33,
   "id": "e9431dff",
   "metadata": {},
   "outputs": [
    {
     "name": "stdout",
     "output_type": "stream",
     "text": [
      "109 109 109 109 109 109 109 109 109\n"
     ]
    }
   ],
   "source": [
    "print(len(airlines24),len(duration24),len(total_stops24),len(depart_time24),len(arrival_time24),len(price24),len(source24),len(destination24),len(journey_date24))"
   ]
  },
  {
   "cell_type": "code",
   "execution_count": 34,
   "id": "25cc7b63",
   "metadata": {},
   "outputs": [],
   "source": [
    "#concatenating lists\n",
    "for f in airlines24:\n",
    "    airlines.append(f)\n",
    "    \n",
    "for d in depart_time24:\n",
    "    depart_time.append(d)\n",
    "    \n",
    "for a in arrival_time24:\n",
    "    arrival_time.append(a)\n",
    "\n",
    "for j in journey_date24:\n",
    "    journey_date.append(j)\n",
    "    \n",
    "for f in duration24:\n",
    "    duration.append(f)\n",
    "    \n",
    "for s in total_stops24:\n",
    "    total_stops.append(s)\n",
    "    \n",
    "for t in price24:\n",
    "    price.append(t)\n",
    "    \n",
    "for su in source24:\n",
    "    source.append(su)\n",
    "    \n",
    "for de in destination24:\n",
    "    destination.append(de)"
   ]
  },
  {
   "cell_type": "code",
   "execution_count": 35,
   "id": "80141ce1",
   "metadata": {},
   "outputs": [
    {
     "name": "stdout",
     "output_type": "stream",
     "text": [
      "216 216 216 216 216 216 216 216 216\n"
     ]
    }
   ],
   "source": [
    "print(len(airlines),len(duration),len(total_stops),len(depart_time),len(arrival_time),len(price),len(source),len(destination),len(journey_date))"
   ]
  },
  {
   "cell_type": "markdown",
   "id": "8bdf4543",
   "metadata": {},
   "source": [
    "different source and destination"
   ]
  },
  {
   "cell_type": "markdown",
   "id": "c2cfe3e2",
   "metadata": {},
   "source": [
    "Selecting source cochin and destination srinagar"
   ]
  },
  {
   "cell_type": "code",
   "execution_count": 36,
   "id": "fb948b5c",
   "metadata": {},
   "outputs": [],
   "source": [
    "#clicking search\n",
    "search_btn=driver.find_element_by_xpath(\"//div[@class='ripple-parent search-height demo-icon icon-go']/input\")\n",
    "time.sleep(3)\n",
    "search_btn.click()"
   ]
  },
  {
   "cell_type": "code",
   "execution_count": 37,
   "id": "ce0c61b5",
   "metadata": {},
   "outputs": [],
   "source": [
    "#airline\n",
    "airlines_sri=[]\n",
    "try:\n",
    "    airline_sri=driver.find_elements_by_xpath(\"//span[@class='i-b text ellipsis']\")\n",
    "    for air_sri in airline_sri:\n",
    "        airlines_sri.append(air_sri.text)\n",
    "except:\n",
    "    airlines_sri.append(\"None\")\n",
    "\n",
    "#source\n",
    "depart_sri=[]\n",
    "try:\n",
    "    departs_sri=driver.find_elements_by_xpath(\"//p[@class='fs-10 font-lightgrey no-wrap city ellipsis']\")\n",
    "    for de_sri in departs_sri:\n",
    "        depart_sri.append(de_sri.text)\n",
    "except:\n",
    "    depart_sri.append(\"None\")\n",
    "    \n",
    "#duration\n",
    "duration_sri=[]\n",
    "try:\n",
    "    durable_sri=driver.find_elements_by_xpath(\"//p[@class='fs-12 bold du mb-2']\")\n",
    "    for du_sri in durable_sri:\n",
    "        duration_sri.append(du_sri.text)\n",
    "except:\n",
    "    duration_sri.append(\"none\")\n",
    "    \n",
    "#stops\n",
    "total_stops_sri=[]\n",
    "try:\n",
    "    stops_sri=driver.find_elements_by_xpath(\"//div[@class=' font-lightgrey fs-10 tipsy i-b fs-10']\")\n",
    "    for st_sri in stops_sri:\n",
    "        total_stops_sri.append(st_sri.text)\n",
    "except:\n",
    "    total_stops_sri.append(\"None\")\n",
    "    \n",
    "#departure time\n",
    "depart_time_sri=[]\n",
    "try:\n",
    "    dep_sri=driver.find_elements_by_xpath(\"//div[@class='i-b pr']\")\n",
    "    for dp_sri in dep_sri:\n",
    "        depart_time_sri.append(dp_sri.text)\n",
    "except:\n",
    "    depart_time_sri.append(\"None\")        \n",
    "    \n",
    "#arrival time\n",
    "arrival_time_sri=[]\n",
    "try:\n",
    "    arrive_sri=driver.find_elements_by_xpath(\"//p[@class='fs-12 bold du mb-2']\")\n",
    "    for arr_sri in arrive_sri:\n",
    "        arrival_time_sri.append(arr_sri.text)\n",
    "except:\n",
    "    arrival_time_sri.append(\"None\")\n",
    "    \n",
    "#price\n",
    "price_sri=[]\n",
    "try:\n",
    "    ticket_sri=driver.find_elements_by_xpath(\"//div[@class='i-b tipsy fare-summary-tooltip fs-18']\")\n",
    "    for ti_sri in ticket_sri:\n",
    "        price_sri.append(ti_sri.text)\n",
    "except:\n",
    "    price_sri.append(\"None\")"
   ]
  },
  {
   "cell_type": "code",
   "execution_count": 38,
   "id": "70f38269",
   "metadata": {},
   "outputs": [
    {
     "name": "stdout",
     "output_type": "stream",
     "text": [
      "34 17\n"
     ]
    }
   ],
   "source": [
    "print(len(depart_sri),len(price_sri))"
   ]
  },
  {
   "cell_type": "code",
   "execution_count": 39,
   "id": "de370c21",
   "metadata": {},
   "outputs": [],
   "source": [
    "source_sri=depart_sri[0:34:2]\n",
    "destination_sri=depart_sri[1:34:2]"
   ]
  },
  {
   "cell_type": "code",
   "execution_count": 40,
   "id": "2492dc18",
   "metadata": {},
   "outputs": [],
   "source": [
    "driver.current_url\n",
    "try:\n",
    "    detail=driver.find_elements_by_xpath(\"//div[@class='link-color fs-12 cursor-pointer']/span\")\n",
    "    for x in range(len(detail)):\n",
    "        time.sleep(10)\n",
    "        driver.execute_script(\"window.scrollBy(0,document.body.scrollHeight);\")\n",
    "        detail[x].click()\n",
    "except:\n",
    "    pass\n",
    "date_sri=[]\n",
    "try:\n",
    "    journey_sri=driver.find_elements_by_xpath(\"//div[@class='bold fs-12 mb-5']\")\n",
    "    for j_sri in journey_sri:\n",
    "        date_sri.append(j_sri.text)\n",
    "except:\n",
    "    date_sri.append(\"NONE\")"
   ]
  },
  {
   "cell_type": "code",
   "execution_count": 41,
   "id": "a3e23414",
   "metadata": {},
   "outputs": [
    {
     "data": {
      "text/plain": [
       "38"
      ]
     },
     "execution_count": 41,
     "metadata": {},
     "output_type": "execute_result"
    }
   ],
   "source": [
    "len(date_sri)"
   ]
  },
  {
   "cell_type": "code",
   "execution_count": 42,
   "id": "068dd947",
   "metadata": {},
   "outputs": [],
   "source": [
    "journey_date_sri=date_sri[0:17]"
   ]
  },
  {
   "cell_type": "code",
   "execution_count": 43,
   "id": "02786155",
   "metadata": {},
   "outputs": [
    {
     "name": "stdout",
     "output_type": "stream",
     "text": [
      "17 17 17 17 17 17 17 17 17\n"
     ]
    }
   ],
   "source": [
    "print(len(airlines_sri),len(duration_sri),len(total_stops_sri),len(depart_time_sri),len(arrival_time_sri),len(price_sri),\n",
    "      len(source_sri),len(destination_sri),len(journey_date_sri))"
   ]
  },
  {
   "cell_type": "code",
   "execution_count": 44,
   "id": "364b86c4",
   "metadata": {},
   "outputs": [],
   "source": [
    "#concatenating lists\n",
    "for f in airlines_sri:\n",
    "    airlines.append(f)\n",
    "    \n",
    "for d in depart_time_sri:\n",
    "    depart_time.append(d)\n",
    "    \n",
    "for a in arrival_time_sri:\n",
    "    arrival_time.append(a)\n",
    "\n",
    "for j in journey_date_sri:\n",
    "    journey_date.append(j)\n",
    "    \n",
    "for f in duration_sri:\n",
    "    duration.append(f)\n",
    "    \n",
    "for s in total_stops_sri:\n",
    "    total_stops.append(s)\n",
    "    \n",
    "for t in price_sri:\n",
    "    price.append(t)\n",
    "    \n",
    "for su in source_sri:\n",
    "    source.append(su)\n",
    "    \n",
    "for de in destination_sri:\n",
    "    destination.append(de)"
   ]
  },
  {
   "cell_type": "code",
   "execution_count": 45,
   "id": "89e7fbc6",
   "metadata": {},
   "outputs": [
    {
     "name": "stdout",
     "output_type": "stream",
     "text": [
      "233 233 233 233 233 233 233 233 233\n"
     ]
    }
   ],
   "source": [
    "print(len(airlines),len(duration),len(total_stops),len(depart_time),len(arrival_time),len(price),len(source),len(destination),len(journey_date))"
   ]
  },
  {
   "cell_type": "markdown",
   "id": "26de80fd",
   "metadata": {},
   "source": [
    "Bangalore to kolkata"
   ]
  },
  {
   "cell_type": "code",
   "execution_count": 47,
   "id": "71d7f7da",
   "metadata": {},
   "outputs": [],
   "source": [
    "#clicking search\n",
    "search_btn=driver.find_element_by_xpath(\"//div[@class='ripple-parent search-height demo-icon icon-go']/input\")\n",
    "time.sleep(3)\n",
    "search_btn.click()"
   ]
  },
  {
   "cell_type": "code",
   "execution_count": 60,
   "id": "8dc5075c",
   "metadata": {},
   "outputs": [],
   "source": [
    "#airline\n",
    "airlines_ban=[]\n",
    "try:\n",
    "    airline_ban=driver.find_elements_by_xpath(\"//span[@class='i-b text ellipsis']\")\n",
    "    for air_ban in airline_ban:\n",
    "        airlines_ban.append(air_ban.text)\n",
    "except:\n",
    "    airlines_ban.append(\"None\")\n",
    "\n",
    "#source\n",
    "depart_ban=[]\n",
    "try:\n",
    "    departs_ban=driver.find_elements_by_xpath(\"//p[@class='fs-10 font-lightgrey no-wrap city ellipsis']\")\n",
    "    for de_ban in departs_ban:\n",
    "        depart_ban.append(de_ban.text)\n",
    "except:\n",
    "    depart_ban.append(\"None\")\n",
    "    \n",
    "#duration\n",
    "duration_ban=[]\n",
    "try:\n",
    "    durable_ban=driver.find_elements_by_xpath(\"//p[@class='fs-12 bold du mb-2']\")\n",
    "    for du_ban in durable_ban:\n",
    "        duration_ban.append(du_ban.text)\n",
    "except:\n",
    "    duration_ban.append(\"none\")\n",
    "    \n",
    "#stops\n",
    "total_stops_ban=[]\n",
    "try:\n",
    "    stops_ban=driver.find_elements_by_xpath(\"//div[@class=' font-lightgrey fs-10 tipsy i-b fs-10']\")\n",
    "    for st_ban in stops_ban:\n",
    "        total_stops_ban.append(st_ban.text)\n",
    "except:\n",
    "    total_stops_ban.append(\"None\")\n",
    "    \n",
    "#departure time\n",
    "depart_time_ban=[]\n",
    "try:\n",
    "    dep_ban=driver.find_elements_by_xpath(\"//div[@class='i-b pr']\")\n",
    "    for dp_ban in dep_ban:\n",
    "        depart_time_ban.append(dp_ban.text)\n",
    "except:\n",
    "    depart_time_ban.append(\"None\")        \n",
    "    \n",
    "#arrival time\n",
    "arrival_time_ban=[]\n",
    "try:\n",
    "    arrive_ban=driver.find_elements_by_xpath(\"//p[@class='fs-12 bold du mb-2']\")\n",
    "    for arr_ban in arrive_ban:\n",
    "        arrival_time_ban.append(arr_ban.text)\n",
    "except:\n",
    "    arrival_time_ban.append(\"None\")\n",
    "    \n",
    "#price\n",
    "price_ban=[]\n",
    "try:\n",
    "    ticket_ban=driver.find_elements_by_xpath(\"//div[@class='i-b tipsy fare-summary-tooltip fs-18']\")\n",
    "    for ti_ban in ticket_ban:\n",
    "        price_ban.append(ti_ban.text)\n",
    "except:\n",
    "    price_ban.append(\"None\")"
   ]
  },
  {
   "cell_type": "code",
   "execution_count": 52,
   "id": "03fdba51",
   "metadata": {},
   "outputs": [
    {
     "name": "stdout",
     "output_type": "stream",
     "text": [
      "129 258\n"
     ]
    }
   ],
   "source": [
    "print(len(price_ban),len(depart_ban))"
   ]
  },
  {
   "cell_type": "code",
   "execution_count": 53,
   "id": "25df77a8",
   "metadata": {},
   "outputs": [],
   "source": [
    "source_ban=depart_ban[0:258:2]\n",
    "destination_ban=depart_ban[1:258:2]"
   ]
  },
  {
   "cell_type": "code",
   "execution_count": 54,
   "id": "59ebab6f",
   "metadata": {},
   "outputs": [],
   "source": [
    "driver.current_url\n",
    "try:\n",
    "    detail=driver.find_elements_by_xpath(\"//div[@class='link-color fs-12 cursor-pointer']/span\")\n",
    "    for x in range(len(detail)):\n",
    "        time.sleep(10)\n",
    "        driver.execute_script(\"window.scrollBy(0,document.body.scrollHeight);\")\n",
    "        detail[x].click()\n",
    "except:\n",
    "    pass\n",
    "dateban=[]\n",
    "try:\n",
    "    journeyban=driver.find_elements_by_xpath(\"//div[@class='bold fs-12 mb-5']\")\n",
    "    for jban in journeyban:\n",
    "        dateban.append(jban.text)\n",
    "except:\n",
    "    dateban.append(\"NONE\")"
   ]
  },
  {
   "cell_type": "code",
   "execution_count": 55,
   "id": "4e7c3de2",
   "metadata": {},
   "outputs": [
    {
     "data": {
      "text/plain": [
       "252"
      ]
     },
     "execution_count": 55,
     "metadata": {},
     "output_type": "execute_result"
    }
   ],
   "source": [
    "len(dateban)"
   ]
  },
  {
   "cell_type": "code",
   "execution_count": 56,
   "id": "df0bf5f5",
   "metadata": {},
   "outputs": [],
   "source": [
    "journey_date_ban=dateban[0:129]"
   ]
  },
  {
   "cell_type": "code",
   "execution_count": 61,
   "id": "425b93dc",
   "metadata": {},
   "outputs": [
    {
     "name": "stdout",
     "output_type": "stream",
     "text": [
      "129 129 129 129 129 129 129 129 129\n"
     ]
    }
   ],
   "source": [
    "print(len(airlines_ban),len(duration_ban),len(total_stops_ban),len(depart_time_ban),len(arrival_time_ban),len(price_ban),\n",
    "      len(source_ban),len(destination_ban),len(journey_date_ban))"
   ]
  },
  {
   "cell_type": "code",
   "execution_count": 62,
   "id": "1196af9a",
   "metadata": {},
   "outputs": [],
   "source": [
    "#concatenating lists\n",
    "for f in airlines_ban:\n",
    "    airlines.append(f)\n",
    "    \n",
    "for d in depart_time_ban:\n",
    "    depart_time.append(d)\n",
    "    \n",
    "for a in arrival_time_ban:\n",
    "    arrival_time.append(a)\n",
    "\n",
    "for j in journey_date_ban:\n",
    "    journey_date.append(j)\n",
    "    \n",
    "for f in duration_ban:\n",
    "    duration.append(f)\n",
    "    \n",
    "for s in total_stops_ban:\n",
    "    total_stops.append(s)\n",
    "    \n",
    "for t in price_ban:\n",
    "    price.append(t)\n",
    "    \n",
    "for su in source_ban:\n",
    "    source.append(su)\n",
    "    \n",
    "for de in destination_ban:\n",
    "    destination.append(de)"
   ]
  },
  {
   "cell_type": "code",
   "execution_count": 63,
   "id": "050c233c",
   "metadata": {},
   "outputs": [
    {
     "name": "stdout",
     "output_type": "stream",
     "text": [
      "362 362 362 362 362 362 362 362 362\n"
     ]
    }
   ],
   "source": [
    "print(len(airlines),len(duration),len(total_stops),len(depart_time),len(arrival_time),len(price),len(source),len(destination),len(journey_date))"
   ]
  },
  {
   "cell_type": "markdown",
   "id": "130cd113",
   "metadata": {},
   "source": [
    "Same source and destination with differenet date"
   ]
  },
  {
   "cell_type": "code",
   "execution_count": 64,
   "id": "82254062",
   "metadata": {},
   "outputs": [],
   "source": [
    "#clicking search\n",
    "search_btn=driver.find_element_by_xpath(\"//div[@class='ripple-parent search-height demo-icon icon-go']/input\")\n",
    "time.sleep(3)\n",
    "search_btn.click()"
   ]
  },
  {
   "cell_type": "code",
   "execution_count": 65,
   "id": "10f8c8da",
   "metadata": {},
   "outputs": [],
   "source": [
    "#airline\n",
    "airlines21=[]\n",
    "try:\n",
    "    airline21=driver.find_elements_by_xpath(\"//span[@class='i-b text ellipsis']\")\n",
    "    for air21 in airline21:\n",
    "        airlines21.append(air21.text)\n",
    "except:\n",
    "    airlines21.append(\"None\")\n",
    "\n",
    "#source\n",
    "depart21=[]\n",
    "try:\n",
    "    departs21=driver.find_elements_by_xpath(\"//p[@class='fs-10 font-lightgrey no-wrap city ellipsis']\")\n",
    "    for de21 in departs21:\n",
    "        depart21.append(de21.text)\n",
    "except:\n",
    "    depart21.append(\"None\")\n",
    "    \n",
    "#duration\n",
    "duration21=[]\n",
    "try:\n",
    "    durable21=driver.find_elements_by_xpath(\"//p[@class='fs-12 bold du mb-2']\")\n",
    "    for du21 in durable21:\n",
    "        duration21.append(du21.text)\n",
    "except:\n",
    "    duration21.append(\"none\")\n",
    "    \n",
    "#stops\n",
    "total_stops21=[]\n",
    "try:\n",
    "    stops21=driver.find_elements_by_xpath(\"//div[@class=' font-lightgrey fs-10 tipsy i-b fs-10']\")\n",
    "    for st21 in stops21:\n",
    "        total_stops21.append(st21.text)\n",
    "except:\n",
    "    total_stops21.append(\"None\")\n",
    "    \n",
    "#departure time\n",
    "depart_time21=[]\n",
    "try:\n",
    "    dep21=driver.find_elements_by_xpath(\"//div[@class='i-b pr']\")\n",
    "    for dp21 in dep21:\n",
    "        depart_time21.append(dp21.text)\n",
    "except:\n",
    "    depart_time21.append(\"None\")        \n",
    "    \n",
    "#arrival time\n",
    "arrival_time21=[]\n",
    "try:\n",
    "    arrive21=driver.find_elements_by_xpath(\"//p[@class='fs-12 bold du mb-2']\")\n",
    "    for arr21 in arrive21:\n",
    "        arrival_time21.append(arr21.text)\n",
    "except:\n",
    "    arrival_time21.append(\"None\")\n",
    "    \n",
    "#price\n",
    "price21=[]\n",
    "try:\n",
    "    ticket21=driver.find_elements_by_xpath(\"//div[@class='i-b tipsy fare-summary-tooltip fs-18']\")\n",
    "    for ti21 in ticket21:\n",
    "        price21.append(ti21.text)\n",
    "except:\n",
    "    price21.append(\"None\")"
   ]
  },
  {
   "cell_type": "code",
   "execution_count": 66,
   "id": "f3b7d94b",
   "metadata": {},
   "outputs": [
    {
     "name": "stdout",
     "output_type": "stream",
     "text": [
      "127 254\n"
     ]
    }
   ],
   "source": [
    "print(len(price21),len(depart21))"
   ]
  },
  {
   "cell_type": "code",
   "execution_count": 67,
   "id": "620dc287",
   "metadata": {},
   "outputs": [],
   "source": [
    "source21=depart21[0:254:2]\n",
    "destination21=depart21[1:254:2]"
   ]
  },
  {
   "cell_type": "code",
   "execution_count": 68,
   "id": "a04fe72f",
   "metadata": {},
   "outputs": [],
   "source": [
    "driver.current_url\n",
    "try:\n",
    "    detail=driver.find_elements_by_xpath(\"//div[@class='link-color fs-12 cursor-pointer']/span\")\n",
    "    for x in range(len(detail)):\n",
    "        time.sleep(10)\n",
    "        driver.execute_script(\"window.scrollBy(0,document.body.scrollHeight);\")\n",
    "        detail[x].click()\n",
    "except:\n",
    "    pass\n",
    "date21=[]\n",
    "try:\n",
    "    journey21=driver.find_elements_by_xpath(\"//div[@class='bold fs-12 mb-5']\")\n",
    "    for j21 in journey21:\n",
    "        date21.append(j21.text)\n",
    "except:\n",
    "    date21.append(\"NONE\")"
   ]
  },
  {
   "cell_type": "code",
   "execution_count": 69,
   "id": "05078df5",
   "metadata": {},
   "outputs": [
    {
     "data": {
      "text/plain": [
       "252"
      ]
     },
     "execution_count": 69,
     "metadata": {},
     "output_type": "execute_result"
    }
   ],
   "source": [
    "len(date21)"
   ]
  },
  {
   "cell_type": "code",
   "execution_count": 70,
   "id": "7dc46f93",
   "metadata": {},
   "outputs": [],
   "source": [
    "journey_date21=date21[0:127]"
   ]
  },
  {
   "cell_type": "code",
   "execution_count": 71,
   "id": "bd2b64cc",
   "metadata": {},
   "outputs": [
    {
     "name": "stdout",
     "output_type": "stream",
     "text": [
      "127 127 127 127 127 127 127 127 127\n"
     ]
    }
   ],
   "source": [
    "print(len(airlines21),len(duration21),len(total_stops21),len(depart_time21),len(arrival_time21),len(price21),\n",
    "      len(source21),len(destination21),len(journey_date21))"
   ]
  },
  {
   "cell_type": "code",
   "execution_count": 72,
   "id": "54ca3dab",
   "metadata": {},
   "outputs": [],
   "source": [
    "#concatenating lists\n",
    "for f in airlines21:\n",
    "    airlines.append(f)\n",
    "    \n",
    "for d in depart_time21:\n",
    "    depart_time.append(d)\n",
    "    \n",
    "for a in arrival_time21:\n",
    "    arrival_time.append(a)\n",
    "\n",
    "for j in journey_date21:\n",
    "    journey_date.append(j)\n",
    "    \n",
    "for f in duration21:\n",
    "    duration.append(f)\n",
    "    \n",
    "for s in total_stops21:\n",
    "    total_stops.append(s)\n",
    "    \n",
    "for t in price21:\n",
    "    price.append(t)\n",
    "    \n",
    "for su in source21:\n",
    "    source.append(su)\n",
    "    \n",
    "for de in destination21:\n",
    "    destination.append(de)"
   ]
  },
  {
   "cell_type": "code",
   "execution_count": 73,
   "id": "a2781dc7",
   "metadata": {},
   "outputs": [
    {
     "name": "stdout",
     "output_type": "stream",
     "text": [
      "489 489 489 489 489 489 489 489 489\n"
     ]
    }
   ],
   "source": [
    "print(len(airlines),len(duration),len(total_stops),len(depart_time),len(arrival_time),len(price),len(source),len(destination),len(journey_date))"
   ]
  },
  {
   "cell_type": "markdown",
   "id": "7fc413c2",
   "metadata": {},
   "source": [
    "hyderabad to delhi"
   ]
  },
  {
   "cell_type": "code",
   "execution_count": 74,
   "id": "e38e332b",
   "metadata": {},
   "outputs": [],
   "source": [
    "#clicking search\n",
    "search_btn=driver.find_element_by_xpath(\"//div[@class='ripple-parent search-height demo-icon icon-go']/input\")\n",
    "time.sleep(3)\n",
    "search_btn.click()"
   ]
  },
  {
   "cell_type": "code",
   "execution_count": 77,
   "id": "89f20013",
   "metadata": {},
   "outputs": [],
   "source": [
    "#airline\n",
    "airlineshy=[]\n",
    "try:\n",
    "    airlinehy=driver.find_elements_by_xpath(\"//span[@class='i-b text ellipsis']\")\n",
    "    for airhy in airlinehy:\n",
    "        airlineshy.append(airhy.text)\n",
    "except:\n",
    "    airlineshy.append(\"None\")\n",
    "\n",
    "#source\n",
    "departhy=[]\n",
    "try:\n",
    "    departshy=driver.find_elements_by_xpath(\"//p[@class='fs-10 font-lightgrey no-wrap city ellipsis']\")\n",
    "    for dehy in departshy:\n",
    "        departhy.append(dehy.text)\n",
    "except:\n",
    "    departhy.append(\"None\")\n",
    "    \n",
    "#duration\n",
    "durationhy=[]\n",
    "try:\n",
    "    durablehy=driver.find_elements_by_xpath(\"//p[@class='fs-12 bold du mb-2']\")\n",
    "    for duhy in durablehy:\n",
    "        durationhy.append(duhy.text)\n",
    "except:\n",
    "    durationhy.append(\"none\")\n",
    "    \n",
    "#stops\n",
    "total_stopshy=[]\n",
    "try:\n",
    "    stopshy=driver.find_elements_by_xpath(\"//div[@class=' font-lightgrey fs-10 tipsy i-b fs-10']\")\n",
    "    for sthy in stopshy:\n",
    "        total_stopshy.append(sthy.text)\n",
    "except:\n",
    "    total_stopshy.append(\"None\")\n",
    "    \n",
    "#departure time\n",
    "depart_timehy=[]\n",
    "try:\n",
    "    dephy=driver.find_elements_by_xpath(\"//div[@class='i-b pr']\")\n",
    "    for dphy in dephy:\n",
    "        depart_timehy.append(dphy.text)\n",
    "except:\n",
    "    depart_timehy.append(\"None\")     \n",
    "    \n",
    "#arrival time\n",
    "arrival_timehy=[]\n",
    "try:\n",
    "    arriverhy=driver.find_elements_by_xpath(\"//p[@class='fs-12 bold du mb-2']\")\n",
    "    for arrhy in arriverhy:\n",
    "        arrival_timehy.append(arrhy.text)\n",
    "except:\n",
    "    arrival.timehy.append(\"None\")\n",
    "    \n",
    "#price\n",
    "pricehy=[]\n",
    "try:\n",
    "    tickethy=driver.find_elements_by_xpath(\"//div[@class='i-b tipsy fare-summary-tooltip fs-18']\")\n",
    "    for tihy in tickethy:\n",
    "        pricehy.append(tihy.text)\n",
    "except:\n",
    "    pricehy.append(\"None\")\n",
    "    "
   ]
  },
  {
   "cell_type": "code",
   "execution_count": 78,
   "id": "c6962d7a",
   "metadata": {},
   "outputs": [
    {
     "name": "stdout",
     "output_type": "stream",
     "text": [
      "109 218\n"
     ]
    }
   ],
   "source": [
    "print(len(pricehy),len(departhy))"
   ]
  },
  {
   "cell_type": "code",
   "execution_count": 79,
   "id": "32b3b402",
   "metadata": {},
   "outputs": [],
   "source": [
    "sourcehy=departhy[0:218:2]\n",
    "destinationhy=departhy[1:218:2]"
   ]
  },
  {
   "cell_type": "code",
   "execution_count": 80,
   "id": "4f98e38e",
   "metadata": {},
   "outputs": [],
   "source": [
    "driver.current_url\n",
    "try:\n",
    "    detail=driver.find_elements_by_xpath(\"//div[@class='link-color fs-12 cursor-pointer']/span\")\n",
    "    for x in range(len(detail)):\n",
    "        time.sleep(10)\n",
    "        driver.execute_script(\"window.scrollBy(0,document.body.scrollHeight);\")\n",
    "        detail[x].click()\n",
    "except:\n",
    "    pass\n",
    "datehy=[]\n",
    "try:\n",
    "    journeyhy=driver.find_elements_by_xpath(\"//div[@class='bold fs-12 mb-5']\")\n",
    "    for jhy in journeyhy:\n",
    "        datehy.append(jhy.text)\n",
    "except:\n",
    "    datehy.append(\"NONE\")"
   ]
  },
  {
   "cell_type": "code",
   "execution_count": 81,
   "id": "05044503",
   "metadata": {},
   "outputs": [
    {
     "data": {
      "text/plain": [
       "210"
      ]
     },
     "execution_count": 81,
     "metadata": {},
     "output_type": "execute_result"
    }
   ],
   "source": [
    "len(datehy)"
   ]
  },
  {
   "cell_type": "code",
   "execution_count": 84,
   "id": "eaca3bcf",
   "metadata": {},
   "outputs": [],
   "source": [
    "journey_datehy=datehy[0:109]"
   ]
  },
  {
   "cell_type": "code",
   "execution_count": 85,
   "id": "3262cb4c",
   "metadata": {},
   "outputs": [
    {
     "name": "stdout",
     "output_type": "stream",
     "text": [
      "109 109 109 109 109 109 109 109 109\n"
     ]
    }
   ],
   "source": [
    "print(len(airlineshy),len(durationhy),len(total_stopshy),len(depart_timehy),len(arrival_timehy),len(pricehy),\n",
    "      len(sourcehy),len(destinationhy),len(journey_datehy))"
   ]
  },
  {
   "cell_type": "code",
   "execution_count": 86,
   "id": "d97d3f4a",
   "metadata": {},
   "outputs": [],
   "source": [
    "#concatenating lists\n",
    "for f in airlineshy:\n",
    "    airlines.append(f)\n",
    "    \n",
    "for d in depart_timehy:\n",
    "    depart_time.append(d)\n",
    "    \n",
    "for a in arrival_timehy:\n",
    "    arrival_time.append(a)\n",
    "\n",
    "for j in journey_datehy:\n",
    "    journey_date.append(j)\n",
    "    \n",
    "for f in durationhy:\n",
    "    duration.append(f)\n",
    "    \n",
    "for s in total_stopshy:\n",
    "    total_stops.append(s)\n",
    "    \n",
    "for t in pricehy:\n",
    "    price.append(t)\n",
    "    \n",
    "for su in sourcehy:\n",
    "    source.append(su)\n",
    "    \n",
    "for de in destinationhy:\n",
    "    destination.append(de)"
   ]
  },
  {
   "cell_type": "code",
   "execution_count": 87,
   "id": "578125ff",
   "metadata": {},
   "outputs": [
    {
     "name": "stdout",
     "output_type": "stream",
     "text": [
      "598 598 598 598 598 598 598 598 598\n"
     ]
    }
   ],
   "source": [
    "print(len(airlines),len(duration),len(total_stops),len(depart_time),len(arrival_time),len(price),len(source),len(destination),len(journey_date))"
   ]
  },
  {
   "cell_type": "markdown",
   "id": "bc5a7c60",
   "metadata": {},
   "source": [
    "same source and destination with differen date"
   ]
  },
  {
   "cell_type": "code",
   "execution_count": 88,
   "id": "e082c685",
   "metadata": {},
   "outputs": [],
   "source": [
    "#airline\n",
    "airlines26=[]\n",
    "try:\n",
    "    airline26=driver.find_elements_by_xpath(\"//span[@class='i-b text ellipsis']\")\n",
    "    for air26 in airline26:\n",
    "        airlines26.append(air26.text)\n",
    "except:\n",
    "    airlines26.append(\"None\")\n",
    "\n",
    "#source\n",
    "depart26=[]\n",
    "try:\n",
    "    departs26=driver.find_elements_by_xpath(\"//p[@class='fs-10 font-lightgrey no-wrap city ellipsis']\")\n",
    "    for de26 in departs26:\n",
    "        depart26.append(de26.text)\n",
    "except:\n",
    "    depart26.append(\"None\")\n",
    "    \n",
    "#duration\n",
    "duration26=[]\n",
    "try:\n",
    "    durable26=driver.find_elements_by_xpath(\"//p[@class='fs-12 bold du mb-2']\")\n",
    "    for du26 in durable26:\n",
    "        duration26.append(du26.text)\n",
    "except:\n",
    "    duration26.append(\"none\")\n",
    "    \n",
    "#stops\n",
    "total_stops26=[]\n",
    "try:\n",
    "    stops26=driver.find_elements_by_xpath(\"//div[@class=' font-lightgrey fs-10 tipsy i-b fs-10']\")\n",
    "    for st26 in stops26:\n",
    "        total_stops26.append(st26.text)\n",
    "except:\n",
    "    total_stops26.append(\"None\")\n",
    "    \n",
    "#departure time\n",
    "depart_time26=[]\n",
    "try:\n",
    "    dep26=driver.find_elements_by_xpath(\"//div[@class='i-b pr']\")\n",
    "    for dp26 in dep26:\n",
    "        depart_time26.append(dp26.text)\n",
    "except:\n",
    "    depart_time26.append(\"None\")        \n",
    "    \n",
    "#arrival time\n",
    "arrival_time26=[]\n",
    "try:\n",
    "    arrive26=driver.find_elements_by_xpath(\"//p[@class='fs-12 bold du mb-2']\")\n",
    "    for arr26 in arrive26:\n",
    "        arrival_time26.append(arr26.text)\n",
    "except:\n",
    "    arrival_time26.append(\"None\")\n",
    "    \n",
    "#price\n",
    "price26=[]\n",
    "try:\n",
    "    ticket26=driver.find_elements_by_xpath(\"//div[@class='i-b tipsy fare-summary-tooltip fs-18']\")\n",
    "    for ti26 in ticket26:\n",
    "        price26.append(ti26.text)\n",
    "except:\n",
    "    price26.append(\"None\")"
   ]
  },
  {
   "cell_type": "code",
   "execution_count": 89,
   "id": "5d4d47c4",
   "metadata": {},
   "outputs": [
    {
     "name": "stdout",
     "output_type": "stream",
     "text": [
      "108 216\n"
     ]
    }
   ],
   "source": [
    "print(len(price26),len(depart26))"
   ]
  },
  {
   "cell_type": "code",
   "execution_count": 90,
   "id": "9067e29e",
   "metadata": {},
   "outputs": [],
   "source": [
    "source26=depart26[0:216:2]\n",
    "destination26=depart[1:216:2]"
   ]
  },
  {
   "cell_type": "code",
   "execution_count": 93,
   "id": "5ea1fd47",
   "metadata": {},
   "outputs": [],
   "source": [
    "driver.current_url\n",
    "try:\n",
    "    detail=driver.find_elements_by_xpath(\"//div[@class='link-color fs-12 cursor-pointer']/span\")\n",
    "    for x in range(len(detail)):\n",
    "        time.sleep(10)\n",
    "        driver.execute_script(\"window.scrollBy(0,document.body.scrollHeight);\")\n",
    "        detail[x].click()\n",
    "except:\n",
    "    pass\n",
    "date26=[]\n",
    "try:\n",
    "    journey26=driver.find_elements_by_xpath(\"//div[@class='bold fs-12 mb-5']\")\n",
    "    for j26 in journey26:\n",
    "        date26.append(j26.text)\n",
    "except:\n",
    "    date26.append(\"NONE\")"
   ]
  },
  {
   "cell_type": "code",
   "execution_count": 94,
   "id": "efe690f5",
   "metadata": {},
   "outputs": [
    {
     "data": {
      "text/plain": [
       "209"
      ]
     },
     "execution_count": 94,
     "metadata": {},
     "output_type": "execute_result"
    }
   ],
   "source": [
    "len(date26)"
   ]
  },
  {
   "cell_type": "code",
   "execution_count": 95,
   "id": "a0eef2ac",
   "metadata": {},
   "outputs": [],
   "source": [
    "journey_date26=date26[0:108]"
   ]
  },
  {
   "cell_type": "code",
   "execution_count": 96,
   "id": "b8e006c8",
   "metadata": {},
   "outputs": [
    {
     "name": "stdout",
     "output_type": "stream",
     "text": [
      "108 108 108 108 108 108 108 107 108\n"
     ]
    }
   ],
   "source": [
    "print(len(airlines26),len(duration26),len(total_stops26),len(depart_time26),len(arrival_time26),len(price26),\n",
    "      len(source26),len(destination26),len(journey_date26))"
   ]
  },
  {
   "cell_type": "code",
   "execution_count": 97,
   "id": "5235007c",
   "metadata": {},
   "outputs": [],
   "source": [
    "#concatenating lists\n",
    "for f in airlines26:\n",
    "    airlines.append(f)\n",
    "    \n",
    "for d in depart_time26:\n",
    "    depart_time.append(d)\n",
    "    \n",
    "for a in arrival_time26:\n",
    "    arrival_time.append(a)\n",
    "\n",
    "for j in journey_date26:\n",
    "    journey_date.append(j)\n",
    "    \n",
    "for f in duration26:\n",
    "    duration.append(f)\n",
    "    \n",
    "for s in total_stops26:\n",
    "    total_stops.append(s)\n",
    "    \n",
    "for t in price26:\n",
    "    price.append(t)\n",
    "    \n",
    "for su in source26:\n",
    "    source.append(su)\n",
    "    \n",
    "for de in destination26:\n",
    "    destination.append(de)"
   ]
  },
  {
   "cell_type": "code",
   "execution_count": 98,
   "id": "03094eee",
   "metadata": {},
   "outputs": [
    {
     "name": "stdout",
     "output_type": "stream",
     "text": [
      "706 706 706 706 706 706 706 705 706\n"
     ]
    }
   ],
   "source": [
    "print(len(airlines),len(duration),len(total_stops),len(depart_time),len(arrival_time),len(price),len(source),len(destination),len(journey_date))"
   ]
  },
  {
   "cell_type": "markdown",
   "id": "6e6dce69",
   "metadata": {},
   "source": [
    "Hyderabad to pune"
   ]
  },
  {
   "cell_type": "code",
   "execution_count": 99,
   "id": "ee04f4d4",
   "metadata": {},
   "outputs": [],
   "source": [
    "#airline\n",
    "airlineshy=[]\n",
    "try:\n",
    "    airlinehy=driver.find_elements_by_xpath(\"//span[@class='i-b text ellipsis']\")\n",
    "    for airhy in airlinehy:\n",
    "        airlineshy.append(airhy.text)\n",
    "except:\n",
    "    airlineshy.append(\"None\")\n",
    "\n",
    "#source\n",
    "departhy=[]\n",
    "try:\n",
    "    departshy=driver.find_elements_by_xpath(\"//p[@class='fs-10 font-lightgrey no-wrap city ellipsis']\")\n",
    "    for dehy in departshy:\n",
    "        departhy.append(dehy.text)\n",
    "except:\n",
    "    departhy.append(\"None\")\n",
    "    \n",
    "#duration\n",
    "durationhy=[]\n",
    "try:\n",
    "    durablehy=driver.find_elements_by_xpath(\"//p[@class='fs-12 bold du mb-2']\")\n",
    "    for duhy in durablehy:\n",
    "        durationhy.append(duhy.text)\n",
    "except:\n",
    "    durationhy.append(\"none\")\n",
    "    \n",
    "#stops\n",
    "total_stopshy=[]\n",
    "try:\n",
    "    stopshy=driver.find_elements_by_xpath(\"//div[@class=' font-lightgrey fs-10 tipsy i-b fs-10']\")\n",
    "    for sthy in stopshy:\n",
    "        total_stopshy.append(sthy.text)\n",
    "except:\n",
    "    total_stopshy.append(\"None\")\n",
    "    \n",
    "#departure time\n",
    "depart_timehy=[]\n",
    "try:\n",
    "    dephy=driver.find_elements_by_xpath(\"//div[@class='i-b pr']\")\n",
    "    for dphy in dephy:\n",
    "        depart_timehy.append(dphy.text)\n",
    "except:\n",
    "    depart_timehy.append(\"None\")     \n",
    "    \n",
    "#arrival time\n",
    "arrival_timehy=[]\n",
    "try:\n",
    "    arriverhy=driver.find_elements_by_xpath(\"//p[@class='fs-12 bold du mb-2']\")\n",
    "    for arrhy in arriverhy:\n",
    "        arrival_timehy.append(arrhy.text)\n",
    "except:\n",
    "    arrival.timehy.append(\"None\")\n",
    "    \n",
    "#price\n",
    "pricehy=[]\n",
    "try:\n",
    "    tickethy=driver.find_elements_by_xpath(\"//div[@class='i-b tipsy fare-summary-tooltip fs-18']\")\n",
    "    for tihy in tickethy:\n",
    "        pricehy.append(tihy.text)\n",
    "except:\n",
    "    pricehy.append(\"None\")"
   ]
  },
  {
   "cell_type": "code",
   "execution_count": 100,
   "id": "e8a0bb37",
   "metadata": {},
   "outputs": [
    {
     "name": "stdout",
     "output_type": "stream",
     "text": [
      "34 68\n"
     ]
    }
   ],
   "source": [
    "print(len(pricehy),len(departhy))"
   ]
  },
  {
   "cell_type": "code",
   "execution_count": 101,
   "id": "f753f6a2",
   "metadata": {},
   "outputs": [],
   "source": [
    "sourcehy=departhy[0:68:2]\n",
    "destinationhy=departhy[1:68:2]"
   ]
  },
  {
   "cell_type": "code",
   "execution_count": 102,
   "id": "2e2dfaed",
   "metadata": {},
   "outputs": [],
   "source": [
    "driver.current_url\n",
    "try:\n",
    "    detail=driver.find_elements_by_xpath(\"//div[@class='link-color fs-12 cursor-pointer']/span\")\n",
    "    for x in range(len(detail)):\n",
    "        time.sleep(10)\n",
    "        driver.execute_script(\"window.scrollBy(0,document.body.scrollHeight);\")\n",
    "        detail[x].click()\n",
    "except:\n",
    "    pass\n",
    "date26=[]\n",
    "try:\n",
    "    journey26=driver.find_elements_by_xpath(\"//div[@class='bold fs-12 mb-5']\")\n",
    "    for j26 in journey26:\n",
    "        date26.append(j26.text)\n",
    "except:\n",
    "    date26.append(\"NONE\")"
   ]
  },
  {
   "cell_type": "code",
   "execution_count": 103,
   "id": "3727c239",
   "metadata": {},
   "outputs": [
    {
     "data": {
      "text/plain": [
       "80"
      ]
     },
     "execution_count": 103,
     "metadata": {},
     "output_type": "execute_result"
    }
   ],
   "source": [
    "len(date26)"
   ]
  },
  {
   "cell_type": "code",
   "execution_count": 104,
   "id": "af8beb96",
   "metadata": {},
   "outputs": [],
   "source": [
    "journey_datehy=date26[0:34]"
   ]
  },
  {
   "cell_type": "code",
   "execution_count": 105,
   "id": "c5b8245e",
   "metadata": {},
   "outputs": [
    {
     "name": "stdout",
     "output_type": "stream",
     "text": [
      "34 34 34 34 34 34 34 34 34\n"
     ]
    }
   ],
   "source": [
    "print(len(airlineshy),len(durationhy),len(total_stopshy),len(depart_timehy),len(arrival_timehy),len(pricehy),\n",
    "      len(sourcehy),len(destinationhy),len(journey_datehy))"
   ]
  },
  {
   "cell_type": "code",
   "execution_count": 106,
   "id": "76c77352",
   "metadata": {},
   "outputs": [],
   "source": [
    "#concatenating lists\n",
    "for f in airlineshy:\n",
    "    airlines.append(f)\n",
    "    \n",
    "for d in depart_timehy:\n",
    "    depart_time.append(d)\n",
    "    \n",
    "for a in arrival_timehy:\n",
    "    arrival_time.append(a)\n",
    "\n",
    "for j in journey_datehy:\n",
    "    journey_date.append(j)\n",
    "    \n",
    "for f in durationhy:\n",
    "    duration.append(f)\n",
    "    \n",
    "for s in total_stopshy:\n",
    "    total_stops.append(s)\n",
    "    \n",
    "for t in pricehy:\n",
    "    price.append(t)\n",
    "    \n",
    "for su in sourcehy:\n",
    "    source.append(su)\n",
    "    \n",
    "for de in destinationhy:\n",
    "    destination.append(de)"
   ]
  },
  {
   "cell_type": "code",
   "execution_count": 107,
   "id": "1207df50",
   "metadata": {},
   "outputs": [
    {
     "name": "stdout",
     "output_type": "stream",
     "text": [
      "740 740 740 740 740 740 740 739 740\n"
     ]
    }
   ],
   "source": [
    "print(len(airlines),len(duration),len(total_stops),len(depart_time),len(arrival_time),len(price),len(source),len(destination),len(journey_date))"
   ]
  },
  {
   "cell_type": "markdown",
   "id": "b6c797b3",
   "metadata": {},
   "source": [
    "Same source and destination with different date"
   ]
  },
  {
   "cell_type": "code",
   "execution_count": 111,
   "id": "c0ad6fe8",
   "metadata": {},
   "outputs": [],
   "source": [
    "#airline\n",
    "airlineshy=[]\n",
    "try:\n",
    "    airlinehy=driver.find_elements_by_xpath(\"//span[@class='i-b text ellipsis']\")\n",
    "    for airhy in airlinehy:\n",
    "        airlineshy.append(airhy.text)\n",
    "except:\n",
    "    airlineshy.append(\"None\")\n",
    "\n",
    "#source\n",
    "departhy=[]\n",
    "try:\n",
    "    departshy=driver.find_elements_by_xpath(\"//p[@class='fs-10 font-lightgrey no-wrap city ellipsis']\")\n",
    "    for dehy in departshy:\n",
    "        departhy.append(dehy.text)\n",
    "except:\n",
    "    departhy.append(\"None\")\n",
    "    \n",
    "#duration\n",
    "durationhy=[]\n",
    "try:\n",
    "    durablehy=driver.find_elements_by_xpath(\"//p[@class='fs-12 bold du mb-2']\")\n",
    "    for duhy in durablehy:\n",
    "        durationhy.append(duhy.text)\n",
    "except:\n",
    "    durationhy.append(\"none\")\n",
    "    \n",
    "#stops\n",
    "total_stopshy=[]\n",
    "try:\n",
    "    stopshy=driver.find_elements_by_xpath(\"//div[@class=' font-lightgrey fs-10 tipsy i-b fs-10']\")\n",
    "    for sthy in stopshy:\n",
    "        total_stopshy.append(sthy.text)\n",
    "except:\n",
    "    total_stopshy.append(\"None\")\n",
    "    \n",
    "#departure time\n",
    "depart_timehy=[]\n",
    "try:\n",
    "    dephy=driver.find_elements_by_xpath(\"//div[@class='i-b pr']\")\n",
    "    for dphy in dephy:\n",
    "        depart_timehy.append(dphy.text)\n",
    "except:\n",
    "    depart_timehy.append(\"None\")     \n",
    "    \n",
    "#arrival time\n",
    "arrival_timehy=[]\n",
    "try:\n",
    "    arriverhy=driver.find_elements_by_xpath(\"//p[@class='fs-12 bold du mb-2']\")\n",
    "    for arrhy in arriverhy:\n",
    "        arrival_timehy.append(arrhy.text)\n",
    "except:\n",
    "    arrival.timehy.append(\"None\")\n",
    "    \n",
    "#price\n",
    "pricehy=[]\n",
    "try:\n",
    "    tickethy=driver.find_elements_by_xpath(\"//div[@class='i-b tipsy fare-summary-tooltip fs-18']\")\n",
    "    for tihy in tickethy:\n",
    "        pricehy.append(tihy.text)\n",
    "except:\n",
    "    pricehy.append(\"None\")"
   ]
  },
  {
   "cell_type": "code",
   "execution_count": 112,
   "id": "983c2e24",
   "metadata": {},
   "outputs": [
    {
     "name": "stdout",
     "output_type": "stream",
     "text": [
      "61 122\n"
     ]
    }
   ],
   "source": [
    "print(len(pricehy),len(departhy))"
   ]
  },
  {
   "cell_type": "code",
   "execution_count": 113,
   "id": "220f02f1",
   "metadata": {},
   "outputs": [],
   "source": [
    "sourcehy=departhy[0:122:2]\n",
    "destinationhy=departhy[1:122:2]"
   ]
  },
  {
   "cell_type": "code",
   "execution_count": 114,
   "id": "889bb290",
   "metadata": {},
   "outputs": [],
   "source": [
    "driver.current_url\n",
    "try:\n",
    "    detail=driver.find_elements_by_xpath(\"//div[@class='link-color fs-12 cursor-pointer']/span\")\n",
    "    for x in range(len(detail)):\n",
    "        time.sleep(10)\n",
    "        driver.execute_script(\"window.scrollBy(0,document.body.scrollHeight);\")\n",
    "        detail[x].click()\n",
    "except:\n",
    "    pass\n",
    "date26=[]\n",
    "try:\n",
    "    journey26=driver.find_elements_by_xpath(\"//div[@class='bold fs-12 mb-5']\")\n",
    "    for j26 in journey26:\n",
    "        date26.append(j26.text)\n",
    "except:\n",
    "    date26.append(\"NONE\")"
   ]
  },
  {
   "cell_type": "code",
   "execution_count": 115,
   "id": "4da43e59",
   "metadata": {},
   "outputs": [
    {
     "data": {
      "text/plain": [
       "144"
      ]
     },
     "execution_count": 115,
     "metadata": {},
     "output_type": "execute_result"
    }
   ],
   "source": [
    "len(date26)"
   ]
  },
  {
   "cell_type": "code",
   "execution_count": 120,
   "id": "15ed3b11",
   "metadata": {},
   "outputs": [],
   "source": [
    "journey_datehy=date26[0:61]"
   ]
  },
  {
   "cell_type": "code",
   "execution_count": 121,
   "id": "79e6ac85",
   "metadata": {},
   "outputs": [
    {
     "name": "stdout",
     "output_type": "stream",
     "text": [
      "61 61 61 61 61 61 61 61 61\n"
     ]
    }
   ],
   "source": [
    "print(len(airlineshy),len(durationhy),len(total_stopshy),len(depart_timehy),len(arrival_timehy),len(pricehy),\n",
    "      len(sourcehy),len(destinationhy),len(journey_datehy))"
   ]
  },
  {
   "cell_type": "code",
   "execution_count": 122,
   "id": "b2b5adda",
   "metadata": {},
   "outputs": [],
   "source": [
    "#concatenating lists\n",
    "for f in airlineshy:\n",
    "    airlines.append(f)\n",
    "    \n",
    "for d in depart_timehy:\n",
    "    depart_time.append(d)\n",
    "    \n",
    "for a in arrival_timehy:\n",
    "    arrival_time.append(a)\n",
    "\n",
    "for j in journey_datehy:\n",
    "    journey_date.append(j)\n",
    "    \n",
    "for f in durationhy:\n",
    "    duration.append(f)\n",
    "    \n",
    "for s in total_stopshy:\n",
    "    total_stops.append(s)\n",
    "    \n",
    "for t in pricehy:\n",
    "    price.append(t)\n",
    "    \n",
    "for su in sourcehy:\n",
    "    source.append(su)\n",
    "    \n",
    "for de in destinationhy:\n",
    "    destination.append(de)"
   ]
  },
  {
   "cell_type": "code",
   "execution_count": 123,
   "id": "ac6f398d",
   "metadata": {},
   "outputs": [
    {
     "name": "stdout",
     "output_type": "stream",
     "text": [
      "801 801 801 801 801 801 801 800 801\n"
     ]
    }
   ],
   "source": [
    "print(len(airlines),len(duration),len(total_stops),len(depart_time),len(arrival_time),len(price),len(source),len(destination),len(journey_date))"
   ]
  },
  {
   "cell_type": "markdown",
   "id": "4bdcb11f",
   "metadata": {},
   "source": [
    "Chennai to ahammedabad"
   ]
  },
  {
   "cell_type": "code",
   "execution_count": 124,
   "id": "b8863489",
   "metadata": {},
   "outputs": [],
   "source": [
    "#airline\n",
    "airlineshy=[]\n",
    "try:\n",
    "    airlinehy=driver.find_elements_by_xpath(\"//span[@class='i-b text ellipsis']\")\n",
    "    for airhy in airlinehy:\n",
    "        airlineshy.append(airhy.text)\n",
    "except:\n",
    "    airlineshy.append(\"None\")\n",
    "\n",
    "#source\n",
    "departhy=[]\n",
    "try:\n",
    "    departshy=driver.find_elements_by_xpath(\"//p[@class='fs-10 font-lightgrey no-wrap city ellipsis']\")\n",
    "    for dehy in departshy:\n",
    "        departhy.append(dehy.text)\n",
    "except:\n",
    "    departhy.append(\"None\")\n",
    "    \n",
    "#duration\n",
    "durationhy=[]\n",
    "try:\n",
    "    durablehy=driver.find_elements_by_xpath(\"//p[@class='fs-12 bold du mb-2']\")\n",
    "    for duhy in durablehy:\n",
    "        durationhy.append(duhy.text)\n",
    "except:\n",
    "    durationhy.append(\"none\")\n",
    "    \n",
    "#stops\n",
    "total_stopshy=[]\n",
    "try:\n",
    "    stopshy=driver.find_elements_by_xpath(\"//div[@class=' font-lightgrey fs-10 tipsy i-b fs-10']\")\n",
    "    for sthy in stopshy:\n",
    "        total_stopshy.append(sthy.text)\n",
    "except:\n",
    "    total_stopshy.append(\"None\")\n",
    "    \n",
    "#departure time\n",
    "depart_timehy=[]\n",
    "try:\n",
    "    dephy=driver.find_elements_by_xpath(\"//div[@class='i-b pr']\")\n",
    "    for dphy in dephy:\n",
    "        depart_timehy.append(dphy.text)\n",
    "except:\n",
    "    depart_timehy.append(\"None\")     \n",
    "    \n",
    "#arrival time\n",
    "arrival_timehy=[]\n",
    "try:\n",
    "    arriverhy=driver.find_elements_by_xpath(\"//p[@class='fs-12 bold du mb-2']\")\n",
    "    for arrhy in arriverhy:\n",
    "        arrival_timehy.append(arrhy.text)\n",
    "except:\n",
    "    arrival.timehy.append(\"None\")\n",
    "    \n",
    "#price\n",
    "pricehy=[]\n",
    "try:\n",
    "    tickethy=driver.find_elements_by_xpath(\"//div[@class='i-b tipsy fare-summary-tooltip fs-18']\")\n",
    "    for tihy in tickethy:\n",
    "        pricehy.append(tihy.text)\n",
    "except:\n",
    "    pricehy.append(\"None\")"
   ]
  },
  {
   "cell_type": "code",
   "execution_count": 125,
   "id": "70f3fc0d",
   "metadata": {},
   "outputs": [
    {
     "name": "stdout",
     "output_type": "stream",
     "text": [
      "71 142\n"
     ]
    }
   ],
   "source": [
    "print(len(pricehy),len(departhy))"
   ]
  },
  {
   "cell_type": "code",
   "execution_count": 127,
   "id": "813099f2",
   "metadata": {},
   "outputs": [],
   "source": [
    "sourcehy=departhy[0:142:2]\n",
    "destinationhy=departhy[1:142:2]"
   ]
  },
  {
   "cell_type": "code",
   "execution_count": 128,
   "id": "4313ddb8",
   "metadata": {},
   "outputs": [],
   "source": [
    "driver.current_url\n",
    "try:\n",
    "    detail=driver.find_elements_by_xpath(\"//div[@class='link-color fs-12 cursor-pointer']/span\")\n",
    "    for x in range(len(detail)):\n",
    "        time.sleep(10)\n",
    "        driver.execute_script(\"window.scrollBy(0,document.body.scrollHeight);\")\n",
    "        detail[x].click()\n",
    "except:\n",
    "    pass\n",
    "date26=[]\n",
    "try:\n",
    "    journey26=driver.find_elements_by_xpath(\"//div[@class='bold fs-12 mb-5']\")\n",
    "    for j26 in journey26:\n",
    "        date26.append(j26.text)\n",
    "except:\n",
    "    date26.append(\"NONE\")"
   ]
  },
  {
   "cell_type": "code",
   "execution_count": 129,
   "id": "a9443023",
   "metadata": {},
   "outputs": [
    {
     "data": {
      "text/plain": [
       "159"
      ]
     },
     "execution_count": 129,
     "metadata": {},
     "output_type": "execute_result"
    }
   ],
   "source": [
    "len(date26)"
   ]
  },
  {
   "cell_type": "code",
   "execution_count": 130,
   "id": "e07d07d3",
   "metadata": {},
   "outputs": [],
   "source": [
    "journey_datehy=date26[0:71]"
   ]
  },
  {
   "cell_type": "code",
   "execution_count": 131,
   "id": "656d655d",
   "metadata": {},
   "outputs": [
    {
     "name": "stdout",
     "output_type": "stream",
     "text": [
      "71 71 71 71 71 71 71 71 71\n"
     ]
    }
   ],
   "source": [
    "print(len(airlineshy),len(durationhy),len(total_stopshy),len(depart_timehy),len(arrival_timehy),len(pricehy),\n",
    "      len(sourcehy),len(destinationhy),len(journey_datehy))"
   ]
  },
  {
   "cell_type": "code",
   "execution_count": 132,
   "id": "cc605fdc",
   "metadata": {},
   "outputs": [],
   "source": [
    "#concatenating lists\n",
    "for f in airlineshy:\n",
    "    airlines.append(f)\n",
    "    \n",
    "for d in depart_timehy:\n",
    "    depart_time.append(d)\n",
    "    \n",
    "for a in arrival_timehy:\n",
    "    arrival_time.append(a)\n",
    "\n",
    "for j in journey_datehy:\n",
    "    journey_date.append(j)\n",
    "    \n",
    "for f in durationhy:\n",
    "    duration.append(f)\n",
    "    \n",
    "for s in total_stopshy:\n",
    "    total_stops.append(s)\n",
    "    \n",
    "for t in pricehy:\n",
    "    price.append(t)\n",
    "    \n",
    "for su in sourcehy:\n",
    "    source.append(su)\n",
    "    \n",
    "for de in destinationhy:\n",
    "    destination.append(de)"
   ]
  },
  {
   "cell_type": "code",
   "execution_count": 133,
   "id": "fe832fb9",
   "metadata": {},
   "outputs": [
    {
     "name": "stdout",
     "output_type": "stream",
     "text": [
      "872 872 872 872 872 872 872 871 872\n"
     ]
    }
   ],
   "source": [
    "print(len(airlines),len(duration),len(total_stops),len(depart_time),len(arrival_time),len(price),len(source),len(destination),len(journey_date))"
   ]
  },
  {
   "cell_type": "markdown",
   "id": "d1d1abf0",
   "metadata": {},
   "source": [
    "Same source and destination with same date"
   ]
  },
  {
   "cell_type": "code",
   "execution_count": 134,
   "id": "73bbbe96",
   "metadata": {},
   "outputs": [],
   "source": [
    "#airline\n",
    "airlineshy=[]\n",
    "try:\n",
    "    airlinehy=driver.find_elements_by_xpath(\"//span[@class='i-b text ellipsis']\")\n",
    "    for airhy in airlinehy:\n",
    "        airlineshy.append(airhy.text)\n",
    "except:\n",
    "    airlineshy.append(\"None\")\n",
    "\n",
    "#source\n",
    "departhy=[]\n",
    "try:\n",
    "    departshy=driver.find_elements_by_xpath(\"//p[@class='fs-10 font-lightgrey no-wrap city ellipsis']\")\n",
    "    for dehy in departshy:\n",
    "        departhy.append(dehy.text)\n",
    "except:\n",
    "    departhy.append(\"None\")\n",
    "    \n",
    "#duration\n",
    "durationhy=[]\n",
    "try:\n",
    "    durablehy=driver.find_elements_by_xpath(\"//p[@class='fs-12 bold du mb-2']\")\n",
    "    for duhy in durablehy:\n",
    "        durationhy.append(duhy.text)\n",
    "except:\n",
    "    durationhy.append(\"none\")\n",
    "    \n",
    "#stops\n",
    "total_stopshy=[]\n",
    "try:\n",
    "    stopshy=driver.find_elements_by_xpath(\"//div[@class=' font-lightgrey fs-10 tipsy i-b fs-10']\")\n",
    "    for sthy in stopshy:\n",
    "        total_stopshy.append(sthy.text)\n",
    "except:\n",
    "    total_stopshy.append(\"None\")\n",
    "    \n",
    "#departure time\n",
    "depart_timehy=[]\n",
    "try:\n",
    "    dephy=driver.find_elements_by_xpath(\"//div[@class='i-b pr']\")\n",
    "    for dphy in dephy:\n",
    "        depart_timehy.append(dphy.text)\n",
    "except:\n",
    "    depart_timehy.append(\"None\")     \n",
    "    \n",
    "#arrival time\n",
    "arrival_timehy=[]\n",
    "try:\n",
    "    arriverhy=driver.find_elements_by_xpath(\"//p[@class='fs-12 bold du mb-2']\")\n",
    "    for arrhy in arriverhy:\n",
    "        arrival_timehy.append(arrhy.text)\n",
    "except:\n",
    "    arrival.timehy.append(\"None\")\n",
    "    \n",
    "#price\n",
    "pricehy=[]\n",
    "try:\n",
    "    tickethy=driver.find_elements_by_xpath(\"//div[@class='i-b tipsy fare-summary-tooltip fs-18']\")\n",
    "    for tihy in tickethy:\n",
    "        pricehy.append(tihy.text)\n",
    "except:\n",
    "    pricehy.append(\"None\")"
   ]
  },
  {
   "cell_type": "code",
   "execution_count": 135,
   "id": "ee3ea83b",
   "metadata": {},
   "outputs": [
    {
     "name": "stdout",
     "output_type": "stream",
     "text": [
      "81 162\n"
     ]
    }
   ],
   "source": [
    "print(len(pricehy),len(departhy))"
   ]
  },
  {
   "cell_type": "code",
   "execution_count": 136,
   "id": "d941a8ce",
   "metadata": {},
   "outputs": [],
   "source": [
    "sourcehy=departhy[0:162:2]\n",
    "destinationhy=departhy[1:162:2]"
   ]
  },
  {
   "cell_type": "code",
   "execution_count": 137,
   "id": "ed473a25",
   "metadata": {},
   "outputs": [],
   "source": [
    "driver.current_url\n",
    "try:\n",
    "    detail=driver.find_elements_by_xpath(\"//div[@class='link-color fs-12 cursor-pointer']/span\")\n",
    "    for x in range(len(detail)):\n",
    "        time.sleep(10)\n",
    "        driver.execute_script(\"window.scrollBy(0,document.body.scrollHeight);\")\n",
    "        detail[x].click()\n",
    "except:\n",
    "    pass\n",
    "date26=[]\n",
    "try:\n",
    "    journey26=driver.find_elements_by_xpath(\"//div[@class='bold fs-12 mb-5']\")\n",
    "    for j26 in journey26:\n",
    "        date26.append(j26.text)\n",
    "except:\n",
    "    date26.append(\"NONE\")"
   ]
  },
  {
   "cell_type": "code",
   "execution_count": 138,
   "id": "3bc00b27",
   "metadata": {},
   "outputs": [
    {
     "data": {
      "text/plain": [
       "176"
      ]
     },
     "execution_count": 138,
     "metadata": {},
     "output_type": "execute_result"
    }
   ],
   "source": [
    "len(date26)"
   ]
  },
  {
   "cell_type": "code",
   "execution_count": 139,
   "id": "a09dc172",
   "metadata": {},
   "outputs": [],
   "source": [
    "journey_datehy=date26[0:81]"
   ]
  },
  {
   "cell_type": "code",
   "execution_count": 140,
   "id": "6448f843",
   "metadata": {},
   "outputs": [
    {
     "name": "stdout",
     "output_type": "stream",
     "text": [
      "81 81 81 81 81 81 81 81 81\n"
     ]
    }
   ],
   "source": [
    "print(len(airlineshy),len(durationhy),len(total_stopshy),len(depart_timehy),len(arrival_timehy),len(pricehy),\n",
    "      len(sourcehy),len(destinationhy),len(journey_datehy))"
   ]
  },
  {
   "cell_type": "code",
   "execution_count": 141,
   "id": "a601bdfd",
   "metadata": {},
   "outputs": [],
   "source": [
    "#concatenating lists\n",
    "for f in airlineshy:\n",
    "    airlines.append(f)\n",
    "    \n",
    "for d in depart_timehy:\n",
    "    depart_time.append(d)\n",
    "    \n",
    "for a in arrival_timehy:\n",
    "    arrival_time.append(a)\n",
    "\n",
    "for j in journey_datehy:\n",
    "    journey_date.append(j)\n",
    "    \n",
    "for f in durationhy:\n",
    "    duration.append(f)\n",
    "    \n",
    "for s in total_stopshy:\n",
    "    total_stops.append(s)\n",
    "    \n",
    "for t in pricehy:\n",
    "    price.append(t)\n",
    "    \n",
    "for su in sourcehy:\n",
    "    source.append(su)\n",
    "    \n",
    "for de in destinationhy:\n",
    "    destination.append(de)"
   ]
  },
  {
   "cell_type": "code",
   "execution_count": 142,
   "id": "ed3a2963",
   "metadata": {},
   "outputs": [
    {
     "name": "stdout",
     "output_type": "stream",
     "text": [
      "953 953 953 953 953 953 953 952 953\n"
     ]
    }
   ],
   "source": [
    "print(len(airlines),len(duration),len(total_stops),len(depart_time),len(arrival_time),len(price),len(source),len(destination),len(journey_date))"
   ]
  },
  {
   "cell_type": "markdown",
   "id": "25aed271",
   "metadata": {},
   "source": [
    "Chennai to delhi"
   ]
  },
  {
   "cell_type": "code",
   "execution_count": 144,
   "id": "96275c29",
   "metadata": {},
   "outputs": [],
   "source": [
    "#airline\n",
    "airlineshy=[]\n",
    "try:\n",
    "    airlinehy=driver.find_elements_by_xpath(\"//span[@class='i-b text ellipsis']\")\n",
    "    for airhy in airlinehy:\n",
    "        airlineshy.append(airhy.text)\n",
    "except:\n",
    "    airlineshy.append(\"None\")\n",
    "\n",
    "#source\n",
    "departhy=[]\n",
    "try:\n",
    "    departshy=driver.find_elements_by_xpath(\"//p[@class='fs-10 font-lightgrey no-wrap city ellipsis']\")\n",
    "    for dehy in departshy:\n",
    "        departhy.append(dehy.text)\n",
    "except:\n",
    "    departhy.append(\"None\")\n",
    "    \n",
    "#duration\n",
    "durationhy=[]\n",
    "try:\n",
    "    durablehy=driver.find_elements_by_xpath(\"//p[@class='fs-12 bold du mb-2']\")\n",
    "    for duhy in durablehy:\n",
    "        durationhy.append(duhy.text)\n",
    "except:\n",
    "    durationhy.append(\"none\")\n",
    "    \n",
    "#stops\n",
    "total_stopshy=[]\n",
    "try:\n",
    "    stopshy=driver.find_elements_by_xpath(\"//div[@class=' font-lightgrey fs-10 tipsy i-b fs-10']\")\n",
    "    for sthy in stopshy:\n",
    "        total_stopshy.append(sthy.text)\n",
    "except:\n",
    "    total_stopshy.append(\"None\")\n",
    "    \n",
    "#departure time\n",
    "depart_timehy=[]\n",
    "try:\n",
    "    dephy=driver.find_elements_by_xpath(\"//div[@class='i-b pr']\")\n",
    "    for dphy in dephy:\n",
    "        depart_timehy.append(dphy.text)\n",
    "except:\n",
    "    depart_timehy.append(\"None\")     \n",
    "    \n",
    "#arrival time\n",
    "arrival_timehy=[]\n",
    "try:\n",
    "    arriverhy=driver.find_elements_by_xpath(\"//p[@class='fs-12 bold du mb-2']\")\n",
    "    for arrhy in arriverhy:\n",
    "        arrival_timehy.append(arrhy.text)\n",
    "except:\n",
    "    arrival.timehy.append(\"None\")\n",
    "    \n",
    "#price\n",
    "pricehy=[]\n",
    "try:\n",
    "    tickethy=driver.find_elements_by_xpath(\"//div[@class='i-b tipsy fare-summary-tooltip fs-18']\")\n",
    "    for tihy in tickethy:\n",
    "        pricehy.append(tihy.text)\n",
    "except:\n",
    "    pricehy.append(\"None\")"
   ]
  },
  {
   "cell_type": "code",
   "execution_count": 145,
   "id": "45bb6614",
   "metadata": {},
   "outputs": [
    {
     "name": "stdout",
     "output_type": "stream",
     "text": [
      "123 246\n"
     ]
    }
   ],
   "source": [
    "print(len(pricehy),len(departhy))"
   ]
  },
  {
   "cell_type": "code",
   "execution_count": 146,
   "id": "7dbf0d9c",
   "metadata": {},
   "outputs": [],
   "source": [
    "sourcehy=departhy[0:246:2]\n",
    "destinationhy=departhy[1:246:2]"
   ]
  },
  {
   "cell_type": "code",
   "execution_count": 147,
   "id": "f546de78",
   "metadata": {},
   "outputs": [],
   "source": [
    "driver.current_url\n",
    "try:\n",
    "    detail=driver.find_elements_by_xpath(\"//div[@class='link-color fs-12 cursor-pointer']/span\")\n",
    "    for x in range(len(detail)):\n",
    "        time.sleep(10)\n",
    "        driver.execute_script(\"window.scrollBy(0,document.body.scrollHeight);\")\n",
    "        detail[x].click()\n",
    "except:\n",
    "    pass\n",
    "date26=[]\n",
    "try:\n",
    "    journey26=driver.find_elements_by_xpath(\"//div[@class='bold fs-12 mb-5']\")\n",
    "    for j26 in journey26:\n",
    "        date26.append(j26.text)\n",
    "except:\n",
    "    date26.append(\"NONE\")"
   ]
  },
  {
   "cell_type": "code",
   "execution_count": 148,
   "id": "19db1d0a",
   "metadata": {},
   "outputs": [],
   "source": [
    "journey_datehy=date26[0:123]"
   ]
  },
  {
   "cell_type": "code",
   "execution_count": 149,
   "id": "9d1d489e",
   "metadata": {},
   "outputs": [
    {
     "name": "stdout",
     "output_type": "stream",
     "text": [
      "123 123 123 123 123 123 123 123 123\n"
     ]
    }
   ],
   "source": [
    "print(len(airlineshy),len(durationhy),len(total_stopshy),len(depart_timehy),len(arrival_timehy),len(pricehy),\n",
    "      len(sourcehy),len(destinationhy),len(journey_datehy))"
   ]
  },
  {
   "cell_type": "code",
   "execution_count": 150,
   "id": "8c579b4a",
   "metadata": {},
   "outputs": [],
   "source": [
    "#concatenating lists\n",
    "for f in airlineshy:\n",
    "    airlines.append(f)\n",
    "    \n",
    "for d in depart_timehy:\n",
    "    depart_time.append(d)\n",
    "    \n",
    "for a in arrival_timehy:\n",
    "    arrival_time.append(a)\n",
    "\n",
    "for j in journey_datehy:\n",
    "    journey_date.append(j)\n",
    "    \n",
    "for f in durationhy:\n",
    "    duration.append(f)\n",
    "    \n",
    "for s in total_stopshy:\n",
    "    total_stops.append(s)\n",
    "    \n",
    "for t in pricehy:\n",
    "    price.append(t)\n",
    "    \n",
    "for su in sourcehy:\n",
    "    source.append(su)\n",
    "    \n",
    "for de in destinationhy:\n",
    "    destination.append(de)"
   ]
  },
  {
   "cell_type": "code",
   "execution_count": 151,
   "id": "73a325e6",
   "metadata": {},
   "outputs": [
    {
     "name": "stdout",
     "output_type": "stream",
     "text": [
      "1076 1076 1076 1076 1076 1076 1076 1075 1076\n"
     ]
    }
   ],
   "source": [
    "print(len(airlines),len(duration),len(total_stops),len(depart_time),len(arrival_time),len(price),len(source),len(destination),len(journey_date))"
   ]
  },
  {
   "cell_type": "markdown",
   "id": "2dd0eee3",
   "metadata": {},
   "source": [
    "same source and destination with different date"
   ]
  },
  {
   "cell_type": "code",
   "execution_count": 152,
   "id": "3067ad13",
   "metadata": {},
   "outputs": [],
   "source": [
    "#airline\n",
    "airlineshy=[]\n",
    "try:\n",
    "    airlinehy=driver.find_elements_by_xpath(\"//span[@class='i-b text ellipsis']\")\n",
    "    for airhy in airlinehy:\n",
    "        airlineshy.append(airhy.text)\n",
    "except:\n",
    "    airlineshy.append(\"None\")\n",
    "\n",
    "#source\n",
    "departhy=[]\n",
    "try:\n",
    "    departshy=driver.find_elements_by_xpath(\"//p[@class='fs-10 font-lightgrey no-wrap city ellipsis']\")\n",
    "    for dehy in departshy:\n",
    "        departhy.append(dehy.text)\n",
    "except:\n",
    "    departhy.append(\"None\")\n",
    "    \n",
    "#duration\n",
    "durationhy=[]\n",
    "try:\n",
    "    durablehy=driver.find_elements_by_xpath(\"//p[@class='fs-12 bold du mb-2']\")\n",
    "    for duhy in durablehy:\n",
    "        durationhy.append(duhy.text)\n",
    "except:\n",
    "    durationhy.append(\"none\")\n",
    "    \n",
    "#stops\n",
    "total_stopshy=[]\n",
    "try:\n",
    "    stopshy=driver.find_elements_by_xpath(\"//div[@class=' font-lightgrey fs-10 tipsy i-b fs-10']\")\n",
    "    for sthy in stopshy:\n",
    "        total_stopshy.append(sthy.text)\n",
    "except:\n",
    "    total_stopshy.append(\"None\")\n",
    "    \n",
    "#departure time\n",
    "depart_timehy=[]\n",
    "try:\n",
    "    dephy=driver.find_elements_by_xpath(\"//div[@class='i-b pr']\")\n",
    "    for dphy in dephy:\n",
    "        depart_timehy.append(dphy.text)\n",
    "except:\n",
    "    depart_timehy.append(\"None\")     \n",
    "    \n",
    "#arrival time\n",
    "arrival_timehy=[]\n",
    "try:\n",
    "    arriverhy=driver.find_elements_by_xpath(\"//p[@class='fs-12 bold du mb-2']\")\n",
    "    for arrhy in arriverhy:\n",
    "        arrival_timehy.append(arrhy.text)\n",
    "except:\n",
    "    arrival.timehy.append(\"None\")\n",
    "    \n",
    "#price\n",
    "pricehy=[]\n",
    "try:\n",
    "    tickethy=driver.find_elements_by_xpath(\"//div[@class='i-b tipsy fare-summary-tooltip fs-18']\")\n",
    "    for tihy in tickethy:\n",
    "        pricehy.append(tihy.text)\n",
    "except:\n",
    "    pricehy.append(\"None\")"
   ]
  },
  {
   "cell_type": "code",
   "execution_count": 153,
   "id": "e630e705",
   "metadata": {},
   "outputs": [
    {
     "name": "stdout",
     "output_type": "stream",
     "text": [
      "141 282\n"
     ]
    }
   ],
   "source": [
    "print(len(pricehy),len(departhy))"
   ]
  },
  {
   "cell_type": "code",
   "execution_count": 154,
   "id": "c7390ec1",
   "metadata": {},
   "outputs": [],
   "source": [
    "sourcehy=departhy[0:282:2]\n",
    "destinationhy=departhy[1:282:2]"
   ]
  },
  {
   "cell_type": "code",
   "execution_count": 155,
   "id": "68fb801e",
   "metadata": {},
   "outputs": [],
   "source": [
    "driver.current_url\n",
    "try:\n",
    "    detail=driver.find_elements_by_xpath(\"//div[@class='link-color fs-12 cursor-pointer']/span\")\n",
    "    for x in range(len(detail)):\n",
    "        time.sleep(10)\n",
    "        driver.execute_script(\"window.scrollBy(0,document.body.scrollHeight);\")\n",
    "        detail[x].click()\n",
    "except:\n",
    "    pass\n",
    "date26=[]\n",
    "try:\n",
    "    journey26=driver.find_elements_by_xpath(\"//div[@class='bold fs-12 mb-5']\")\n",
    "    for j26 in journey26:\n",
    "        date26.append(j26.text)\n",
    "except:\n",
    "    date26.append(\"NONE\")"
   ]
  },
  {
   "cell_type": "code",
   "execution_count": 156,
   "id": "63a5ce95",
   "metadata": {},
   "outputs": [],
   "source": [
    "journey_datehy=date26[0:141]"
   ]
  },
  {
   "cell_type": "code",
   "execution_count": 157,
   "id": "982a00b0",
   "metadata": {},
   "outputs": [
    {
     "name": "stdout",
     "output_type": "stream",
     "text": [
      "141 141 141 141 141 141 141 141 141\n"
     ]
    }
   ],
   "source": [
    "print(len(airlineshy),len(durationhy),len(total_stopshy),len(depart_timehy),len(arrival_timehy),len(pricehy),\n",
    "      len(sourcehy),len(destinationhy),len(journey_datehy))"
   ]
  },
  {
   "cell_type": "code",
   "execution_count": 158,
   "id": "2b365ffa",
   "metadata": {},
   "outputs": [],
   "source": [
    "#concatenating lists\n",
    "for f in airlineshy:\n",
    "    airlines.append(f)\n",
    "    \n",
    "for d in depart_timehy:\n",
    "    depart_time.append(d)\n",
    "    \n",
    "for a in arrival_timehy:\n",
    "    arrival_time.append(a)\n",
    "\n",
    "for j in journey_datehy:\n",
    "    journey_date.append(j)\n",
    "    \n",
    "for f in durationhy:\n",
    "    duration.append(f)\n",
    "    \n",
    "for s in total_stopshy:\n",
    "    total_stops.append(s)\n",
    "    \n",
    "for t in pricehy:\n",
    "    price.append(t)\n",
    "    \n",
    "for su in sourcehy:\n",
    "    source.append(su)\n",
    "    \n",
    "for de in destinationhy:\n",
    "    destination.append(de)"
   ]
  },
  {
   "cell_type": "code",
   "execution_count": 159,
   "id": "27f6594a",
   "metadata": {},
   "outputs": [
    {
     "name": "stdout",
     "output_type": "stream",
     "text": [
      "1217 1217 1217 1217 1217 1217 1217 1216 1217\n"
     ]
    }
   ],
   "source": [
    "print(len(airlines),len(duration),len(total_stops),len(depart_time),len(arrival_time),len(price),len(source),len(destination),len(journey_date))"
   ]
  },
  {
   "cell_type": "markdown",
   "id": "add182cf",
   "metadata": {},
   "source": [
    "Chennai to lucknow"
   ]
  },
  {
   "cell_type": "code",
   "execution_count": 160,
   "id": "0eeb0553",
   "metadata": {},
   "outputs": [],
   "source": [
    "#airline\n",
    "airlineshy=[]\n",
    "try:\n",
    "    airlinehy=driver.find_elements_by_xpath(\"//span[@class='i-b text ellipsis']\")\n",
    "    for airhy in airlinehy:\n",
    "        airlineshy.append(airhy.text)\n",
    "except:\n",
    "    airlineshy.append(\"None\")\n",
    "\n",
    "#source\n",
    "departhy=[]\n",
    "try:\n",
    "    departshy=driver.find_elements_by_xpath(\"//p[@class='fs-10 font-lightgrey no-wrap city ellipsis']\")\n",
    "    for dehy in departshy:\n",
    "        departhy.append(dehy.text)\n",
    "except:\n",
    "    departhy.append(\"None\")\n",
    "    \n",
    "#duration\n",
    "durationhy=[]\n",
    "try:\n",
    "    durablehy=driver.find_elements_by_xpath(\"//p[@class='fs-12 bold du mb-2']\")\n",
    "    for duhy in durablehy:\n",
    "        durationhy.append(duhy.text)\n",
    "except:\n",
    "    durationhy.append(\"none\")\n",
    "    \n",
    "#stops\n",
    "total_stopshy=[]\n",
    "try:\n",
    "    stopshy=driver.find_elements_by_xpath(\"//div[@class=' font-lightgrey fs-10 tipsy i-b fs-10']\")\n",
    "    for sthy in stopshy:\n",
    "        total_stopshy.append(sthy.text)\n",
    "except:\n",
    "    total_stopshy.append(\"None\")\n",
    "    \n",
    "#departure time\n",
    "depart_timehy=[]\n",
    "try:\n",
    "    dephy=driver.find_elements_by_xpath(\"//div[@class='i-b pr']\")\n",
    "    for dphy in dephy:\n",
    "        depart_timehy.append(dphy.text)\n",
    "except:\n",
    "    depart_timehy.append(\"None\")     \n",
    "    \n",
    "#arrival time\n",
    "arrival_timehy=[]\n",
    "try:\n",
    "    arriverhy=driver.find_elements_by_xpath(\"//p[@class='fs-12 bold du mb-2']\")\n",
    "    for arrhy in arriverhy:\n",
    "        arrival_timehy.append(arrhy.text)\n",
    "except:\n",
    "    arrival.timehy.append(\"None\")\n",
    "    \n",
    "#price\n",
    "pricehy=[]\n",
    "try:\n",
    "    tickethy=driver.find_elements_by_xpath(\"//div[@class='i-b tipsy fare-summary-tooltip fs-18']\")\n",
    "    for tihy in tickethy:\n",
    "        pricehy.append(tihy.text)\n",
    "except:\n",
    "    pricehy.append(\"None\")"
   ]
  },
  {
   "cell_type": "code",
   "execution_count": 161,
   "id": "060f7c31",
   "metadata": {},
   "outputs": [
    {
     "name": "stdout",
     "output_type": "stream",
     "text": [
      "72 144\n"
     ]
    }
   ],
   "source": [
    "print(len(pricehy),len(departhy))"
   ]
  },
  {
   "cell_type": "code",
   "execution_count": 162,
   "id": "59917446",
   "metadata": {},
   "outputs": [],
   "source": [
    "sourcehy=departhy[0:144:2]\n",
    "destinationhy=departhy[1:144:2]"
   ]
  },
  {
   "cell_type": "code",
   "execution_count": 163,
   "id": "f3e24854",
   "metadata": {},
   "outputs": [],
   "source": [
    "driver.current_url\n",
    "try:\n",
    "    detail=driver.find_elements_by_xpath(\"//div[@class='link-color fs-12 cursor-pointer']/span\")\n",
    "    for x in range(len(detail)):\n",
    "        time.sleep(10)\n",
    "        driver.execute_script(\"window.scrollBy(0,document.body.scrollHeight);\")\n",
    "        detail[x].click()\n",
    "except:\n",
    "    pass\n",
    "date26=[]\n",
    "try:\n",
    "    journey26=driver.find_elements_by_xpath(\"//div[@class='bold fs-12 mb-5']\")\n",
    "    for j26 in journey26:\n",
    "        date26.append(j26.text)\n",
    "except:\n",
    "    date26.append(\"NONE\")"
   ]
  },
  {
   "cell_type": "code",
   "execution_count": 164,
   "id": "bd07e8a5",
   "metadata": {},
   "outputs": [],
   "source": [
    "journey_datehy=date26[0:72]"
   ]
  },
  {
   "cell_type": "code",
   "execution_count": 165,
   "id": "8c45c9d3",
   "metadata": {},
   "outputs": [
    {
     "name": "stdout",
     "output_type": "stream",
     "text": [
      "72 72 72 72 72 72 72 72 72\n"
     ]
    }
   ],
   "source": [
    "print(len(airlineshy),len(durationhy),len(total_stopshy),len(depart_timehy),len(arrival_timehy),len(pricehy),\n",
    "      len(sourcehy),len(destinationhy),len(journey_datehy))"
   ]
  },
  {
   "cell_type": "code",
   "execution_count": 166,
   "id": "990c1b43",
   "metadata": {},
   "outputs": [],
   "source": [
    "#concatenating lists\n",
    "for f in airlineshy:\n",
    "    airlines.append(f)\n",
    "    \n",
    "for d in depart_timehy:\n",
    "    depart_time.append(d)\n",
    "    \n",
    "for a in arrival_timehy:\n",
    "    arrival_time.append(a)\n",
    "\n",
    "for j in journey_datehy:\n",
    "    journey_date.append(j)\n",
    "    \n",
    "for f in durationhy:\n",
    "    duration.append(f)\n",
    "    \n",
    "for s in total_stopshy:\n",
    "    total_stops.append(s)\n",
    "    \n",
    "for t in pricehy:\n",
    "    price.append(t)\n",
    "    \n",
    "for su in sourcehy:\n",
    "    source.append(su)\n",
    "    \n",
    "for de in destinationhy:\n",
    "    destination.append(de)"
   ]
  },
  {
   "cell_type": "code",
   "execution_count": 167,
   "id": "5a3024e2",
   "metadata": {},
   "outputs": [
    {
     "name": "stdout",
     "output_type": "stream",
     "text": [
      "1289 1289 1289 1289 1289 1289 1289 1288 1289\n"
     ]
    }
   ],
   "source": [
    "print(len(airlines),len(duration),len(total_stops),len(depart_time),len(arrival_time),len(price),len(source),len(destination),len(journey_date))"
   ]
  },
  {
   "cell_type": "markdown",
   "id": "efcc99ae",
   "metadata": {},
   "source": [
    "Bangalore to lucknow"
   ]
  },
  {
   "cell_type": "code",
   "execution_count": 168,
   "id": "cb25a73c",
   "metadata": {},
   "outputs": [],
   "source": [
    "#airline\n",
    "airlineshy=[]\n",
    "try:\n",
    "    airlinehy=driver.find_elements_by_xpath(\"//span[@class='i-b text ellipsis']\")\n",
    "    for airhy in airlinehy:\n",
    "        airlineshy.append(airhy.text)\n",
    "except:\n",
    "    airlineshy.append(\"None\")\n",
    "\n",
    "#source\n",
    "departhy=[]\n",
    "try:\n",
    "    departshy=driver.find_elements_by_xpath(\"//p[@class='fs-10 font-lightgrey no-wrap city ellipsis']\")\n",
    "    for dehy in departshy:\n",
    "        departhy.append(dehy.text)\n",
    "except:\n",
    "    departhy.append(\"None\")\n",
    "    \n",
    "#duration\n",
    "durationhy=[]\n",
    "try:\n",
    "    durablehy=driver.find_elements_by_xpath(\"//p[@class='fs-12 bold du mb-2']\")\n",
    "    for duhy in durablehy:\n",
    "        durationhy.append(duhy.text)\n",
    "except:\n",
    "    durationhy.append(\"none\")\n",
    "    \n",
    "#stops\n",
    "total_stopshy=[]\n",
    "try:\n",
    "    stopshy=driver.find_elements_by_xpath(\"//div[@class=' font-lightgrey fs-10 tipsy i-b fs-10']\")\n",
    "    for sthy in stopshy:\n",
    "        total_stopshy.append(sthy.text)\n",
    "except:\n",
    "    total_stopshy.append(\"None\")\n",
    "    \n",
    "#departure time\n",
    "depart_timehy=[]\n",
    "try:\n",
    "    dephy=driver.find_elements_by_xpath(\"//div[@class='i-b pr']\")\n",
    "    for dphy in dephy:\n",
    "        depart_timehy.append(dphy.text)\n",
    "except:\n",
    "    depart_timehy.append(\"None\")     \n",
    "    \n",
    "#arrival time\n",
    "arrival_timehy=[]\n",
    "try:\n",
    "    arriverhy=driver.find_elements_by_xpath(\"//p[@class='fs-12 bold du mb-2']\")\n",
    "    for arrhy in arriverhy:\n",
    "        arrival_timehy.append(arrhy.text)\n",
    "except:\n",
    "    arrival.timehy.append(\"None\")\n",
    "    \n",
    "#price\n",
    "pricehy=[]\n",
    "try:\n",
    "    tickethy=driver.find_elements_by_xpath(\"//div[@class='i-b tipsy fare-summary-tooltip fs-18']\")\n",
    "    for tihy in tickethy:\n",
    "        pricehy.append(tihy.text)\n",
    "except:\n",
    "    pricehy.append(\"None\")"
   ]
  },
  {
   "cell_type": "code",
   "execution_count": 169,
   "id": "d6cee8be",
   "metadata": {},
   "outputs": [
    {
     "name": "stdout",
     "output_type": "stream",
     "text": [
      "72 144\n"
     ]
    }
   ],
   "source": [
    "print(len(pricehy),len(departhy))"
   ]
  },
  {
   "cell_type": "code",
   "execution_count": 170,
   "id": "4bb47658",
   "metadata": {},
   "outputs": [],
   "source": [
    "sourcehy=departhy[0:144:2]\n",
    "destinationhy=departhy[1:144:2]"
   ]
  },
  {
   "cell_type": "code",
   "execution_count": 171,
   "id": "a7198f97",
   "metadata": {},
   "outputs": [],
   "source": [
    "driver.current_url\n",
    "try:\n",
    "    detail=driver.find_elements_by_xpath(\"//div[@class='link-color fs-12 cursor-pointer']/span\")\n",
    "    for x in range(len(detail)):\n",
    "        time.sleep(10)\n",
    "        driver.execute_script(\"window.scrollBy(0,document.body.scrollHeight);\")\n",
    "        detail[x].click()\n",
    "except:\n",
    "    pass\n",
    "date26=[]\n",
    "try:\n",
    "    journey26=driver.find_elements_by_xpath(\"//div[@class='bold fs-12 mb-5']\")\n",
    "    for j26 in journey26:\n",
    "        date26.append(j26.text)\n",
    "except:\n",
    "    date26.append(\"NONE\")"
   ]
  },
  {
   "cell_type": "code",
   "execution_count": 172,
   "id": "5a8ff29e",
   "metadata": {},
   "outputs": [],
   "source": [
    "jurney_datehy=date26[0:72]"
   ]
  },
  {
   "cell_type": "code",
   "execution_count": 173,
   "id": "3ee452bf",
   "metadata": {},
   "outputs": [
    {
     "name": "stdout",
     "output_type": "stream",
     "text": [
      "72 72 72 72 72 72 72 72 72\n"
     ]
    }
   ],
   "source": [
    "print(len(airlineshy),len(durationhy),len(total_stopshy),len(depart_timehy),len(arrival_timehy),len(pricehy),\n",
    "      len(sourcehy),len(destinationhy),len(journey_datehy))"
   ]
  },
  {
   "cell_type": "code",
   "execution_count": 174,
   "id": "578b6960",
   "metadata": {},
   "outputs": [],
   "source": [
    "#concatenating lists\n",
    "for f in airlineshy:\n",
    "    airlines.append(f)\n",
    "    \n",
    "for d in depart_timehy:\n",
    "    depart_time.append(d)\n",
    "    \n",
    "for a in arrival_timehy:\n",
    "    arrival_time.append(a)\n",
    "\n",
    "for j in journey_datehy:\n",
    "    journey_date.append(j)\n",
    "    \n",
    "for f in durationhy:\n",
    "    duration.append(f)\n",
    "    \n",
    "for s in total_stopshy:\n",
    "    total_stops.append(s)\n",
    "    \n",
    "for t in pricehy:\n",
    "    price.append(t)\n",
    "    \n",
    "for su in sourcehy:\n",
    "    source.append(su)\n",
    "    \n",
    "for de in destinationhy:\n",
    "    destination.append(de)"
   ]
  },
  {
   "cell_type": "code",
   "execution_count": 175,
   "id": "4f541ff5",
   "metadata": {},
   "outputs": [
    {
     "name": "stdout",
     "output_type": "stream",
     "text": [
      "1361 1361 1361 1361 1361 1361 1361 1360 1361\n"
     ]
    }
   ],
   "source": [
    "print(len(airlines),len(duration),len(total_stops),len(depart_time),len(arrival_time),len(price),len(source),len(destination),len(journey_date))"
   ]
  },
  {
   "cell_type": "markdown",
   "id": "06e80243",
   "metadata": {},
   "source": [
    "Jaipur to hydearabad"
   ]
  },
  {
   "cell_type": "code",
   "execution_count": 176,
   "id": "bbfca773",
   "metadata": {},
   "outputs": [],
   "source": [
    "#airline\n",
    "airlineshy=[]\n",
    "try:\n",
    "    airlinehy=driver.find_elements_by_xpath(\"//span[@class='i-b text ellipsis']\")\n",
    "    for airhy in airlinehy:\n",
    "        airlineshy.append(airhy.text)\n",
    "except:\n",
    "    airlineshy.append(\"None\")\n",
    "\n",
    "#source\n",
    "departhy=[]\n",
    "try:\n",
    "    departshy=driver.find_elements_by_xpath(\"//p[@class='fs-10 font-lightgrey no-wrap city ellipsis']\")\n",
    "    for dehy in departshy:\n",
    "        departhy.append(dehy.text)\n",
    "except:\n",
    "    departhy.append(\"None\")\n",
    "    \n",
    "#duration\n",
    "durationhy=[]\n",
    "try:\n",
    "    durablehy=driver.find_elements_by_xpath(\"//p[@class='fs-12 bold du mb-2']\")\n",
    "    for duhy in durablehy:\n",
    "        durationhy.append(duhy.text)\n",
    "except:\n",
    "    durationhy.append(\"none\")\n",
    "    \n",
    "#stops\n",
    "total_stopshy=[]\n",
    "try:\n",
    "    stopshy=driver.find_elements_by_xpath(\"//div[@class=' font-lightgrey fs-10 tipsy i-b fs-10']\")\n",
    "    for sthy in stopshy:\n",
    "        total_stopshy.append(sthy.text)\n",
    "except:\n",
    "    total_stopshy.append(\"None\")\n",
    "    \n",
    "#departure time\n",
    "depart_timehy=[]\n",
    "try:\n",
    "    dephy=driver.find_elements_by_xpath(\"//div[@class='i-b pr']\")\n",
    "    for dphy in dephy:\n",
    "        depart_timehy.append(dphy.text)\n",
    "except:\n",
    "    depart_timehy.append(\"None\")     \n",
    "    \n",
    "#arrival time\n",
    "arrival_timehy=[]\n",
    "try:\n",
    "    arriverhy=driver.find_elements_by_xpath(\"//p[@class='fs-12 bold du mb-2']\")\n",
    "    for arrhy in arriverhy:\n",
    "        arrival_timehy.append(arrhy.text)\n",
    "except:\n",
    "    arrival.timehy.append(\"None\")\n",
    "    \n",
    "#price\n",
    "pricehy=[]\n",
    "try:\n",
    "    tickethy=driver.find_elements_by_xpath(\"//div[@class='i-b tipsy fare-summary-tooltip fs-18']\")\n",
    "    for tihy in tickethy:\n",
    "        pricehy.append(tihy.text)\n",
    "except:\n",
    "    pricehy.append(\"None\")"
   ]
  },
  {
   "cell_type": "code",
   "execution_count": 177,
   "id": "e6bdaaef",
   "metadata": {},
   "outputs": [
    {
     "name": "stdout",
     "output_type": "stream",
     "text": [
      "58 116\n"
     ]
    }
   ],
   "source": [
    "print(len(pricehy),len(departhy))"
   ]
  },
  {
   "cell_type": "code",
   "execution_count": 178,
   "id": "3e40298b",
   "metadata": {},
   "outputs": [],
   "source": [
    "sourcehy=departhy[0:116:2]\n",
    "destinationhy=departhy[1:116:2]"
   ]
  },
  {
   "cell_type": "code",
   "execution_count": 179,
   "id": "b5a4454a",
   "metadata": {},
   "outputs": [],
   "source": [
    "driver.current_url\n",
    "try:\n",
    "    detail=driver.find_elements_by_xpath(\"//div[@class='link-color fs-12 cursor-pointer']/span\")\n",
    "    for x in range(len(detail)):\n",
    "        time.sleep(10)\n",
    "        driver.execute_script(\"window.scrollBy(0,document.body.scrollHeight);\")\n",
    "        detail[x].click()\n",
    "except:\n",
    "    pass\n",
    "date26=[]\n",
    "try:\n",
    "    journey26=driver.find_elements_by_xpath(\"//div[@class='bold fs-12 mb-5']\")\n",
    "    for j26 in journey26:\n",
    "        date26.append(j26.text)\n",
    "except:\n",
    "    date26.append(\"NONE\")"
   ]
  },
  {
   "cell_type": "code",
   "execution_count": 180,
   "id": "a3b6c1a1",
   "metadata": {},
   "outputs": [],
   "source": [
    "journey_datehy=date26[0:58]"
   ]
  },
  {
   "cell_type": "code",
   "execution_count": 181,
   "id": "d5b0395c",
   "metadata": {},
   "outputs": [
    {
     "name": "stdout",
     "output_type": "stream",
     "text": [
      "58 58 58 58 58 58 58 58 58\n"
     ]
    }
   ],
   "source": [
    "print(len(airlineshy),len(durationhy),len(total_stopshy),len(depart_timehy),len(arrival_timehy),len(pricehy),\n",
    "      len(sourcehy),len(destinationhy),len(journey_datehy))"
   ]
  },
  {
   "cell_type": "code",
   "execution_count": 182,
   "id": "6a0c4585",
   "metadata": {},
   "outputs": [],
   "source": [
    "#concatenating lists\n",
    "for f in airlineshy:\n",
    "    airlines.append(f)\n",
    "    \n",
    "for d in depart_timehy:\n",
    "    depart_time.append(d)\n",
    "    \n",
    "for a in arrival_timehy:\n",
    "    arrival_time.append(a)\n",
    "\n",
    "for j in journey_datehy:\n",
    "    journey_date.append(j)\n",
    "    \n",
    "for f in durationhy:\n",
    "    duration.append(f)\n",
    "    \n",
    "for s in total_stopshy:\n",
    "    total_stops.append(s)\n",
    "    \n",
    "for t in pricehy:\n",
    "    price.append(t)\n",
    "    \n",
    "for su in sourcehy:\n",
    "    source.append(su)\n",
    "    \n",
    "for de in destinationhy:\n",
    "    destination.append(de)"
   ]
  },
  {
   "cell_type": "code",
   "execution_count": 183,
   "id": "48d7e674",
   "metadata": {},
   "outputs": [
    {
     "name": "stdout",
     "output_type": "stream",
     "text": [
      "1419 1419 1419 1419 1419 1419 1419 1418 1419\n"
     ]
    }
   ],
   "source": [
    "print(len(airlines),len(duration),len(total_stops),len(depart_time),len(arrival_time),len(price),len(source),len(destination),len(journey_date))"
   ]
  },
  {
   "cell_type": "markdown",
   "id": "8d91a04b",
   "metadata": {},
   "source": [
    "Coimbatore to delhi"
   ]
  },
  {
   "cell_type": "code",
   "execution_count": 184,
   "id": "5905570c",
   "metadata": {},
   "outputs": [],
   "source": [
    "#airline\n",
    "airlineshy=[]\n",
    "try:\n",
    "    airlinehy=driver.find_elements_by_xpath(\"//span[@class='i-b text ellipsis']\")\n",
    "    for airhy in airlinehy:\n",
    "        airlineshy.append(airhy.text)\n",
    "except:\n",
    "    airlineshy.append(\"None\")\n",
    "\n",
    "#source\n",
    "departhy=[]\n",
    "try:\n",
    "    departshy=driver.find_elements_by_xpath(\"//p[@class='fs-10 font-lightgrey no-wrap city ellipsis']\")\n",
    "    for dehy in departshy:\n",
    "        departhy.append(dehy.text)\n",
    "except:\n",
    "    departhy.append(\"None\")\n",
    "    \n",
    "#duration\n",
    "durationhy=[]\n",
    "try:\n",
    "    durablehy=driver.find_elements_by_xpath(\"//p[@class='fs-12 bold du mb-2']\")\n",
    "    for duhy in durablehy:\n",
    "        durationhy.append(duhy.text)\n",
    "except:\n",
    "    durationhy.append(\"none\")\n",
    "    \n",
    "#stops\n",
    "total_stopshy=[]\n",
    "try:\n",
    "    stopshy=driver.find_elements_by_xpath(\"//div[@class=' font-lightgrey fs-10 tipsy i-b fs-10']\")\n",
    "    for sthy in stopshy:\n",
    "        total_stopshy.append(sthy.text)\n",
    "except:\n",
    "    total_stopshy.append(\"None\")\n",
    "    \n",
    "#departure time\n",
    "depart_timehy=[]\n",
    "try:\n",
    "    dephy=driver.find_elements_by_xpath(\"//div[@class='i-b pr']\")\n",
    "    for dphy in dephy:\n",
    "        depart_timehy.append(dphy.text)\n",
    "except:\n",
    "    depart_timehy.append(\"None\")     \n",
    "    \n",
    "#arrival time\n",
    "arrival_timehy=[]\n",
    "try:\n",
    "    arriverhy=driver.find_elements_by_xpath(\"//p[@class='fs-12 bold du mb-2']\")\n",
    "    for arrhy in arriverhy:\n",
    "        arrival_timehy.append(arrhy.text)\n",
    "except:\n",
    "    arrival.timehy.append(\"None\")\n",
    "    \n",
    "#price\n",
    "pricehy=[]\n",
    "try:\n",
    "    tickethy=driver.find_elements_by_xpath(\"//div[@class='i-b tipsy fare-summary-tooltip fs-18']\")\n",
    "    for tihy in tickethy:\n",
    "        pricehy.append(tihy.text)\n",
    "except:\n",
    "    pricehy.append(\"None\")"
   ]
  },
  {
   "cell_type": "code",
   "execution_count": 185,
   "id": "d01b4947",
   "metadata": {},
   "outputs": [
    {
     "name": "stdout",
     "output_type": "stream",
     "text": [
      "41 82\n"
     ]
    }
   ],
   "source": [
    "print(len(pricehy),len(departhy))"
   ]
  },
  {
   "cell_type": "code",
   "execution_count": 186,
   "id": "82b0d085",
   "metadata": {},
   "outputs": [],
   "source": [
    "sourcehy=departhy[0:82:2]\n",
    "destinationhy=departhy[1:82:2]"
   ]
  },
  {
   "cell_type": "code",
   "execution_count": 187,
   "id": "20b6afb3",
   "metadata": {},
   "outputs": [],
   "source": [
    "driver.current_url\n",
    "try:\n",
    "    detail=driver.find_elements_by_xpath(\"//div[@class='link-color fs-12 cursor-pointer']/span\")\n",
    "    for x in range(len(detail)):\n",
    "        time.sleep(10)\n",
    "        driver.execute_script(\"window.scrollBy(0,document.body.scrollHeight);\")\n",
    "        detail[x].click()\n",
    "except:\n",
    "    pass\n",
    "date26=[]\n",
    "try:\n",
    "    journey26=driver.find_elements_by_xpath(\"//div[@class='bold fs-12 mb-5']\")\n",
    "    for j26 in journey26:\n",
    "        date26.append(j26.text)\n",
    "except:\n",
    "    date26.append(\"NONE\")"
   ]
  },
  {
   "cell_type": "code",
   "execution_count": 188,
   "id": "2e04ce7d",
   "metadata": {},
   "outputs": [],
   "source": [
    "journey_datehy=date26[0:41]"
   ]
  },
  {
   "cell_type": "code",
   "execution_count": 189,
   "id": "76f7697a",
   "metadata": {},
   "outputs": [
    {
     "name": "stdout",
     "output_type": "stream",
     "text": [
      "41 41 41 41 41 41 41 41 41\n"
     ]
    }
   ],
   "source": [
    "print(len(airlineshy),len(durationhy),len(total_stopshy),len(depart_timehy),len(arrival_timehy),len(pricehy),\n",
    "      len(sourcehy),len(destinationhy),len(journey_datehy))"
   ]
  },
  {
   "cell_type": "code",
   "execution_count": 190,
   "id": "d565f0f0",
   "metadata": {},
   "outputs": [],
   "source": [
    "#concatenating lists\n",
    "for f in airlineshy:\n",
    "    airlines.append(f)\n",
    "    \n",
    "for d in depart_timehy:\n",
    "    depart_time.append(d)\n",
    "    \n",
    "for a in arrival_timehy:\n",
    "    arrival_time.append(a)\n",
    "\n",
    "for j in journey_datehy:\n",
    "    journey_date.append(j)\n",
    "    \n",
    "for f in durationhy:\n",
    "    duration.append(f)\n",
    "    \n",
    "for s in total_stopshy:\n",
    "    total_stops.append(s)\n",
    "    \n",
    "for t in pricehy:\n",
    "    price.append(t)\n",
    "    \n",
    "for su in sourcehy:\n",
    "    source.append(su)\n",
    "    \n",
    "for de in destinationhy:\n",
    "    destination.append(de)"
   ]
  },
  {
   "cell_type": "code",
   "execution_count": 191,
   "id": "7c564499",
   "metadata": {},
   "outputs": [
    {
     "name": "stdout",
     "output_type": "stream",
     "text": [
      "1460 1460 1460 1460 1460 1460 1460 1459 1460\n"
     ]
    }
   ],
   "source": [
    "print(len(airlines),len(duration),len(total_stops),len(depart_time),len(arrival_time),len(price),len(source),len(destination),len(journey_date))"
   ]
  },
  {
   "cell_type": "markdown",
   "id": "1d4b48ce",
   "metadata": {},
   "source": [
    "# ALHIND"
   ]
  },
  {
   "cell_type": "code",
   "execution_count": 192,
   "id": "da89f3d9",
   "metadata": {},
   "outputs": [],
   "source": [
    "#connecting to webdriver\n",
    "driver3=webdriver.Chrome(r'C:\\Program Files (x86)\\chromedriver.exe')\n",
    "#opening the url\n",
    "driver3.get('https://www.alhind.com/')\n",
    "time.sleep(2)\n",
    "driver3.maximize_window()"
   ]
  },
  {
   "cell_type": "code",
   "execution_count": 193,
   "id": "121d8563",
   "metadata": {},
   "outputs": [],
   "source": [
    "\n",
    "origin=driver3.find_element_by_xpath(\"//input[@id='origin']\")\n",
    "time.sleep(3)\n",
    "origin.send_keys(\"Chennai\")\n",
    "time.sleep(3)\n",
    "\n",
    "goal=driver3.find_element_by_xpath(\"//input[@id='destination']\")\n",
    "time.sleep(3)\n",
    "goal.send_keys(\"Mumbai\")\n",
    "time.sleep(3)\n",
    "goal.click()\n",
    "day=driver3.find_element_by_xpath(\"//input[@id='OnwardDate']\")\n",
    "time.sleep(3)\n",
    "day.click()\n",
    "date=driver3.find_element_by_xpath(\"/html/body/div[13]/table/tbody/tr[4]/td[2]/a\")\n",
    "time.sleep(3)\n",
    "date.click()"
   ]
  },
  {
   "cell_type": "code",
   "execution_count": 194,
   "id": "3a9bce94",
   "metadata": {},
   "outputs": [],
   "source": [
    "#search\n",
    "search_al=\"//button[@id='btnSearch']\"\n",
    "\n",
    "driver3.find_element_by_xpath(search_al).click()"
   ]
  },
  {
   "cell_type": "code",
   "execution_count": null,
   "id": "5d59a22c",
   "metadata": {},
   "outputs": [],
   "source": [
    "#clicking ok on pop up\n",
    "ok=\"//div[@class='swal-footer']/div[2]\"\n",
    "\n",
    "driver3.find_element_by_xpath(ok).click()"
   ]
  },
  {
   "cell_type": "code",
   "execution_count": 197,
   "id": "d028f669",
   "metadata": {},
   "outputs": [],
   "source": [
    "#airline\n",
    "airlineshy=[]\n",
    "try:\n",
    "    airlinehy=driver3.find_elements_by_xpath(\"//div[@class='airline-name']/h1\")\n",
    "    for airhy in airlinehy:\n",
    "        airlineshy.append(airhy.text)\n",
    "except:\n",
    "    airlineshy.append(\"None\")\n",
    "\n",
    "#source\n",
    "departhy=[]\n",
    "try:\n",
    "    departshy=driver3.find_elements_by_xpath(\"//div[@class='start']/h4\")\n",
    "    for dehy in departshy:\n",
    "        departhy.append(dehy.text)\n",
    "except:\n",
    "    departhy.append(\"None\")\n",
    "    \n",
    "#destination\n",
    "goalhy=[]\n",
    "try:\n",
    "    goals=driver3.find_elements_by_xpath(\"//div[@class='end']/h4\")\n",
    "    for go in goals:\n",
    "        goalhy.append(go.text)\n",
    "except:\n",
    "    goalhy.append(\"None\")\n",
    "    \n",
    "#duration\n",
    "durationhy=[]\n",
    "try:\n",
    "    durablehy=driver3.find_elements_by_xpath(\"//div[@class='flight-col-1 hidden-xs']/ul/li[2]/div[3]/h1\")\n",
    "    for duhy in durablehy:\n",
    "        durationhy.append(duhy.text)\n",
    "except:\n",
    "    durationhy.append(\"none\")\n",
    "    \n",
    "#stops\n",
    "total_stopshy=[]\n",
    "try:\n",
    "    stopshy=driver3.find_elements_by_xpath(\"//div[@class='time']/h5/span\")\n",
    "    for st in stopshy:\n",
    "        total_stopshy.append(st.text.split(' '[0]))\n",
    "except NoSuchElementException:\n",
    "    total_stopshy.append(\"None\") \n",
    "    \n",
    "#departure time\n",
    "depart_timehy=[]\n",
    "try:\n",
    "    dephy=driver3.find_elements_by_xpath(\"//li[@class='timings']/div[1]/h1\")\n",
    "    for dphy in dephy:\n",
    "        depart_timehy.append(dphy.text)\n",
    "except:\n",
    "    depart_timehy.append(\"None\")     \n",
    "    \n",
    "#arrival time\n",
    "arrival_timehy=[]\n",
    "try:\n",
    "    arriverhy=driver3.find_elements_by_xpath(\"//li[@class='timings']/div[2]/h1\")\n",
    "    for arrhy in arriverhy:\n",
    "        arrival_timehy.append(arrhy.text)\n",
    "except:\n",
    "    arrival.timehy.append(\"None\")\n",
    "    \n",
    "#date of journey\n",
    "journey_datehy=[]\n",
    "try:\n",
    "    journeyhy=driver3.find_elements_by_xpath(\"//li[@class='timings']/div[1]/h5\")\n",
    "    for juh in journeyhy:\n",
    "        journey_datehy.append(juh.text)\n",
    "except:\n",
    "    journey-datehy.append(\"None\")\n",
    "    \n",
    "#price\n",
    "pricehy=[]\n",
    "try:\n",
    "    tickethy=driver3.find_elements_by_xpath(\"//div[@class='flight-col-1 hidden-xs']/ul/li[3]/h1/span\")\n",
    "    for tihy in tickethy:\n",
    "        pricehy.append(tihy.text)\n",
    "except:\n",
    "    pricehy.append(\"None\")"
   ]
  },
  {
   "cell_type": "code",
   "execution_count": 198,
   "id": "7e6f42c4",
   "metadata": {},
   "outputs": [
    {
     "name": "stdout",
     "output_type": "stream",
     "text": [
      "71 142 142\n"
     ]
    }
   ],
   "source": [
    "print(len(pricehy),len(departhy),len(goalhy))"
   ]
  },
  {
   "cell_type": "code",
   "execution_count": 202,
   "id": "786ed009",
   "metadata": {},
   "outputs": [],
   "source": [
    "sourcehy=departhy[1:142:2]\n",
    "destinationhy=goalhy[1:142:2]"
   ]
  },
  {
   "cell_type": "code",
   "execution_count": 203,
   "id": "5951ec86",
   "metadata": {},
   "outputs": [
    {
     "name": "stdout",
     "output_type": "stream",
     "text": [
      "71 71 57 71 71 71 71 71 71\n"
     ]
    }
   ],
   "source": [
    "print(len(airlineshy),len(durationhy),len(total_stopshy),len(depart_timehy),len(arrival_timehy),len(pricehy),\n",
    "      len(sourcehy),len(destinationhy),len(journey_datehy))"
   ]
  },
  {
   "cell_type": "code",
   "execution_count": 204,
   "id": "cd8e0293",
   "metadata": {},
   "outputs": [],
   "source": [
    "#concatenating lists\n",
    "for f in airlineshy:\n",
    "    airlines.append(f)\n",
    "    \n",
    "for d in depart_timehy:\n",
    "    depart_time.append(d)\n",
    "    \n",
    "for a in arrival_timehy:\n",
    "    arrival_time.append(a)\n",
    "\n",
    "for j in journey_datehy:\n",
    "    journey_date.append(j)\n",
    "    \n",
    "for f in durationhy:\n",
    "    duration.append(f)\n",
    "    \n",
    "for s in total_stopshy:\n",
    "    total_stops.append(s)\n",
    "    \n",
    "for t in pricehy:\n",
    "    price.append(t)\n",
    "    \n",
    "for su in sourcehy:\n",
    "    source.append(su)\n",
    "    \n",
    "for de in destinationhy:\n",
    "    destination.append(de)"
   ]
  },
  {
   "cell_type": "code",
   "execution_count": 205,
   "id": "d6da1d00",
   "metadata": {},
   "outputs": [
    {
     "name": "stdout",
     "output_type": "stream",
     "text": [
      "1531 1531 1517 1531 1531 1531 1531 1530 1531\n"
     ]
    }
   ],
   "source": [
    "print(len(airlines),len(duration),len(total_stops),len(depart_time),len(arrival_time),len(price),len(source),len(destination),len(journey_date))"
   ]
  },
  {
   "cell_type": "markdown",
   "id": "f64d2b01",
   "metadata": {},
   "source": [
    "another source and destination"
   ]
  },
  {
   "cell_type": "code",
   "execution_count": 208,
   "id": "abe96741",
   "metadata": {},
   "outputs": [],
   "source": [
    "origin=driver3.find_element_by_xpath(\"//input[@id='origin']\")\n",
    "time.sleep(3)\n",
    "origin.send_keys(\"Hyderabad\")\n",
    "time.sleep(3)\n",
    "\n",
    "goal=driver3.find_element_by_xpath(\"//input[@id='destination']\")\n",
    "time.sleep(3)\n",
    "goal.send_keys(\"Pune\")\n",
    "time.sleep(3)\n",
    "goal.click()\n",
    "\n",
    "day=driver3.find_element_by_xpath(\"//input[@id='OnwardDate']\")\n",
    "time.sleep(3)\n",
    "day.click()\n",
    "\n",
    "#date=driver3.find_element_by_xpath(\"/html/body/div[13]/table/tbody/tr[1]/td[6]/a\")\n",
    "#time.sleep(3)\n",
    "#date.click()"
   ]
  },
  {
   "cell_type": "code",
   "execution_count": 209,
   "id": "a3003e80",
   "metadata": {},
   "outputs": [],
   "source": [
    "#search\n",
    "search_al=\"//button[@id='btnSearch']\"\n",
    "\n",
    "driver3.find_element_by_xpath(search_al).click()"
   ]
  },
  {
   "cell_type": "code",
   "execution_count": 210,
   "id": "d728d648",
   "metadata": {},
   "outputs": [],
   "source": [
    "#airline\n",
    "airlineshy=[]\n",
    "try:\n",
    "    airlinehy=driver3.find_elements_by_xpath(\"//div[@class='airline-name']/h1\")\n",
    "    for airhy in airlinehy:\n",
    "        airlineshy.append(airhy.text)\n",
    "except:\n",
    "    airlineshy.append(\"None\")\n",
    "\n",
    "#source\n",
    "departhy=[]\n",
    "try:\n",
    "    departshy=driver3.find_elements_by_xpath(\"//div[@class='start']/h4\")\n",
    "    for dehy in departshy:\n",
    "        departhy.append(dehy.text)\n",
    "except:\n",
    "    departhy.append(\"None\")\n",
    "    \n",
    "#destination\n",
    "goalhy=[]\n",
    "try:\n",
    "    goals=driver3.find_elements_by_xpath(\"//div[@class='end']/h4\")\n",
    "    for go in goals:\n",
    "        goalhy.append(go.text)\n",
    "except:\n",
    "    goalhy.append(\"None\")\n",
    "    \n",
    "#duration\n",
    "durationhy=[]\n",
    "try:\n",
    "    durablehy=driver3.find_elements_by_xpath(\"//div[@class='flight-col-1 hidden-xs']/ul/li[2]/div[3]/h1\")\n",
    "    for duhy in durablehy:\n",
    "        durationhy.append(duhy.text)\n",
    "except:\n",
    "    durationhy.append(\"none\")\n",
    "    \n",
    "#stops\n",
    "total_stopshy=[]\n",
    "try:\n",
    "    stopshy=driver3.find_elements_by_xpath(\"//div[@class='time']/h5/span\")\n",
    "    for st in stopshy:\n",
    "        total_stopshy.append(st.text.split(' '[0]))\n",
    "except NoSuchElementException:\n",
    "    total_stopshy.append(\"None\") \n",
    "    \n",
    "#departure time\n",
    "depart_timehy=[]\n",
    "try:\n",
    "    dephy=driver3.find_elements_by_xpath(\"//li[@class='timings']/div[1]/h1\")\n",
    "    for dphy in dephy:\n",
    "        depart_timehy.append(dphy.text)\n",
    "except:\n",
    "    depart_timehy.append(\"None\")     \n",
    "    \n",
    "#arrival time\n",
    "arrival_timehy=[]\n",
    "try:\n",
    "    arriverhy=driver3.find_elements_by_xpath(\"//li[@class='timings']/div[2]/h1\")\n",
    "    for arrhy in arriverhy:\n",
    "        arrival_timehy.append(arrhy.text)\n",
    "except:\n",
    "    arrival.timehy.append(\"None\")\n",
    "    \n",
    "#date of journey\n",
    "journey_datehy=[]\n",
    "try:\n",
    "    journeyhy=driver3.find_elements_by_xpath(\"//li[@class='timings']/div[1]/h5\")\n",
    "    for juh in journeyhy:\n",
    "        journey_datehy.append(juh.text)\n",
    "except:\n",
    "    journey-datehy.append(\"None\")\n",
    "    \n",
    "#price\n",
    "pricehy=[]\n",
    "try:\n",
    "    tickethy=driver3.find_elements_by_xpath(\"//div[@class='flight-col-1 hidden-xs']/ul/li[3]/h1/span\")\n",
    "    for tihy in tickethy:\n",
    "        pricehy.append(tihy.text)\n",
    "except:\n",
    "    pricehy.append(\"None\")"
   ]
  },
  {
   "cell_type": "code",
   "execution_count": 211,
   "id": "b1e5ffb2",
   "metadata": {},
   "outputs": [
    {
     "name": "stdout",
     "output_type": "stream",
     "text": [
      "24 48 48\n"
     ]
    }
   ],
   "source": [
    "print(len(pricehy),len(departhy),len(goalhy))"
   ]
  },
  {
   "cell_type": "code",
   "execution_count": 213,
   "id": "80292b76",
   "metadata": {},
   "outputs": [],
   "source": [
    "sourcehy=departhy[1:48:2]\n",
    "destinationhy=goalhy[1:48:2]"
   ]
  },
  {
   "cell_type": "code",
   "execution_count": 214,
   "id": "6ce845e9",
   "metadata": {},
   "outputs": [
    {
     "name": "stdout",
     "output_type": "stream",
     "text": [
      "24 24 24 24 24 24 24 24 24\n"
     ]
    }
   ],
   "source": [
    "print(len(airlineshy),len(durationhy),len(total_stopshy),len(depart_timehy),len(arrival_timehy),len(pricehy),\n",
    "      len(sourcehy),len(destinationhy),len(journey_datehy))"
   ]
  },
  {
   "cell_type": "code",
   "execution_count": 215,
   "id": "11513a4a",
   "metadata": {},
   "outputs": [],
   "source": [
    "#concatenating lists\n",
    "for f in airlineshy:\n",
    "    airlines.append(f)\n",
    "    \n",
    "for d in depart_timehy:\n",
    "    depart_time.append(d)\n",
    "    \n",
    "for a in arrival_timehy:\n",
    "    arrival_time.append(a)\n",
    "\n",
    "for j in journey_datehy:\n",
    "    journey_date.append(j)\n",
    "    \n",
    "for f in durationhy:\n",
    "    duration.append(f)\n",
    "    \n",
    "for s in total_stopshy:\n",
    "    total_stops.append(s)\n",
    "    \n",
    "for t in pricehy:\n",
    "    price.append(t)\n",
    "    \n",
    "for su in sourcehy:\n",
    "    source.append(su)\n",
    "    \n",
    "for de in destinationhy:\n",
    "    destination.append(de)"
   ]
  },
  {
   "cell_type": "code",
   "execution_count": 216,
   "id": "06e4329b",
   "metadata": {},
   "outputs": [
    {
     "name": "stdout",
     "output_type": "stream",
     "text": [
      "1555 1555 1541 1555 1555 1555 1555 1554 1555\n"
     ]
    }
   ],
   "source": [
    "print(len(airlines),len(duration),len(total_stops),len(depart_time),len(arrival_time),len(price),len(source),len(destination),len(journey_date))"
   ]
  },
  {
   "cell_type": "markdown",
   "id": "154ef428",
   "metadata": {},
   "source": [
    "Kochi to delhi"
   ]
  },
  {
   "cell_type": "code",
   "execution_count": 217,
   "id": "1e6427a4",
   "metadata": {},
   "outputs": [],
   "source": [
    "origin=driver3.find_element_by_xpath(\"//input[@id='origin']\")\n",
    "time.sleep(3)\n",
    "origin.send_keys(\"Kochi\")\n",
    "time.sleep(3)\n",
    "\n",
    "goal=driver3.find_element_by_xpath(\"//input[@id='destination']\")\n",
    "time.sleep(3)\n",
    "goal.send_keys(\"Delhi\")\n",
    "time.sleep(3)\n",
    "goal.click()\n",
    "\n",
    "day=driver3.find_element_by_xpath(\"//input[@id='OnwardDate']\")\n",
    "time.sleep(3)\n",
    "day.click()\n",
    "\n",
    "#date=driver3.find_element_by_xpath(\"/html/body/div[13]/table/tbody/tr[1]/td[6]/a\")\n",
    "#time.sleep(3)\n",
    "#date.click()"
   ]
  },
  {
   "cell_type": "code",
   "execution_count": 218,
   "id": "6944d91d",
   "metadata": {},
   "outputs": [],
   "source": [
    "#search\n",
    "search_al=\"//button[@id='btnSearch']\"\n",
    "\n",
    "driver3.find_element_by_xpath(search_al).click()"
   ]
  },
  {
   "cell_type": "code",
   "execution_count": 219,
   "id": "710b25c9",
   "metadata": {},
   "outputs": [],
   "source": [
    "#airline\n",
    "airlineshy=[]\n",
    "try:\n",
    "    airlinehy=driver3.find_elements_by_xpath(\"//div[@class='airline-name']/h1\")\n",
    "    for airhy in airlinehy:\n",
    "        airlineshy.append(airhy.text)\n",
    "except:\n",
    "    airlineshy.append(\"None\")\n",
    "\n",
    "#source\n",
    "departhy=[]\n",
    "try:\n",
    "    departshy=driver3.find_elements_by_xpath(\"//div[@class='start']/h4\")\n",
    "    for dehy in departshy:\n",
    "        departhy.append(dehy.text)\n",
    "except:\n",
    "    departhy.append(\"None\")\n",
    "    \n",
    "#destination\n",
    "goalhy=[]\n",
    "try:\n",
    "    goals=driver3.find_elements_by_xpath(\"//div[@class='end']/h4\")\n",
    "    for go in goals:\n",
    "        goalhy.append(go.text)\n",
    "except:\n",
    "    goalhy.append(\"None\")\n",
    "    \n",
    "#duration\n",
    "durationhy=[]\n",
    "try:\n",
    "    durablehy=driver3.find_elements_by_xpath(\"//div[@class='flight-col-1 hidden-xs']/ul/li[2]/div[3]/h1\")\n",
    "    for duhy in durablehy:\n",
    "        durationhy.append(duhy.text)\n",
    "except:\n",
    "    durationhy.append(\"none\")\n",
    "    \n",
    "#stops\n",
    "total_stopshy=[]\n",
    "try:\n",
    "    stopshy=driver3.find_elements_by_xpath(\"//div[@class='time']/h5/span\")\n",
    "    for st in stopshy:\n",
    "        total_stopshy.append(st.text.split(' '[0]))\n",
    "except NoSuchElementException:\n",
    "    total_stopshy.append(\"None\") \n",
    "    \n",
    "#departure time\n",
    "depart_timehy=[]\n",
    "try:\n",
    "    dephy=driver3.find_elements_by_xpath(\"//li[@class='timings']/div[1]/h1\")\n",
    "    for dphy in dephy:\n",
    "        depart_timehy.append(dphy.text)\n",
    "except:\n",
    "    depart_timehy.append(\"None\")     \n",
    "    \n",
    "#arrival time\n",
    "arrival_timehy=[]\n",
    "try:\n",
    "    arriverhy=driver3.find_elements_by_xpath(\"//li[@class='timings']/div[2]/h1\")\n",
    "    for arrhy in arriverhy:\n",
    "        arrival_timehy.append(arrhy.text)\n",
    "except:\n",
    "    arrival.timehy.append(\"None\")\n",
    "    \n",
    "#date of journey\n",
    "journey_datehy=[]\n",
    "try:\n",
    "    journeyhy=driver3.find_elements_by_xpath(\"//li[@class='timings']/div[1]/h5\")\n",
    "    for juh in journeyhy:\n",
    "        journey_datehy.append(juh.text)\n",
    "except:\n",
    "    journey-datehy.append(\"None\")\n",
    "    \n",
    "#price\n",
    "pricehy=[]\n",
    "try:\n",
    "    tickethy=driver3.find_elements_by_xpath(\"//div[@class='flight-col-1 hidden-xs']/ul/li[3]/h1/span\")\n",
    "    for tihy in tickethy:\n",
    "        pricehy.append(tihy.text)\n",
    "except:\n",
    "    pricehy.append(\"None\")"
   ]
  },
  {
   "cell_type": "code",
   "execution_count": 220,
   "id": "261442a4",
   "metadata": {},
   "outputs": [
    {
     "name": "stdout",
     "output_type": "stream",
     "text": [
      "72 144 144\n"
     ]
    }
   ],
   "source": [
    "print(len(pricehy),len(departhy),len(goalhy))"
   ]
  },
  {
   "cell_type": "code",
   "execution_count": 221,
   "id": "8531c80f",
   "metadata": {},
   "outputs": [],
   "source": [
    "sourcehy=departhy[1:144:2]\n",
    "destinationhy=goalhy[1:144:2]"
   ]
  },
  {
   "cell_type": "code",
   "execution_count": 222,
   "id": "bc62d10f",
   "metadata": {},
   "outputs": [
    {
     "name": "stdout",
     "output_type": "stream",
     "text": [
      "72 72 64 72 72 72 72 72 72\n"
     ]
    }
   ],
   "source": [
    "print(len(airlineshy),len(durationhy),len(total_stopshy),len(depart_timehy),len(arrival_timehy),len(pricehy),\n",
    "      len(sourcehy),len(destinationhy),len(journey_datehy))"
   ]
  },
  {
   "cell_type": "code",
   "execution_count": 223,
   "id": "134f3815",
   "metadata": {},
   "outputs": [],
   "source": [
    "#concatenating lists\n",
    "for f in airlineshy:\n",
    "    airlines.append(f)\n",
    "    \n",
    "for d in depart_timehy:\n",
    "    depart_time.append(d)\n",
    "    \n",
    "for a in arrival_timehy:\n",
    "    arrival_time.append(a)\n",
    "\n",
    "for j in journey_datehy:\n",
    "    journey_date.append(j)\n",
    "    \n",
    "for f in durationhy:\n",
    "    duration.append(f)\n",
    "    \n",
    "for s in total_stopshy:\n",
    "    total_stops.append(s)\n",
    "    \n",
    "for t in pricehy:\n",
    "    price.append(t)\n",
    "    \n",
    "for su in sourcehy:\n",
    "    source.append(su)\n",
    "    \n",
    "for de in destinationhy:\n",
    "    destination.append(de)"
   ]
  },
  {
   "cell_type": "code",
   "execution_count": 224,
   "id": "9d37b4a2",
   "metadata": {},
   "outputs": [
    {
     "name": "stdout",
     "output_type": "stream",
     "text": [
      "1627 1627 1605 1627 1627 1627 1627 1626 1627\n"
     ]
    }
   ],
   "source": [
    "print(len(airlines),len(duration),len(total_stops),len(depart_time),len(arrival_time),len(price),len(source),len(destination),len(journey_date))"
   ]
  },
  {
   "cell_type": "code",
   "execution_count": 226,
   "id": "f738fdd1",
   "metadata": {},
   "outputs": [],
   "source": [
    "#dataframe\n",
    "flight=pd.DataFrame({})\n",
    "\n",
    "flight['Airline']=airlines[:1600]\n",
    "flight['Duration']=duration[:1600]\n",
    "flight['Total Stops']=total_stops[:1600]\n",
    "flight['Dep_Time']=depart_time[:1600]\n",
    "flight['Arrival_Time']=arrival_time[:1600]\n",
    "flight['Source']=source[:1600]\n",
    "flight['Destination']=destination[:1600]\n",
    "flight['Date_of_journey']=journey_date[:1600]\n",
    "flight['Price']=price[:1600]"
   ]
  },
  {
   "cell_type": "code",
   "execution_count": 228,
   "id": "1a1bb939",
   "metadata": {},
   "outputs": [
    {
     "data": {
      "text/html": [
       "<div>\n",
       "<style scoped>\n",
       "    .dataframe tbody tr th:only-of-type {\n",
       "        vertical-align: middle;\n",
       "    }\n",
       "\n",
       "    .dataframe tbody tr th {\n",
       "        vertical-align: top;\n",
       "    }\n",
       "\n",
       "    .dataframe thead th {\n",
       "        text-align: right;\n",
       "    }\n",
       "</style>\n",
       "<table border=\"1\" class=\"dataframe\">\n",
       "  <thead>\n",
       "    <tr style=\"text-align: right;\">\n",
       "      <th></th>\n",
       "      <th>Airline</th>\n",
       "      <th>Duration</th>\n",
       "      <th>Total Stops</th>\n",
       "      <th>Dep_Time</th>\n",
       "      <th>Arrival_Time</th>\n",
       "      <th>Source</th>\n",
       "      <th>Destination</th>\n",
       "      <th>Date_of_journey</th>\n",
       "      <th>Price</th>\n",
       "    </tr>\n",
       "  </thead>\n",
       "  <tbody>\n",
       "    <tr>\n",
       "      <th>0</th>\n",
       "      <td>SpiceJet</td>\n",
       "      <td>2h 00m</td>\n",
       "      <td>Non Stop</td>\n",
       "      <td>21:50</td>\n",
       "      <td>2h 00m</td>\n",
       "      <td>Chennai</td>\n",
       "      <td>Mumbai</td>\n",
       "      <td>Wed, 23 Feb 2022</td>\n",
       "      <td>5,879</td>\n",
       "    </tr>\n",
       "    <tr>\n",
       "      <th>1</th>\n",
       "      <td>Air Asia</td>\n",
       "      <td>4h 30m</td>\n",
       "      <td>1 Stop</td>\n",
       "      <td>16:05</td>\n",
       "      <td>4h 30m</td>\n",
       "      <td>Chennai</td>\n",
       "      <td>Mumbai</td>\n",
       "      <td>Wed, 23 Feb 2022</td>\n",
       "      <td>5,880</td>\n",
       "    </tr>\n",
       "    <tr>\n",
       "      <th>2</th>\n",
       "      <td>Air Asia</td>\n",
       "      <td>8h 40m</td>\n",
       "      <td>1 Stop</td>\n",
       "      <td>22:35</td>\n",
       "      <td>8h 40m</td>\n",
       "      <td>Chennai</td>\n",
       "      <td>Mumbai</td>\n",
       "      <td>Wed, 23 Feb 2022</td>\n",
       "      <td>5,880</td>\n",
       "    </tr>\n",
       "    <tr>\n",
       "      <th>3</th>\n",
       "      <td>Air Asia</td>\n",
       "      <td>13h 20m</td>\n",
       "      <td>1 Stop</td>\n",
       "      <td>09:05</td>\n",
       "      <td>13h 20m</td>\n",
       "      <td>Chennai</td>\n",
       "      <td>Mumbai</td>\n",
       "      <td>Wed, 23 Feb 2022</td>\n",
       "      <td>5,880</td>\n",
       "    </tr>\n",
       "    <tr>\n",
       "      <th>4</th>\n",
       "      <td>IndiGo</td>\n",
       "      <td>1h 50m</td>\n",
       "      <td>Non Stop</td>\n",
       "      <td>04:45</td>\n",
       "      <td>1h 50m</td>\n",
       "      <td>Chennai</td>\n",
       "      <td>Mumbai</td>\n",
       "      <td>Thu, 24 Feb 2022</td>\n",
       "      <td>5,882</td>\n",
       "    </tr>\n",
       "  </tbody>\n",
       "</table>\n",
       "</div>"
      ],
      "text/plain": [
       "    Airline Duration Total Stops Dep_Time Arrival_Time   Source Destination  \\\n",
       "0  SpiceJet   2h 00m    Non Stop    21:50       2h 00m  Chennai      Mumbai   \n",
       "1  Air Asia   4h 30m      1 Stop    16:05       4h 30m  Chennai      Mumbai   \n",
       "2  Air Asia   8h 40m      1 Stop    22:35       8h 40m  Chennai      Mumbai   \n",
       "3  Air Asia  13h 20m      1 Stop    09:05      13h 20m  Chennai      Mumbai   \n",
       "4    IndiGo   1h 50m    Non Stop    04:45       1h 50m  Chennai      Mumbai   \n",
       "\n",
       "    Date_of_journey  Price  \n",
       "0  Wed, 23 Feb 2022  5,879  \n",
       "1  Wed, 23 Feb 2022  5,880  \n",
       "2  Wed, 23 Feb 2022  5,880  \n",
       "3  Wed, 23 Feb 2022  5,880  \n",
       "4  Thu, 24 Feb 2022  5,882  "
      ]
     },
     "execution_count": 228,
     "metadata": {},
     "output_type": "execute_result"
    }
   ],
   "source": [
    "flight.head()"
   ]
  },
  {
   "cell_type": "code",
   "execution_count": 229,
   "id": "f6cee4c3",
   "metadata": {},
   "outputs": [],
   "source": [
    "#to csv\n",
    "flight.to_csv(\"flight_details.csv\")"
   ]
  }
 ],
 "metadata": {
  "kernelspec": {
   "display_name": "Python 3",
   "language": "python",
   "name": "python3"
  },
  "language_info": {
   "codemirror_mode": {
    "name": "ipython",
    "version": 3
   },
   "file_extension": ".py",
   "mimetype": "text/x-python",
   "name": "python",
   "nbconvert_exporter": "python",
   "pygments_lexer": "ipython3",
   "version": "3.8.8"
  }
 },
 "nbformat": 4,
 "nbformat_minor": 5
}
