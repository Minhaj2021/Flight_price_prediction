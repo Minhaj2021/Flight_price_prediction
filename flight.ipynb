{
 "cells": [
  {
   "cell_type": "markdown",
   "id": "9a281778",
   "metadata": {},
   "source": [
    "# Flight Price Prediction"
   ]
  },
  {
   "cell_type": "code",
   "execution_count": 1,
   "id": "da502eb6",
   "metadata": {},
   "outputs": [],
   "source": [
    "import pandas as pd\n",
    "import numpy as np\n",
    "import seaborn as sns \n",
    "import matplotlib.pyplot as plt\n",
    "import warnings\n",
    "warnings.filterwarnings('ignore')\n",
    "from sklearn.tree import DecisionTreeRegressor\n",
    "from sklearn.svm import SVR\n",
    "from sklearn.linear_model import LinearRegression\n",
    "from sklearn.ensemble import RandomForestRegressor\n",
    "from xgboost import XGBRegressor\n",
    "from sklearn.metrics import r2_score,mean_absolute_error,mean_squared_error\n",
    "from sklearn.preprocessing import StandardScaler,LabelEncoder\n",
    "from xgboost import XGBRegressor\n",
    "from sklearn.model_selection import train_test_split,cross_val_score,GridSearchCV\n",
    "from statsmodels.stats.outliers_influence import variance_inflation_factor"
   ]
  },
  {
   "cell_type": "code",
   "execution_count": 3,
   "id": "14bda23c",
   "metadata": {},
   "outputs": [],
   "source": [
    "df=pd.read_csv('flight_details.csv',index_col=0)"
   ]
  },
  {
   "cell_type": "code",
   "execution_count": 4,
   "id": "851045cf",
   "metadata": {
    "scrolled": true
   },
   "outputs": [
    {
     "data": {
      "text/html": [
       "<div>\n",
       "<style scoped>\n",
       "    .dataframe tbody tr th:only-of-type {\n",
       "        vertical-align: middle;\n",
       "    }\n",
       "\n",
       "    .dataframe tbody tr th {\n",
       "        vertical-align: top;\n",
       "    }\n",
       "\n",
       "    .dataframe thead th {\n",
       "        text-align: right;\n",
       "    }\n",
       "</style>\n",
       "<table border=\"1\" class=\"dataframe\">\n",
       "  <thead>\n",
       "    <tr style=\"text-align: right;\">\n",
       "      <th></th>\n",
       "      <th>Airline</th>\n",
       "      <th>Duration</th>\n",
       "      <th>Total Stops</th>\n",
       "      <th>Dep_Time</th>\n",
       "      <th>Arrival_Time</th>\n",
       "      <th>Source</th>\n",
       "      <th>Destination</th>\n",
       "      <th>Date_of_journey</th>\n",
       "      <th>Price</th>\n",
       "    </tr>\n",
       "  </thead>\n",
       "  <tbody>\n",
       "    <tr>\n",
       "      <th>0</th>\n",
       "      <td>Air Asia</td>\n",
       "      <td>4h 30m</td>\n",
       "      <td>1 Stop</td>\n",
       "      <td>16:05</td>\n",
       "      <td>20:35</td>\n",
       "      <td>Chennai</td>\n",
       "      <td>Mumbai</td>\n",
       "      <td>Tue, 22 Feb 2022</td>\n",
       "      <td>5,880</td>\n",
       "    </tr>\n",
       "    <tr>\n",
       "      <th>1</th>\n",
       "      <td>Air Asia</td>\n",
       "      <td>8h 40m</td>\n",
       "      <td>1 Stop</td>\n",
       "      <td>22:35</td>\n",
       "      <td>07:15\\n+ 1 day</td>\n",
       "      <td>Chennai</td>\n",
       "      <td>Mumbai</td>\n",
       "      <td>Tue, 22 Feb 2022</td>\n",
       "      <td>5,880</td>\n",
       "    </tr>\n",
       "    <tr>\n",
       "      <th>2</th>\n",
       "      <td>IndiGo</td>\n",
       "      <td>1h 50m</td>\n",
       "      <td>Non Stop</td>\n",
       "      <td>04:45</td>\n",
       "      <td>06:35</td>\n",
       "      <td>Chennai</td>\n",
       "      <td>Mumbai</td>\n",
       "      <td>Tue, 22 Feb 2022</td>\n",
       "      <td>5,882</td>\n",
       "    </tr>\n",
       "    <tr>\n",
       "      <th>3</th>\n",
       "      <td>IndiGo</td>\n",
       "      <td>2h 05m</td>\n",
       "      <td>Non Stop</td>\n",
       "      <td>22:15</td>\n",
       "      <td>00:20\\n+ 1 day</td>\n",
       "      <td>Chennai</td>\n",
       "      <td>Mumbai</td>\n",
       "      <td>Wed, 23 Feb 2022</td>\n",
       "      <td>5,882</td>\n",
       "    </tr>\n",
       "    <tr>\n",
       "      <th>4</th>\n",
       "      <td>Vistara</td>\n",
       "      <td>2h 00m</td>\n",
       "      <td>Non Stop</td>\n",
       "      <td>12:30</td>\n",
       "      <td>14:30</td>\n",
       "      <td>Chennai</td>\n",
       "      <td>Mumbai</td>\n",
       "      <td>Tue, 22 Feb 2022</td>\n",
       "      <td>5,883</td>\n",
       "    </tr>\n",
       "  </tbody>\n",
       "</table>\n",
       "</div>"
      ],
      "text/plain": [
       "    Airline Duration Total Stops Dep_Time    Arrival_Time   Source  \\\n",
       "0  Air Asia   4h 30m      1 Stop    16:05           20:35  Chennai   \n",
       "1  Air Asia   8h 40m      1 Stop    22:35  07:15\\n+ 1 day  Chennai   \n",
       "2    IndiGo   1h 50m    Non Stop    04:45           06:35  Chennai   \n",
       "3    IndiGo   2h 05m    Non Stop    22:15  00:20\\n+ 1 day  Chennai   \n",
       "4   Vistara   2h 00m    Non Stop    12:30           14:30  Chennai   \n",
       "\n",
       "  Destination   Date_of_journey  Price  \n",
       "0      Mumbai  Tue, 22 Feb 2022  5,880  \n",
       "1      Mumbai  Tue, 22 Feb 2022  5,880  \n",
       "2      Mumbai  Tue, 22 Feb 2022  5,882  \n",
       "3      Mumbai  Wed, 23 Feb 2022  5,882  \n",
       "4      Mumbai  Tue, 22 Feb 2022  5,883  "
      ]
     },
     "execution_count": 4,
     "metadata": {},
     "output_type": "execute_result"
    }
   ],
   "source": [
    "df.head()"
   ]
  },
  {
   "cell_type": "code",
   "execution_count": 5,
   "id": "52d29d8e",
   "metadata": {},
   "outputs": [
    {
     "data": {
      "text/plain": [
       "(1710, 9)"
      ]
     },
     "execution_count": 5,
     "metadata": {},
     "output_type": "execute_result"
    }
   ],
   "source": [
    "df.shape"
   ]
  },
  {
   "cell_type": "code",
   "execution_count": 6,
   "id": "79f961da",
   "metadata": {},
   "outputs": [
    {
     "data": {
      "text/plain": [
       "Airline            object\n",
       "Duration           object\n",
       "Total Stops        object\n",
       "Dep_Time           object\n",
       "Arrival_Time       object\n",
       "Source             object\n",
       "Destination        object\n",
       "Date_of_journey    object\n",
       "Price              object\n",
       "dtype: object"
      ]
     },
     "execution_count": 6,
     "metadata": {},
     "output_type": "execute_result"
    }
   ],
   "source": [
    "df.dtypes"
   ]
  },
  {
   "cell_type": "code",
   "execution_count": 7,
   "id": "6d9cb299",
   "metadata": {},
   "outputs": [
    {
     "data": {
      "text/plain": [
       "Airline            0\n",
       "Duration           0\n",
       "Total Stops        0\n",
       "Dep_Time           0\n",
       "Arrival_Time       0\n",
       "Source             0\n",
       "Destination        0\n",
       "Date_of_journey    0\n",
       "Price              0\n",
       "dtype: int64"
      ]
     },
     "execution_count": 7,
     "metadata": {},
     "output_type": "execute_result"
    }
   ],
   "source": [
    "df.isnull().sum()"
   ]
  },
  {
   "cell_type": "code",
   "execution_count": 8,
   "id": "d2dbe75e",
   "metadata": {},
   "outputs": [
    {
     "name": "stdout",
     "output_type": "stream",
     "text": [
      "<class 'pandas.core.frame.DataFrame'>\n",
      "Int64Index: 1710 entries, 0 to 1709\n",
      "Data columns (total 9 columns):\n",
      " #   Column           Non-Null Count  Dtype \n",
      "---  ------           --------------  ----- \n",
      " 0   Airline          1710 non-null   object\n",
      " 1   Duration         1710 non-null   object\n",
      " 2   Total Stops      1710 non-null   object\n",
      " 3   Dep_Time         1710 non-null   object\n",
      " 4   Arrival_Time     1710 non-null   object\n",
      " 5   Source           1710 non-null   object\n",
      " 6   Destination      1710 non-null   object\n",
      " 7   Date_of_journey  1710 non-null   object\n",
      " 8   Price            1710 non-null   object\n",
      "dtypes: object(9)\n",
      "memory usage: 133.6+ KB\n"
     ]
    }
   ],
   "source": [
    "df.info()"
   ]
  },
  {
   "cell_type": "code",
   "execution_count": 9,
   "id": "2de676dd",
   "metadata": {},
   "outputs": [
    {
     "data": {
      "text/plain": [
       "Airline              6\n",
       "Duration           300\n",
       "Total Stops          4\n",
       "Dep_Time           214\n",
       "Arrival_Time       307\n",
       "Source               6\n",
       "Destination          8\n",
       "Date_of_journey     17\n",
       "Price              593\n",
       "dtype: int64"
      ]
     },
     "execution_count": 9,
     "metadata": {},
     "output_type": "execute_result"
    }
   ],
   "source": [
    "df.nunique()"
   ]
  },
  {
   "cell_type": "markdown",
   "id": "cbb193eb",
   "metadata": {},
   "source": [
    "# EDA"
   ]
  },
  {
   "cell_type": "code",
   "execution_count": 10,
   "id": "28dce18b",
   "metadata": {},
   "outputs": [
    {
     "data": {
      "image/png": "[encoded data removed]",
      "text/plain": [
       "<Figure size 576x576 with 1 Axes>"
      ]
     },
     "metadata": {
      "needs_background": "light"
     },
     "output_type": "display_data"
    },
    {
     "data": {
      "text/plain": [
       "IndiGo       513\n",
       "Vistara      507\n",
       "Air India    409\n",
       "Go First     127\n",
       "Air Asia      95\n",
       "SpiceJet      59\n",
       "Name: Airline, dtype: int64"
      ]
     },
     "execution_count": 10,
     "metadata": {},
     "output_type": "execute_result"
    }
   ],
   "source": [
    "plt.figure(figsize=(8,8))\n",
    "sns.countplot('Airline',data=df)\n",
    "plt.show()\n",
    "df['Airline'].value_counts()"
   ]
  },
  {
   "cell_type": "code",
   "execution_count": 11,
   "id": "eff43f92",
   "metadata": {},
   "outputs": [
    {
     "data": {
      "image/png": "[encoded data removed]",
      "text/plain": [
       "<Figure size 576x576 with 1 Axes>"
      ]
     },
     "metadata": {
      "needs_background": "light"
     },
     "output_type": "display_data"
    },
    {
     "data": {
      "text/plain": [
       "Bangalore     474\n",
       "Hyderabad     465\n",
       "Chennai       439\n",
       "New Delhi     291\n",
       "Coimbatore     25\n",
       "Kochi          16\n",
       "Name: Source, dtype: int64"
      ]
     },
     "execution_count": 11,
     "metadata": {},
     "output_type": "execute_result"
    }
   ],
   "source": [
    "plt.figure(figsize=(8,8))\n",
    "sns.countplot('Source',data=df)\n",
    "plt.show()\n",
    "df['Source'].value_counts()"
   ]
  },
  {
   "cell_type": "code",
   "execution_count": 12,
   "id": "eb58c1d4",
   "metadata": {},
   "outputs": [
    {
     "data": {
      "image/png": "[encoded data removed]",
      "text/plain": [
       "<Figure size 1080x720 with 1 Axes>"
      ]
     },
     "metadata": {
      "needs_background": "light"
     },
     "output_type": "display_data"
    },
    {
     "data": {
      "text/plain": [
       "Kolkata      376\n",
       "Mumbai       317\n",
       "Chennai      291\n",
       "Lucknow      280\n",
       "Ahmedabad    148\n",
       "Pune         144\n",
       "New Delhi    138\n",
       "Srinagar      16\n",
       "Name: Destination, dtype: int64"
      ]
     },
     "execution_count": 12,
     "metadata": {},
     "output_type": "execute_result"
    }
   ],
   "source": [
    "plt.figure(figsize=(15,10))\n",
    "sns.countplot('Destination',data=df)\n",
    "plt.show()\n",
    "df['Destination'].value_counts()"
   ]
  },
  {
   "cell_type": "code",
   "execution_count": 13,
   "id": "6f7ce0b8",
   "metadata": {},
   "outputs": [
    {
     "data": {
      "text/plain": [
       "array(['1 Stop', 'Non Stop', '2 Stop(s)', '3 Stop(s)'], dtype=object)"
      ]
     },
     "execution_count": 13,
     "metadata": {},
     "output_type": "execute_result"
    }
   ],
   "source": [
    "df['Total Stops'].unique()"
   ]
  },
  {
   "cell_type": "code",
   "execution_count": 14,
   "id": "c1a9b375",
   "metadata": {},
   "outputs": [
    {
     "data": {
      "image/png": "[encoded data removed]",
      "text/plain": [
       "<Figure size 576x576 with 1 Axes>"
      ]
     },
     "metadata": {
      "needs_background": "light"
     },
     "output_type": "display_data"
    },
    {
     "data": {
      "text/plain": [
       "1 Stop       1202\n",
       "2 Stop(s)     317\n",
       "Non Stop      164\n",
       "3 Stop(s)      27\n",
       "Name: Total Stops, dtype: int64"
      ]
     },
     "execution_count": 14,
     "metadata": {},
     "output_type": "execute_result"
    }
   ],
   "source": [
    "plt.figure(figsize=(8,8))\n",
    "sns.countplot('Total Stops',data=df)\n",
    "plt.show()\n",
    "df['Total Stops'].value_counts()"
   ]
  },
  {
   "cell_type": "code",
   "execution_count": 15,
   "id": "8e823e41",
   "metadata": {},
   "outputs": [
    {
     "data": {
      "text/plain": [
       "Index(['Airline', 'Duration', 'Total Stops', 'Dep_Time', 'Arrival_Time',\n",
       "       'Source', 'Destination', 'Date_of_journey', 'Price'],\n",
       "      dtype='object')"
      ]
     },
     "execution_count": 15,
     "metadata": {},
     "output_type": "execute_result"
    }
   ],
   "source": [
    "df.columns"
   ]
  },
  {
   "cell_type": "code",
   "execution_count": 16,
   "id": "c4c1e8d7",
   "metadata": {},
   "outputs": [
    {
     "data": {
      "text/plain": [
       "array(['4h 30m', '8h 40m', '1h 50m', '2h 05m', '2h 00m', '1h 55m',\n",
       "       '1h 45m', '13h 20m', '5h 00m', '6h 30m', '7h 05m', '7h 40m',\n",
       "       '8h 45m', '9h 00m', '5h 55m', '9h 20m', '26h 35m', '8h 30m',\n",
       "       '5h 20m', '6h 45m', '15h 25m', '12h 45m', '13h 50m', '14h 55m',\n",
       "       '16h 30m', '21h 40m', '23h 40m', '24h 55m', '25h 15m', '6h 40m',\n",
       "       '4h 45m', '8h 55m', '8h 05m', '10h 05m', '11h 20m', '12h 15m',\n",
       "       '23h 10m', '24h 15m', '25h 20m', '26h 55m', '7h 25m', '5h 05m',\n",
       "       '5h 35m', '7h 15m', '5h 30m', '10h 50m', '12h 40m', '14h 05m',\n",
       "       '14h 30m', '15h 30m', '16h 55m', '17h 55m', '20h 35m', '22h 00m',\n",
       "       '23h 00m', '24h 10m', '25h 45m', '5h 40m', '19h 25m', '4h 05m',\n",
       "       '11h 30m', '13h 40m', '24h 35m', '25h 40m', '26h 45m', '28h 20m',\n",
       "       '25h 05m', '33h 30m', '35h 30m', '36h 45m', '37h 05m', '37h 40m',\n",
       "       '9h 35m', '5h 45m', '6h 55m', '8h 20m', '9h 55m', '9h 30m',\n",
       "       '10h 00m', '11h 05m', '11h 25m', '9h 15m', '14h 45m', '2h 15m',\n",
       "       '6h 20m', '4h 55m', '6h 10m', '11h 40m', '16h 05m', '17h 10m',\n",
       "       '18h 15m', '19h 50m', '2h 10m', '11h 50m', '13h 05m', '9h 10m',\n",
       "       '12h 35m', '28h 10m', '8h 25m', '8h 35m', '12h 30m', '7h 10m',\n",
       "       '12h 25m', '14h 40m', '20h 15m', '16h 00m', '17h 15m', '15h 35m',\n",
       "       '26h 25m', '27h 40m', '17h 45m', '5h 50m', '6h 50m', '7h 30m',\n",
       "       '10h 20m', '11h 45m', '2h 35m', '14h 15m', '14h 25m', '2h 25m',\n",
       "       '2h 30m', '2h 40m', '3h 55m', '4h 15m', '3h 35m', '12h 50m',\n",
       "       '6h 15m', '7h 50m', '4h 40m', '13h 15m', '8h 00m', '9h 50m',\n",
       "       '11h 15m', '11h 35m', '13h 00m', '15h 45m', '32h 05m', '25h 55m',\n",
       "       '6h 05m', '7h 45m', '7h 55m', '25h 30m', '11h 55m', '16h 10m',\n",
       "       '6h 35m', '10h 25m', '12h 00m', '13h 45m', '15h 15m', '13h 55m',\n",
       "       '12h 55m', '10h 10m', '19h 10m', '20h 55m', '21h 50m', '22h 15m',\n",
       "       '22h 25m', '24h 00m', '7h 20m', '29h 25m', '5h 25m', '15h 10m',\n",
       "       '26h 05m', '22h 10m', '8h 10m', '8h 15m', '14h 50m', '15h 00m',\n",
       "       '2h 20m', '11h 00m', '14h 20m', '9h 05m', '6h 25m', '15h 40m',\n",
       "       '25h 10m', '19h 40m', '5h 10m', '7h 35m', '10h 45m', '19h 35m',\n",
       "       '8h 50m', '6h 00m', '10h 30m', '10h 55m', '12h 05m', '13h 25m',\n",
       "       '14h 00m', '15h 05m', '16h 25m', '19h 20m', '20h 00m', '20h 30m',\n",
       "       '21h 05m', '12h 10m', '17h 00m', '17h 25m', '5h 15m', '16h 15m',\n",
       "       '18h 10m', '21h 45m', '23h 35m', '26h 00m', '27h 10m', '16h 45m',\n",
       "       '27h 30m', '26h 50m', '27h 00m', '16h 35m', '10h 40m', '27h 15m',\n",
       "       '23h 50m', '4h 35m', '1h 10m', '19h 15m', '1h 00m', '19h 45m',\n",
       "       '26h 20m', '18h 40m', '22h 40m', '24h 25m', '27h 25m', '32h 35m',\n",
       "       '13h 35m', '28h 25m', '4h 00m', '4h 50m', '24h 30m', '21h 20m',\n",
       "       '24h 20m', '35h 45m', '21h 25m', '9h 45m', '15h 20m', '30h 35m',\n",
       "       '38h 30m', '37h 45m', '34h 00m', '36h 55m', '13h 10m', '11h 10m',\n",
       "       '3h 30m', '37h 00m', '34h 10m', '34h 20m', '22h 30m', '31h 30m',\n",
       "       '2h 50m', '2h 55m', '9h 25m', '24h 40m', '7h 00m', '3h 00m',\n",
       "       '2h 45m', '10h 35m', '17h 20m', '10h 15m', '25h 25m', '23h 20m',\n",
       "       '25h 35m', '12h 20m', '16h 50m', '22h 20m', '20h 40m', '29h 55m',\n",
       "       '30h 15m', '29h 30m', '17h 40m', '13h 30m', '15h 55m', '17h 05m',\n",
       "       '20h 25m', '27h 55m', '20h 50m', '16h 40m', '27h 50m', '33h 45m',\n",
       "       '9h 40m', '22h 45m', '16h 20m', '26h 40m', '23h 45m', '35h 10m',\n",
       "       '35h 25m', '18h 20m', '18h 55m', '20h 10m', '25h 50m', '27h 35m',\n",
       "       '21h 00m', '27h 20m', '30h 55m', '27h 45m', '24h 50m', '20h 45m',\n",
       "       '3h 05m', '29h 20m', '3h 25m', '4h 10m', '21h 30m', '26h 10m'],\n",
       "      dtype=object)"
      ]
     },
     "execution_count": 16,
     "metadata": {},
     "output_type": "execute_result"
    }
   ],
   "source": [
    "df['Duration'].unique()"
   ]
  },
  {
   "cell_type": "code",
   "execution_count": 17,
   "id": "7b990abd",
   "metadata": {},
   "outputs": [],
   "source": [
    "# Assigning and converting Duration column into list\n",
    "duration = list(df[\"Duration\"])\n",
    "\n",
    "for i in range(len(duration)):\n",
    "    if len(duration[i].split()) != 2:    # Check if duration contains only hour or mins\n",
    "        if \"h\" in duration[i]:\n",
    "            duration[i] = duration[i].strip() + \" 0m\"   # Adds 0 minute if only have 0 hour\n",
    "        else:\n",
    "            duration[i] = \"0h \" + duration[i]           # Adds 0 hour if only have 0 minute"
   ]
  },
  {
   "cell_type": "code",
   "execution_count": 18,
   "id": "2ea35465",
   "metadata": {},
   "outputs": [],
   "source": [
    "#creating empty lists for hours and minutes\n",
    "duration_hours = []\n",
    "duration_minutes = []"
   ]
  },
  {
   "cell_type": "code",
   "execution_count": 19,
   "id": "eb2a6299",
   "metadata": {},
   "outputs": [],
   "source": [
    "for i in range(len(duration)):\n",
    "    duration_hours.append(int(duration[i].split(sep = \"h\")[0]))    # Extract hours from duration and append to list\n",
    "    duration_minutes.append(int(duration[i].split(sep = \"m\")[0].split()[-1]))\n",
    "# Extracts only minutes from duration and append to list"
   ]
  },
  {
   "cell_type": "code",
   "execution_count": 20,
   "id": "74da8598",
   "metadata": {},
   "outputs": [],
   "source": [
    "#adding minutes and hours columns into dataframe\n",
    "df['Duration_Hours']=duration_hours\n",
    "df['Duration_Minutes']=duration_minutes"
   ]
  },
  {
   "cell_type": "code",
   "execution_count": 21,
   "id": "892777e7",
   "metadata": {},
   "outputs": [
    {
     "data": {
      "text/html": [
       "<div>\n",
       "<style scoped>\n",
       "    .dataframe tbody tr th:only-of-type {\n",
       "        vertical-align: middle;\n",
       "    }\n",
       "\n",
       "    .dataframe tbody tr th {\n",
       "        vertical-align: top;\n",
       "    }\n",
       "\n",
       "    .dataframe thead th {\n",
       "        text-align: right;\n",
       "    }\n",
       "</style>\n",
       "<table border=\"1\" class=\"dataframe\">\n",
       "  <thead>\n",
       "    <tr style=\"text-align: right;\">\n",
       "      <th></th>\n",
       "      <th>Airline</th>\n",
       "      <th>Duration</th>\n",
       "      <th>Total Stops</th>\n",
       "      <th>Dep_Time</th>\n",
       "      <th>Arrival_Time</th>\n",
       "      <th>Source</th>\n",
       "      <th>Destination</th>\n",
       "      <th>Date_of_journey</th>\n",
       "      <th>Price</th>\n",
       "      <th>Duration_Hours</th>\n",
       "      <th>Duration_Minutes</th>\n",
       "    </tr>\n",
       "  </thead>\n",
       "  <tbody>\n",
       "    <tr>\n",
       "      <th>0</th>\n",
       "      <td>Air Asia</td>\n",
       "      <td>4h 30m</td>\n",
       "      <td>1 Stop</td>\n",
       "      <td>16:05</td>\n",
       "      <td>20:35</td>\n",
       "      <td>Chennai</td>\n",
       "      <td>Mumbai</td>\n",
       "      <td>Tue, 22 Feb 2022</td>\n",
       "      <td>5,880</td>\n",
       "      <td>4</td>\n",
       "      <td>30</td>\n",
       "    </tr>\n",
       "    <tr>\n",
       "      <th>1</th>\n",
       "      <td>Air Asia</td>\n",
       "      <td>8h 40m</td>\n",
       "      <td>1 Stop</td>\n",
       "      <td>22:35</td>\n",
       "      <td>07:15\\n+ 1 day</td>\n",
       "      <td>Chennai</td>\n",
       "      <td>Mumbai</td>\n",
       "      <td>Tue, 22 Feb 2022</td>\n",
       "      <td>5,880</td>\n",
       "      <td>8</td>\n",
       "      <td>40</td>\n",
       "    </tr>\n",
       "    <tr>\n",
       "      <th>2</th>\n",
       "      <td>IndiGo</td>\n",
       "      <td>1h 50m</td>\n",
       "      <td>Non Stop</td>\n",
       "      <td>04:45</td>\n",
       "      <td>06:35</td>\n",
       "      <td>Chennai</td>\n",
       "      <td>Mumbai</td>\n",
       "      <td>Tue, 22 Feb 2022</td>\n",
       "      <td>5,882</td>\n",
       "      <td>1</td>\n",
       "      <td>50</td>\n",
       "    </tr>\n",
       "    <tr>\n",
       "      <th>3</th>\n",
       "      <td>IndiGo</td>\n",
       "      <td>2h 05m</td>\n",
       "      <td>Non Stop</td>\n",
       "      <td>22:15</td>\n",
       "      <td>00:20\\n+ 1 day</td>\n",
       "      <td>Chennai</td>\n",
       "      <td>Mumbai</td>\n",
       "      <td>Wed, 23 Feb 2022</td>\n",
       "      <td>5,882</td>\n",
       "      <td>2</td>\n",
       "      <td>5</td>\n",
       "    </tr>\n",
       "    <tr>\n",
       "      <th>4</th>\n",
       "      <td>Vistara</td>\n",
       "      <td>2h 00m</td>\n",
       "      <td>Non Stop</td>\n",
       "      <td>12:30</td>\n",
       "      <td>14:30</td>\n",
       "      <td>Chennai</td>\n",
       "      <td>Mumbai</td>\n",
       "      <td>Tue, 22 Feb 2022</td>\n",
       "      <td>5,883</td>\n",
       "      <td>2</td>\n",
       "      <td>0</td>\n",
       "    </tr>\n",
       "  </tbody>\n",
       "</table>\n",
       "</div>"
      ],
      "text/plain": [
       "    Airline Duration Total Stops Dep_Time    Arrival_Time   Source  \\\n",
       "0  Air Asia   4h 30m      1 Stop    16:05           20:35  Chennai   \n",
       "1  Air Asia   8h 40m      1 Stop    22:35  07:15\\n+ 1 day  Chennai   \n",
       "2    IndiGo   1h 50m    Non Stop    04:45           06:35  Chennai   \n",
       "3    IndiGo   2h 05m    Non Stop    22:15  00:20\\n+ 1 day  Chennai   \n",
       "4   Vistara   2h 00m    Non Stop    12:30           14:30  Chennai   \n",
       "\n",
       "  Destination   Date_of_journey  Price  Duration_Hours  Duration_Minutes  \n",
       "0      Mumbai  Tue, 22 Feb 2022  5,880               4                30  \n",
       "1      Mumbai  Tue, 22 Feb 2022  5,880               8                40  \n",
       "2      Mumbai  Tue, 22 Feb 2022  5,882               1                50  \n",
       "3      Mumbai  Wed, 23 Feb 2022  5,882               2                 5  \n",
       "4      Mumbai  Tue, 22 Feb 2022  5,883               2                 0  "
      ]
     },
     "execution_count": 21,
     "metadata": {},
     "output_type": "execute_result"
    }
   ],
   "source": [
    "df.head()"
   ]
  },
  {
   "cell_type": "code",
   "execution_count": 22,
   "id": "573fada7",
   "metadata": {},
   "outputs": [],
   "source": [
    "#now let's drop duration column\n",
    "df.drop(['Duration'],axis=1,inplace=True)"
   ]
  },
  {
   "cell_type": "code",
   "execution_count": 23,
   "id": "b534d29b",
   "metadata": {},
   "outputs": [
    {
     "data": {
      "text/html": [
       "<div>\n",
       "<style scoped>\n",
       "    .dataframe tbody tr th:only-of-type {\n",
       "        vertical-align: middle;\n",
       "    }\n",
       "\n",
       "    .dataframe tbody tr th {\n",
       "        vertical-align: top;\n",
       "    }\n",
       "\n",
       "    .dataframe thead th {\n",
       "        text-align: right;\n",
       "    }\n",
       "</style>\n",
       "<table border=\"1\" class=\"dataframe\">\n",
       "  <thead>\n",
       "    <tr style=\"text-align: right;\">\n",
       "      <th></th>\n",
       "      <th>Airline</th>\n",
       "      <th>Total Stops</th>\n",
       "      <th>Dep_Time</th>\n",
       "      <th>Arrival_Time</th>\n",
       "      <th>Source</th>\n",
       "      <th>Destination</th>\n",
       "      <th>Date_of_journey</th>\n",
       "      <th>Price</th>\n",
       "      <th>Duration_Hours</th>\n",
       "      <th>Duration_Minutes</th>\n",
       "    </tr>\n",
       "  </thead>\n",
       "  <tbody>\n",
       "    <tr>\n",
       "      <th>0</th>\n",
       "      <td>Air Asia</td>\n",
       "      <td>1 Stop</td>\n",
       "      <td>16:05</td>\n",
       "      <td>20:35</td>\n",
       "      <td>Chennai</td>\n",
       "      <td>Mumbai</td>\n",
       "      <td>Tue, 22 Feb 2022</td>\n",
       "      <td>5,880</td>\n",
       "      <td>4</td>\n",
       "      <td>30</td>\n",
       "    </tr>\n",
       "    <tr>\n",
       "      <th>1</th>\n",
       "      <td>Air Asia</td>\n",
       "      <td>1 Stop</td>\n",
       "      <td>22:35</td>\n",
       "      <td>07:15\\n+ 1 day</td>\n",
       "      <td>Chennai</td>\n",
       "      <td>Mumbai</td>\n",
       "      <td>Tue, 22 Feb 2022</td>\n",
       "      <td>5,880</td>\n",
       "      <td>8</td>\n",
       "      <td>40</td>\n",
       "    </tr>\n",
       "    <tr>\n",
       "      <th>2</th>\n",
       "      <td>IndiGo</td>\n",
       "      <td>Non Stop</td>\n",
       "      <td>04:45</td>\n",
       "      <td>06:35</td>\n",
       "      <td>Chennai</td>\n",
       "      <td>Mumbai</td>\n",
       "      <td>Tue, 22 Feb 2022</td>\n",
       "      <td>5,882</td>\n",
       "      <td>1</td>\n",
       "      <td>50</td>\n",
       "    </tr>\n",
       "    <tr>\n",
       "      <th>3</th>\n",
       "      <td>IndiGo</td>\n",
       "      <td>Non Stop</td>\n",
       "      <td>22:15</td>\n",
       "      <td>00:20\\n+ 1 day</td>\n",
       "      <td>Chennai</td>\n",
       "      <td>Mumbai</td>\n",
       "      <td>Wed, 23 Feb 2022</td>\n",
       "      <td>5,882</td>\n",
       "      <td>2</td>\n",
       "      <td>5</td>\n",
       "    </tr>\n",
       "    <tr>\n",
       "      <th>4</th>\n",
       "      <td>Vistara</td>\n",
       "      <td>Non Stop</td>\n",
       "      <td>12:30</td>\n",
       "      <td>14:30</td>\n",
       "      <td>Chennai</td>\n",
       "      <td>Mumbai</td>\n",
       "      <td>Tue, 22 Feb 2022</td>\n",
       "      <td>5,883</td>\n",
       "      <td>2</td>\n",
       "      <td>0</td>\n",
       "    </tr>\n",
       "  </tbody>\n",
       "</table>\n",
       "</div>"
      ],
      "text/plain": [
       "    Airline Total Stops Dep_Time    Arrival_Time   Source Destination  \\\n",
       "0  Air Asia      1 Stop    16:05           20:35  Chennai      Mumbai   \n",
       "1  Air Asia      1 Stop    22:35  07:15\\n+ 1 day  Chennai      Mumbai   \n",
       "2    IndiGo    Non Stop    04:45           06:35  Chennai      Mumbai   \n",
       "3    IndiGo    Non Stop    22:15  00:20\\n+ 1 day  Chennai      Mumbai   \n",
       "4   Vistara    Non Stop    12:30           14:30  Chennai      Mumbai   \n",
       "\n",
       "    Date_of_journey  Price  Duration_Hours  Duration_Minutes  \n",
       "0  Tue, 22 Feb 2022  5,880               4                30  \n",
       "1  Tue, 22 Feb 2022  5,880               8                40  \n",
       "2  Tue, 22 Feb 2022  5,882               1                50  \n",
       "3  Wed, 23 Feb 2022  5,882               2                 5  \n",
       "4  Tue, 22 Feb 2022  5,883               2                 0  "
      ]
     },
     "execution_count": 23,
     "metadata": {},
     "output_type": "execute_result"
    }
   ],
   "source": [
    "df.head()"
   ]
  },
  {
   "cell_type": "code",
   "execution_count": 24,
   "id": "9920a317",
   "metadata": {},
   "outputs": [
    {
     "data": {
      "text/plain": [
       "Index(['Airline', 'Total Stops', 'Dep_Time', 'Arrival_Time', 'Source',\n",
       "       'Destination', 'Date_of_journey', 'Price', 'Duration_Hours',\n",
       "       'Duration_Minutes'],\n",
       "      dtype='object')"
      ]
     },
     "execution_count": 24,
     "metadata": {},
     "output_type": "execute_result"
    }
   ],
   "source": [
    "df.columns"
   ]
  },
  {
   "cell_type": "code",
   "execution_count": 25,
   "id": "2a07218f",
   "metadata": {},
   "outputs": [
    {
     "data": {
      "text/plain": [
       "0       16:05\n",
       "1       22:35\n",
       "2       04:45\n",
       "3       22:15\n",
       "4       12:30\n",
       "        ...  \n",
       "1705    21:35\n",
       "1706    21:35\n",
       "1707    12:55\n",
       "1708    11:20\n",
       "1709    20:50\n",
       "Name: Dep_Time, Length: 1710, dtype: object"
      ]
     },
     "execution_count": 25,
     "metadata": {},
     "output_type": "execute_result"
    }
   ],
   "source": [
    "df['Dep_Time']"
   ]
  },
  {
   "cell_type": "code",
   "execution_count": 26,
   "id": "28317254",
   "metadata": {},
   "outputs": [],
   "source": [
    "#let's sperate hour and minute from departure time\n",
    "df['Dep_Hour']=pd.to_datetime(df['Dep_Time']).dt.hour\n",
    "\n",
    "df['Dep_Minute']=pd.to_datetime(df['Dep_Time']).dt.minute"
   ]
  },
  {
   "cell_type": "code",
   "execution_count": 27,
   "id": "89b5c55b",
   "metadata": {},
   "outputs": [
    {
     "data": {
      "text/html": [
       "<div>\n",
       "<style scoped>\n",
       "    .dataframe tbody tr th:only-of-type {\n",
       "        vertical-align: middle;\n",
       "    }\n",
       "\n",
       "    .dataframe tbody tr th {\n",
       "        vertical-align: top;\n",
       "    }\n",
       "\n",
       "    .dataframe thead th {\n",
       "        text-align: right;\n",
       "    }\n",
       "</style>\n",
       "<table border=\"1\" class=\"dataframe\">\n",
       "  <thead>\n",
       "    <tr style=\"text-align: right;\">\n",
       "      <th></th>\n",
       "      <th>Airline</th>\n",
       "      <th>Total Stops</th>\n",
       "      <th>Dep_Time</th>\n",
       "      <th>Arrival_Time</th>\n",
       "      <th>Source</th>\n",
       "      <th>Destination</th>\n",
       "      <th>Date_of_journey</th>\n",
       "      <th>Price</th>\n",
       "      <th>Duration_Hours</th>\n",
       "      <th>Duration_Minutes</th>\n",
       "      <th>Dep_Hour</th>\n",
       "      <th>Dep_Minute</th>\n",
       "    </tr>\n",
       "  </thead>\n",
       "  <tbody>\n",
       "    <tr>\n",
       "      <th>0</th>\n",
       "      <td>Air Asia</td>\n",
       "      <td>1 Stop</td>\n",
       "      <td>16:05</td>\n",
       "      <td>20:35</td>\n",
       "      <td>Chennai</td>\n",
       "      <td>Mumbai</td>\n",
       "      <td>Tue, 22 Feb 2022</td>\n",
       "      <td>5,880</td>\n",
       "      <td>4</td>\n",
       "      <td>30</td>\n",
       "      <td>16</td>\n",
       "      <td>5</td>\n",
       "    </tr>\n",
       "    <tr>\n",
       "      <th>1</th>\n",
       "      <td>Air Asia</td>\n",
       "      <td>1 Stop</td>\n",
       "      <td>22:35</td>\n",
       "      <td>07:15\\n+ 1 day</td>\n",
       "      <td>Chennai</td>\n",
       "      <td>Mumbai</td>\n",
       "      <td>Tue, 22 Feb 2022</td>\n",
       "      <td>5,880</td>\n",
       "      <td>8</td>\n",
       "      <td>40</td>\n",
       "      <td>22</td>\n",
       "      <td>35</td>\n",
       "    </tr>\n",
       "    <tr>\n",
       "      <th>2</th>\n",
       "      <td>IndiGo</td>\n",
       "      <td>Non Stop</td>\n",
       "      <td>04:45</td>\n",
       "      <td>06:35</td>\n",
       "      <td>Chennai</td>\n",
       "      <td>Mumbai</td>\n",
       "      <td>Tue, 22 Feb 2022</td>\n",
       "      <td>5,882</td>\n",
       "      <td>1</td>\n",
       "      <td>50</td>\n",
       "      <td>4</td>\n",
       "      <td>45</td>\n",
       "    </tr>\n",
       "    <tr>\n",
       "      <th>3</th>\n",
       "      <td>IndiGo</td>\n",
       "      <td>Non Stop</td>\n",
       "      <td>22:15</td>\n",
       "      <td>00:20\\n+ 1 day</td>\n",
       "      <td>Chennai</td>\n",
       "      <td>Mumbai</td>\n",
       "      <td>Wed, 23 Feb 2022</td>\n",
       "      <td>5,882</td>\n",
       "      <td>2</td>\n",
       "      <td>5</td>\n",
       "      <td>22</td>\n",
       "      <td>15</td>\n",
       "    </tr>\n",
       "    <tr>\n",
       "      <th>4</th>\n",
       "      <td>Vistara</td>\n",
       "      <td>Non Stop</td>\n",
       "      <td>12:30</td>\n",
       "      <td>14:30</td>\n",
       "      <td>Chennai</td>\n",
       "      <td>Mumbai</td>\n",
       "      <td>Tue, 22 Feb 2022</td>\n",
       "      <td>5,883</td>\n",
       "      <td>2</td>\n",
       "      <td>0</td>\n",
       "      <td>12</td>\n",
       "      <td>30</td>\n",
       "    </tr>\n",
       "  </tbody>\n",
       "</table>\n",
       "</div>"
      ],
      "text/plain": [
       "    Airline Total Stops Dep_Time    Arrival_Time   Source Destination  \\\n",
       "0  Air Asia      1 Stop    16:05           20:35  Chennai      Mumbai   \n",
       "1  Air Asia      1 Stop    22:35  07:15\\n+ 1 day  Chennai      Mumbai   \n",
       "2    IndiGo    Non Stop    04:45           06:35  Chennai      Mumbai   \n",
       "3    IndiGo    Non Stop    22:15  00:20\\n+ 1 day  Chennai      Mumbai   \n",
       "4   Vistara    Non Stop    12:30           14:30  Chennai      Mumbai   \n",
       "\n",
       "    Date_of_journey  Price  Duration_Hours  Duration_Minutes  Dep_Hour  \\\n",
       "0  Tue, 22 Feb 2022  5,880               4                30        16   \n",
       "1  Tue, 22 Feb 2022  5,880               8                40        22   \n",
       "2  Tue, 22 Feb 2022  5,882               1                50         4   \n",
       "3  Wed, 23 Feb 2022  5,882               2                 5        22   \n",
       "4  Tue, 22 Feb 2022  5,883               2                 0        12   \n",
       "\n",
       "   Dep_Minute  \n",
       "0           5  \n",
       "1          35  \n",
       "2          45  \n",
       "3          15  \n",
       "4          30  "
      ]
     },
     "execution_count": 27,
     "metadata": {},
     "output_type": "execute_result"
    }
   ],
   "source": [
    "df.head()"
   ]
  },
  {
   "cell_type": "code",
   "execution_count": 28,
   "id": "92e21d5a",
   "metadata": {},
   "outputs": [],
   "source": [
    "#now let's drop departure time\n",
    "df.drop(['Dep_Time'],axis=1,inplace=True)"
   ]
  },
  {
   "cell_type": "code",
   "execution_count": 29,
   "id": "12b4aeb9",
   "metadata": {},
   "outputs": [
    {
     "data": {
      "text/html": [
       "<div>\n",
       "<style scoped>\n",
       "    .dataframe tbody tr th:only-of-type {\n",
       "        vertical-align: middle;\n",
       "    }\n",
       "\n",
       "    .dataframe tbody tr th {\n",
       "        vertical-align: top;\n",
       "    }\n",
       "\n",
       "    .dataframe thead th {\n",
       "        text-align: right;\n",
       "    }\n",
       "</style>\n",
       "<table border=\"1\" class=\"dataframe\">\n",
       "  <thead>\n",
       "    <tr style=\"text-align: right;\">\n",
       "      <th></th>\n",
       "      <th>Airline</th>\n",
       "      <th>Total Stops</th>\n",
       "      <th>Arrival_Time</th>\n",
       "      <th>Source</th>\n",
       "      <th>Destination</th>\n",
       "      <th>Date_of_journey</th>\n",
       "      <th>Price</th>\n",
       "      <th>Duration_Hours</th>\n",
       "      <th>Duration_Minutes</th>\n",
       "      <th>Dep_Hour</th>\n",
       "      <th>Dep_Minute</th>\n",
       "    </tr>\n",
       "  </thead>\n",
       "  <tbody>\n",
       "    <tr>\n",
       "      <th>0</th>\n",
       "      <td>Air Asia</td>\n",
       "      <td>1 Stop</td>\n",
       "      <td>20:35</td>\n",
       "      <td>Chennai</td>\n",
       "      <td>Mumbai</td>\n",
       "      <td>Tue, 22 Feb 2022</td>\n",
       "      <td>5,880</td>\n",
       "      <td>4</td>\n",
       "      <td>30</td>\n",
       "      <td>16</td>\n",
       "      <td>5</td>\n",
       "    </tr>\n",
       "    <tr>\n",
       "      <th>1</th>\n",
       "      <td>Air Asia</td>\n",
       "      <td>1 Stop</td>\n",
       "      <td>07:15\\n+ 1 day</td>\n",
       "      <td>Chennai</td>\n",
       "      <td>Mumbai</td>\n",
       "      <td>Tue, 22 Feb 2022</td>\n",
       "      <td>5,880</td>\n",
       "      <td>8</td>\n",
       "      <td>40</td>\n",
       "      <td>22</td>\n",
       "      <td>35</td>\n",
       "    </tr>\n",
       "  </tbody>\n",
       "</table>\n",
       "</div>"
      ],
      "text/plain": [
       "    Airline Total Stops    Arrival_Time   Source Destination  \\\n",
       "0  Air Asia      1 Stop           20:35  Chennai      Mumbai   \n",
       "1  Air Asia      1 Stop  07:15\\n+ 1 day  Chennai      Mumbai   \n",
       "\n",
       "    Date_of_journey  Price  Duration_Hours  Duration_Minutes  Dep_Hour  \\\n",
       "0  Tue, 22 Feb 2022  5,880               4                30        16   \n",
       "1  Tue, 22 Feb 2022  5,880               8                40        22   \n",
       "\n",
       "   Dep_Minute  \n",
       "0           5  \n",
       "1          35  "
      ]
     },
     "execution_count": 29,
     "metadata": {},
     "output_type": "execute_result"
    }
   ],
   "source": [
    "df.head(2)"
   ]
  },
  {
   "cell_type": "code",
   "execution_count": 30,
   "id": "d845964d",
   "metadata": {},
   "outputs": [
    {
     "data": {
      "text/plain": [
       "Index(['Airline', 'Total Stops', 'Arrival_Time', 'Source', 'Destination',\n",
       "       'Date_of_journey', 'Price', 'Duration_Hours', 'Duration_Minutes',\n",
       "       'Dep_Hour', 'Dep_Minute'],\n",
       "      dtype='object')"
      ]
     },
     "execution_count": 30,
     "metadata": {},
     "output_type": "execute_result"
    }
   ],
   "source": [
    "df.columns"
   ]
  },
  {
   "cell_type": "code",
   "execution_count": 31,
   "id": "1108e9ba",
   "metadata": {},
   "outputs": [
    {
     "data": {
      "text/plain": [
       "0                20:35\n",
       "1       07:15\\n+ 1 day\n",
       "2                06:35\n",
       "3       00:20\\n+ 1 day\n",
       "4                14:30\n",
       "             ...      \n",
       "1705    09:40\\n+ 1 day\n",
       "1706    16:50\\n+ 1 day\n",
       "1707    09:40\\n+ 1 day\n",
       "1708             19:10\n",
       "1709    09:00\\n+ 1 day\n",
       "Name: Arrival_Time, Length: 1710, dtype: object"
      ]
     },
     "execution_count": 31,
     "metadata": {},
     "output_type": "execute_result"
    }
   ],
   "source": [
    "df['Arrival_Time']"
   ]
  },
  {
   "cell_type": "code",
   "execution_count": 32,
   "id": "35433882",
   "metadata": {},
   "outputs": [],
   "source": [
    "#we can replace the spaces and '1 day' in arrival time column\n",
    "df['Arrival_Time']= df['Arrival_Time'].apply(lambda x: x.replace('\\n+', ''))\n",
    "\n",
    "df['Arrival_Time']= df['Arrival_Time'].apply(lambda x: x.replace('1 day', ''))"
   ]
  },
  {
   "cell_type": "code",
   "execution_count": 33,
   "id": "f7242f6e",
   "metadata": {},
   "outputs": [
    {
     "data": {
      "text/plain": [
       "0        20:35\n",
       "1       07:15 \n",
       "2        06:35\n",
       "3       00:20 \n",
       "4        14:30\n",
       "         ...  \n",
       "1705    09:40 \n",
       "1706    16:50 \n",
       "1707    09:40 \n",
       "1708     19:10\n",
       "1709    09:00 \n",
       "Name: Arrival_Time, Length: 1710, dtype: object"
      ]
     },
     "execution_count": 33,
     "metadata": {},
     "output_type": "execute_result"
    }
   ],
   "source": [
    "#we can observeit removed\n",
    "df['Arrival_Time']"
   ]
  },
  {
   "cell_type": "code",
   "execution_count": 34,
   "id": "fa9df27f",
   "metadata": {},
   "outputs": [],
   "source": [
    "#seperating hour and minute\n",
    "\n",
    "df['Arrival_Hour']=pd.to_datetime(df.Arrival_Time).dt.hour\n",
    "\n",
    "df['Arrival_Minute']=pd.to_datetime(df.Arrival_Time).dt.minute\n",
    "\n",
    "#dropping Arrival time column\n",
    "df.drop(['Arrival_Time'],axis=1,inplace=True)"
   ]
  },
  {
   "cell_type": "code",
   "execution_count": 35,
   "id": "4d213e21",
   "metadata": {},
   "outputs": [
    {
     "data": {
      "text/html": [
       "<div>\n",
       "<style scoped>\n",
       "    .dataframe tbody tr th:only-of-type {\n",
       "        vertical-align: middle;\n",
       "    }\n",
       "\n",
       "    .dataframe tbody tr th {\n",
       "        vertical-align: top;\n",
       "    }\n",
       "\n",
       "    .dataframe thead th {\n",
       "        text-align: right;\n",
       "    }\n",
       "</style>\n",
       "<table border=\"1\" class=\"dataframe\">\n",
       "  <thead>\n",
       "    <tr style=\"text-align: right;\">\n",
       "      <th></th>\n",
       "      <th>Airline</th>\n",
       "      <th>Total Stops</th>\n",
       "      <th>Source</th>\n",
       "      <th>Destination</th>\n",
       "      <th>Date_of_journey</th>\n",
       "      <th>Price</th>\n",
       "      <th>Duration_Hours</th>\n",
       "      <th>Duration_Minutes</th>\n",
       "      <th>Dep_Hour</th>\n",
       "      <th>Dep_Minute</th>\n",
       "      <th>Arrival_Hour</th>\n",
       "      <th>Arrival_Minute</th>\n",
       "    </tr>\n",
       "  </thead>\n",
       "  <tbody>\n",
       "    <tr>\n",
       "      <th>0</th>\n",
       "      <td>Air Asia</td>\n",
       "      <td>1 Stop</td>\n",
       "      <td>Chennai</td>\n",
       "      <td>Mumbai</td>\n",
       "      <td>Tue, 22 Feb 2022</td>\n",
       "      <td>5,880</td>\n",
       "      <td>4</td>\n",
       "      <td>30</td>\n",
       "      <td>16</td>\n",
       "      <td>5</td>\n",
       "      <td>20</td>\n",
       "      <td>35</td>\n",
       "    </tr>\n",
       "    <tr>\n",
       "      <th>1</th>\n",
       "      <td>Air Asia</td>\n",
       "      <td>1 Stop</td>\n",
       "      <td>Chennai</td>\n",
       "      <td>Mumbai</td>\n",
       "      <td>Tue, 22 Feb 2022</td>\n",
       "      <td>5,880</td>\n",
       "      <td>8</td>\n",
       "      <td>40</td>\n",
       "      <td>22</td>\n",
       "      <td>35</td>\n",
       "      <td>7</td>\n",
       "      <td>15</td>\n",
       "    </tr>\n",
       "    <tr>\n",
       "      <th>2</th>\n",
       "      <td>IndiGo</td>\n",
       "      <td>Non Stop</td>\n",
       "      <td>Chennai</td>\n",
       "      <td>Mumbai</td>\n",
       "      <td>Tue, 22 Feb 2022</td>\n",
       "      <td>5,882</td>\n",
       "      <td>1</td>\n",
       "      <td>50</td>\n",
       "      <td>4</td>\n",
       "      <td>45</td>\n",
       "      <td>6</td>\n",
       "      <td>35</td>\n",
       "    </tr>\n",
       "    <tr>\n",
       "      <th>3</th>\n",
       "      <td>IndiGo</td>\n",
       "      <td>Non Stop</td>\n",
       "      <td>Chennai</td>\n",
       "      <td>Mumbai</td>\n",
       "      <td>Wed, 23 Feb 2022</td>\n",
       "      <td>5,882</td>\n",
       "      <td>2</td>\n",
       "      <td>5</td>\n",
       "      <td>22</td>\n",
       "      <td>15</td>\n",
       "      <td>0</td>\n",
       "      <td>20</td>\n",
       "    </tr>\n",
       "    <tr>\n",
       "      <th>4</th>\n",
       "      <td>Vistara</td>\n",
       "      <td>Non Stop</td>\n",
       "      <td>Chennai</td>\n",
       "      <td>Mumbai</td>\n",
       "      <td>Tue, 22 Feb 2022</td>\n",
       "      <td>5,883</td>\n",
       "      <td>2</td>\n",
       "      <td>0</td>\n",
       "      <td>12</td>\n",
       "      <td>30</td>\n",
       "      <td>14</td>\n",
       "      <td>30</td>\n",
       "    </tr>\n",
       "  </tbody>\n",
       "</table>\n",
       "</div>"
      ],
      "text/plain": [
       "    Airline Total Stops   Source Destination   Date_of_journey  Price  \\\n",
       "0  Air Asia      1 Stop  Chennai      Mumbai  Tue, 22 Feb 2022  5,880   \n",
       "1  Air Asia      1 Stop  Chennai      Mumbai  Tue, 22 Feb 2022  5,880   \n",
       "2    IndiGo    Non Stop  Chennai      Mumbai  Tue, 22 Feb 2022  5,882   \n",
       "3    IndiGo    Non Stop  Chennai      Mumbai  Wed, 23 Feb 2022  5,882   \n",
       "4   Vistara    Non Stop  Chennai      Mumbai  Tue, 22 Feb 2022  5,883   \n",
       "\n",
       "   Duration_Hours  Duration_Minutes  Dep_Hour  Dep_Minute  Arrival_Hour  \\\n",
       "0               4                30        16           5            20   \n",
       "1               8                40        22          35             7   \n",
       "2               1                50         4          45             6   \n",
       "3               2                 5        22          15             0   \n",
       "4               2                 0        12          30            14   \n",
       "\n",
       "   Arrival_Minute  \n",
       "0              35  \n",
       "1              15  \n",
       "2              35  \n",
       "3              20  \n",
       "4              30  "
      ]
     },
     "execution_count": 35,
     "metadata": {},
     "output_type": "execute_result"
    }
   ],
   "source": [
    "df.head(5)"
   ]
  },
  {
   "cell_type": "code",
   "execution_count": 36,
   "id": "fd74a74c",
   "metadata": {},
   "outputs": [
    {
     "data": {
      "text/plain": [
       "Index(['Airline', 'Total Stops', 'Source', 'Destination', 'Date_of_journey',\n",
       "       'Price', 'Duration_Hours', 'Duration_Minutes', 'Dep_Hour', 'Dep_Minute',\n",
       "       'Arrival_Hour', 'Arrival_Minute'],\n",
       "      dtype='object')"
      ]
     },
     "execution_count": 36,
     "metadata": {},
     "output_type": "execute_result"
    }
   ],
   "source": [
    "df.columns"
   ]
  },
  {
   "cell_type": "code",
   "execution_count": 37,
   "id": "ea7b2167",
   "metadata": {},
   "outputs": [
    {
     "data": {
      "text/plain": [
       "dtype('O')"
      ]
     },
     "execution_count": 37,
     "metadata": {},
     "output_type": "execute_result"
    }
   ],
   "source": [
    "df['Date_of_journey'].dtype"
   ]
  },
  {
   "cell_type": "code",
   "execution_count": 38,
   "id": "839e8469",
   "metadata": {},
   "outputs": [
    {
     "data": {
      "text/plain": [
       "array(['Tue, 22 Feb 2022', 'Wed, 23 Feb 2022', 'Wed, 2 Mar 2022',\n",
       "       'Thu, 3 Mar 2022', 'Sat, 5 Mar 2022', 'Sun, 6 Mar 2022',\n",
       "       'Thu, 24 Feb 2022', 'Fri, 25 Feb 2022', 'Fri, 4 Mar 2022',\n",
       "       'Mon, 28 Feb 2022', 'Tue, 1 Mar 2022', 'Thu, 10 Mar 2022',\n",
       "       'Fri, 11 Mar 2022', 'Sun, 27 Feb 2022', 'Sat, 12 Mar 2022',\n",
       "       'Sat, 26 Feb 2022', 'Wed, 9 Mar 2022'], dtype=object)"
      ]
     },
     "execution_count": 38,
     "metadata": {},
     "output_type": "execute_result"
    }
   ],
   "source": [
    "df['Date_of_journey'].unique()"
   ]
  },
  {
   "cell_type": "markdown",
   "id": "e4bac245",
   "metadata": {},
   "source": [
    "We can change format of date"
   ]
  },
  {
   "cell_type": "code",
   "execution_count": 39,
   "id": "5a5b2a49",
   "metadata": {},
   "outputs": [],
   "source": [
    "df['Date_of_journey']= df['Date_of_journey'].apply(lambda x: x.replace('Tue, 22 Feb 2022', '22/2/2022'))\n",
    "\n",
    "df['Date_of_journey']= df['Date_of_journey'].apply(lambda x: x.replace('Wed, 23 Feb 2022', '23/2/2022'))\n",
    "\n",
    "df['Date_of_journey']= df['Date_of_journey'].apply(lambda x: x.replace('Wed, 2 Mar 2022', '2/3/2022'))\n",
    "\n",
    "df['Date_of_journey']= df['Date_of_journey'].apply(lambda x: x.replace('Thu, 3 Mar 2022', '3/3/2022'))\n",
    "\n",
    "df['Date_of_journey']= df['Date_of_journey'].apply(lambda x: x.replace('Sat, 5 Mar 2022', '5/3/2022'))\n",
    "\n",
    "df['Date_of_journey']= df['Date_of_journey'].apply(lambda x: x.replace('Sun, 6 Mar 2022', '6/3/2022'))\n",
    "\n",
    "df['Date_of_journey']= df['Date_of_journey'].apply(lambda x: x.replace('Thu, 24 Feb 2022', '24/2/2022'))\n",
    "\n",
    "df['Date_of_journey']= df['Date_of_journey'].apply(lambda x: x.replace('Fri, 25 Feb 2022', '25/2/2022'))\n",
    "\n",
    "df['Date_of_journey']= df['Date_of_journey'].apply(lambda x: x.replace('Fri, 4 Mar 2022', '4/3/2022'))\n",
    "\n",
    "df['Date_of_journey']= df['Date_of_journey'].apply(lambda x: x.replace('Mon, 28 Feb 2022', '28/2/2022'))\n",
    "\n",
    "df['Date_of_journey']= df['Date_of_journey'].apply(lambda x: x.replace('Tue, 1 Mar 2022', '1/3/2022'))\n",
    "\n",
    "df['Date_of_journey']= df['Date_of_journey'].apply(lambda x: x.replace('Thu, 10 Mar 2022', '10/3/2022'))\n",
    "\n",
    "df['Date_of_journey']= df['Date_of_journey'].apply(lambda x: x.replace('Fri, 11 Mar 2022', '11/3/2022'))\n",
    "\n",
    "df['Date_of_journey']= df['Date_of_journey'].apply(lambda x: x.replace('Sun, 27 Feb 2022', '27/2/2022'))\n",
    "\n",
    "df['Date_of_journey']= df['Date_of_journey'].apply(lambda x: x.replace('Sat, 12 Mar 2022', '12/3/2022'))\n",
    "\n",
    "df['Date_of_journey']= df['Date_of_journey'].apply(lambda x: x.replace('Sat, 26 Feb 2022', '26/2/2022'))\n",
    "\n",
    "df['Date_of_journey']= df['Date_of_journey'].apply(lambda x: x.replace('Wed, 9 Mar 2022', '9/3/2022'))"
   ]
  },
  {
   "cell_type": "code",
   "execution_count": 40,
   "id": "112f53e7",
   "metadata": {},
   "outputs": [
    {
     "data": {
      "text/plain": [
       "array(['22/2/2022', '23/2/2022', '2/3/2022', '3/3/2022', '5/3/2022',\n",
       "       '6/3/2022', '24/2/2022', '25/2/2022', '4/3/2022', '28/2/2022',\n",
       "       '1/3/2022', '10/3/2022', '11/3/2022', '27/2/2022', '12/3/2022',\n",
       "       '26/2/2022', '9/3/2022'], dtype=object)"
      ]
     },
     "execution_count": 40,
     "metadata": {},
     "output_type": "execute_result"
    }
   ],
   "source": [
    "df['Date_of_journey'].unique()"
   ]
  },
  {
   "cell_type": "code",
   "execution_count": 41,
   "id": "0e47c815",
   "metadata": {},
   "outputs": [],
   "source": [
    "#seperating month and date\n",
    "df['Day_of_journey']=pd.to_datetime(df.Date_of_journey,format=\"%d/%m/%Y\").dt.day\n",
    "\n",
    "df['Month_of_journey']=pd.to_datetime(df.Date_of_journey,format=\"%d/%m/%Y\").dt.month\n",
    "\n",
    "#year is common so I skip that\n",
    "\n",
    "#dropping Date of journey column\n",
    "df.drop(['Date_of_journey'],axis=1,inplace=True)"
   ]
  },
  {
   "cell_type": "code",
   "execution_count": 42,
   "id": "ec4a3d68",
   "metadata": {},
   "outputs": [
    {
     "data": {
      "text/html": [
       "<div>\n",
       "<style scoped>\n",
       "    .dataframe tbody tr th:only-of-type {\n",
       "        vertical-align: middle;\n",
       "    }\n",
       "\n",
       "    .dataframe tbody tr th {\n",
       "        vertical-align: top;\n",
       "    }\n",
       "\n",
       "    .dataframe thead th {\n",
       "        text-align: right;\n",
       "    }\n",
       "</style>\n",
       "<table border=\"1\" class=\"dataframe\">\n",
       "  <thead>\n",
       "    <tr style=\"text-align: right;\">\n",
       "      <th></th>\n",
       "      <th>Airline</th>\n",
       "      <th>Total Stops</th>\n",
       "      <th>Source</th>\n",
       "      <th>Destination</th>\n",
       "      <th>Price</th>\n",
       "      <th>Duration_Hours</th>\n",
       "      <th>Duration_Minutes</th>\n",
       "      <th>Dep_Hour</th>\n",
       "      <th>Dep_Minute</th>\n",
       "      <th>Arrival_Hour</th>\n",
       "      <th>Arrival_Minute</th>\n",
       "      <th>Day_of_journey</th>\n",
       "      <th>Month_of_journey</th>\n",
       "    </tr>\n",
       "  </thead>\n",
       "  <tbody>\n",
       "    <tr>\n",
       "      <th>0</th>\n",
       "      <td>Air Asia</td>\n",
       "      <td>1 Stop</td>\n",
       "      <td>Chennai</td>\n",
       "      <td>Mumbai</td>\n",
       "      <td>5,880</td>\n",
       "      <td>4</td>\n",
       "      <td>30</td>\n",
       "      <td>16</td>\n",
       "      <td>5</td>\n",
       "      <td>20</td>\n",
       "      <td>35</td>\n",
       "      <td>22</td>\n",
       "      <td>2</td>\n",
       "    </tr>\n",
       "    <tr>\n",
       "      <th>1</th>\n",
       "      <td>Air Asia</td>\n",
       "      <td>1 Stop</td>\n",
       "      <td>Chennai</td>\n",
       "      <td>Mumbai</td>\n",
       "      <td>5,880</td>\n",
       "      <td>8</td>\n",
       "      <td>40</td>\n",
       "      <td>22</td>\n",
       "      <td>35</td>\n",
       "      <td>7</td>\n",
       "      <td>15</td>\n",
       "      <td>22</td>\n",
       "      <td>2</td>\n",
       "    </tr>\n",
       "    <tr>\n",
       "      <th>2</th>\n",
       "      <td>IndiGo</td>\n",
       "      <td>Non Stop</td>\n",
       "      <td>Chennai</td>\n",
       "      <td>Mumbai</td>\n",
       "      <td>5,882</td>\n",
       "      <td>1</td>\n",
       "      <td>50</td>\n",
       "      <td>4</td>\n",
       "      <td>45</td>\n",
       "      <td>6</td>\n",
       "      <td>35</td>\n",
       "      <td>22</td>\n",
       "      <td>2</td>\n",
       "    </tr>\n",
       "    <tr>\n",
       "      <th>3</th>\n",
       "      <td>IndiGo</td>\n",
       "      <td>Non Stop</td>\n",
       "      <td>Chennai</td>\n",
       "      <td>Mumbai</td>\n",
       "      <td>5,882</td>\n",
       "      <td>2</td>\n",
       "      <td>5</td>\n",
       "      <td>22</td>\n",
       "      <td>15</td>\n",
       "      <td>0</td>\n",
       "      <td>20</td>\n",
       "      <td>23</td>\n",
       "      <td>2</td>\n",
       "    </tr>\n",
       "    <tr>\n",
       "      <th>4</th>\n",
       "      <td>Vistara</td>\n",
       "      <td>Non Stop</td>\n",
       "      <td>Chennai</td>\n",
       "      <td>Mumbai</td>\n",
       "      <td>5,883</td>\n",
       "      <td>2</td>\n",
       "      <td>0</td>\n",
       "      <td>12</td>\n",
       "      <td>30</td>\n",
       "      <td>14</td>\n",
       "      <td>30</td>\n",
       "      <td>22</td>\n",
       "      <td>2</td>\n",
       "    </tr>\n",
       "  </tbody>\n",
       "</table>\n",
       "</div>"
      ],
      "text/plain": [
       "    Airline Total Stops   Source Destination  Price  Duration_Hours  \\\n",
       "0  Air Asia      1 Stop  Chennai      Mumbai  5,880               4   \n",
       "1  Air Asia      1 Stop  Chennai      Mumbai  5,880               8   \n",
       "2    IndiGo    Non Stop  Chennai      Mumbai  5,882               1   \n",
       "3    IndiGo    Non Stop  Chennai      Mumbai  5,882               2   \n",
       "4   Vistara    Non Stop  Chennai      Mumbai  5,883               2   \n",
       "\n",
       "   Duration_Minutes  Dep_Hour  Dep_Minute  Arrival_Hour  Arrival_Minute  \\\n",
       "0                30        16           5            20              35   \n",
       "1                40        22          35             7              15   \n",
       "2                50         4          45             6              35   \n",
       "3                 5        22          15             0              20   \n",
       "4                 0        12          30            14              30   \n",
       "\n",
       "   Day_of_journey  Month_of_journey  \n",
       "0              22                 2  \n",
       "1              22                 2  \n",
       "2              22                 2  \n",
       "3              23                 2  \n",
       "4              22                 2  "
      ]
     },
     "execution_count": 42,
     "metadata": {},
     "output_type": "execute_result"
    }
   ],
   "source": [
    "df.head()"
   ]
  },
  {
   "cell_type": "code",
   "execution_count": 43,
   "id": "b0afb1f6",
   "metadata": {},
   "outputs": [
    {
     "data": {
      "text/plain": [
       "Index(['Airline', 'Total Stops', 'Source', 'Destination', 'Price',\n",
       "       'Duration_Hours', 'Duration_Minutes', 'Dep_Hour', 'Dep_Minute',\n",
       "       'Arrival_Hour', 'Arrival_Minute', 'Day_of_journey', 'Month_of_journey'],\n",
       "      dtype='object')"
      ]
     },
     "execution_count": 43,
     "metadata": {},
     "output_type": "execute_result"
    }
   ],
   "source": [
    "df.columns"
   ]
  },
  {
   "cell_type": "code",
   "execution_count": 44,
   "id": "74575b75",
   "metadata": {},
   "outputs": [
    {
     "data": {
      "text/plain": [
       "0        5880\n",
       "1        5880\n",
       "2        5882\n",
       "3        5882\n",
       "4        5883\n",
       "        ...  \n",
       "1705    11676\n",
       "1706    11676\n",
       "1707    11676\n",
       "1708    11698\n",
       "1709    11698\n",
       "Name: Price, Length: 1710, dtype: int64"
      ]
     },
     "execution_count": 44,
     "metadata": {},
     "output_type": "execute_result"
    }
   ],
   "source": [
    "#price are in object type we can convert them into numeric using to_numeric in python \n",
    "df['Price']=df['Price'].str.replace(',','')\n",
    "df['Price']=pd.to_numeric(df['Price'])\n",
    "df['Price']"
   ]
  },
  {
   "cell_type": "code",
   "execution_count": 45,
   "id": "cf85176c",
   "metadata": {},
   "outputs": [
    {
     "data": {
      "text/plain": [
       "Airline             object\n",
       "Total Stops         object\n",
       "Source              object\n",
       "Destination         object\n",
       "Price                int64\n",
       "Duration_Hours       int64\n",
       "Duration_Minutes     int64\n",
       "Dep_Hour             int64\n",
       "Dep_Minute           int64\n",
       "Arrival_Hour         int64\n",
       "Arrival_Minute       int64\n",
       "Day_of_journey       int64\n",
       "Month_of_journey     int64\n",
       "dtype: object"
      ]
     },
     "execution_count": 45,
     "metadata": {},
     "output_type": "execute_result"
    }
   ],
   "source": [
    "df.dtypes"
   ]
  },
  {
   "cell_type": "markdown",
   "id": "0485a74d",
   "metadata": {},
   "source": [
    "Let's compare the target and features"
   ]
  },
  {
   "cell_type": "code",
   "execution_count": 46,
   "id": "f3d6e576",
   "metadata": {},
   "outputs": [
    {
     "data": {
      "image/png": "[encoded data removed]",
      "text/plain": [
       "<Figure size 576x576 with 1 Axes>"
      ]
     },
     "metadata": {
      "needs_background": "light"
     },
     "output_type": "display_data"
    }
   ],
   "source": [
    "airline_pivot=df.pivot_table(index='Airline',values='Price',aggfunc=np.mean)\n",
    "\n",
    "#plotting \n",
    "airline_pivot.plot(kind='bar',figsize=(8,8))\n",
    "plt.xlabel(\"Airline\")\n",
    "plt.ylabel(\"Price\")\n",
    "plt.title(\"Relation\")\n",
    "plt.show()"
   ]
  },
  {
   "cell_type": "code",
   "execution_count": 47,
   "id": "6dccb498",
   "metadata": {},
   "outputs": [
    {
     "data": {
      "image/png": "[encoded data removed]",
      "text/plain": [
       "<Figure size 576x576 with 1 Axes>"
      ]
     },
     "metadata": {
      "needs_background": "light"
     },
     "output_type": "display_data"
    }
   ],
   "source": [
    "source_pivot=df.pivot_table(index='Source',values='Price',aggfunc=np.mean)\n",
    "\n",
    "#plotting \n",
    "source_pivot.plot(kind='bar',figsize=(8,8))\n",
    "plt.xlabel(\"Source\")\n",
    "plt.ylabel(\"Price\")\n",
    "plt.title(\"Relation\")\n",
    "plt.show()"
   ]
  },
  {
   "cell_type": "code",
   "execution_count": 48,
   "id": "8fd1b717",
   "metadata": {},
   "outputs": [
    {
     "data": {
      "image/png": "[encoded data removed]",
      "text/plain": [
       "<Figure size 576x576 with 1 Axes>"
      ]
     },
     "metadata": {
      "needs_background": "light"
     },
     "output_type": "display_data"
    }
   ],
   "source": [
    "destination_pivot=df.pivot_table(index='Destination',values='Price',aggfunc=np.mean)\n",
    "\n",
    "#plotting \n",
    "destination_pivot.plot(kind='bar',figsize=(8,8))\n",
    "plt.xlabel(\"Destination\")\n",
    "plt.ylabel(\"Price\")\n",
    "plt.title(\"Relation\")\n",
    "plt.show()"
   ]
  },
  {
   "cell_type": "code",
   "execution_count": 49,
   "id": "f057bc9a",
   "metadata": {},
   "outputs": [
    {
     "data": {
      "image/png": "[encoded data removed]",
      "text/plain": [
       "<Figure size 576x576 with 1 Axes>"
      ]
     },
     "metadata": {
      "needs_background": "light"
     },
     "output_type": "display_data"
    }
   ],
   "source": [
    "stops_pivot=df.pivot_table(index='Total Stops',values='Price',aggfunc=np.mean)\n",
    "\n",
    "#plotting \n",
    "stops_pivot.plot(kind='bar',figsize=(8,8))\n",
    "plt.xlabel(\"Total Stops\")\n",
    "plt.ylabel(\"Price\")\n",
    "plt.title(\"Relation\")\n",
    "plt.show()"
   ]
  },
  {
   "cell_type": "markdown",
   "id": "9c795af0",
   "metadata": {},
   "source": [
    "three stops high ticket price because we have low data of three stops but still it have high price "
   ]
  },
  {
   "cell_type": "code",
   "execution_count": 50,
   "id": "7837f72a",
   "metadata": {},
   "outputs": [
    {
     "data": {
      "text/plain": [
       "array(['Air Asia', 'IndiGo', 'Vistara', 'Air India', 'Go First',\n",
       "       'SpiceJet'], dtype=object)"
      ]
     },
     "execution_count": 50,
     "metadata": {},
     "output_type": "execute_result"
    }
   ],
   "source": [
    "df['Airline'].unique()"
   ]
  },
  {
   "cell_type": "markdown",
   "id": "44b7d119",
   "metadata": {},
   "source": [
    "# Encoding"
   ]
  },
  {
   "cell_type": "code",
   "execution_count": 51,
   "id": "c6fc244d",
   "metadata": {},
   "outputs": [],
   "source": [
    "#one hot encoding\n",
    "df=pd.get_dummies(df,columns=['Airline'])\n",
    "\n",
    "df=pd.get_dummies(df,columns=['Total Stops'])"
   ]
  },
  {
   "cell_type": "code",
   "execution_count": 52,
   "id": "ba1bd07f",
   "metadata": {},
   "outputs": [
    {
     "data": {
      "text/html": [
       "<div>\n",
       "<style scoped>\n",
       "    .dataframe tbody tr th:only-of-type {\n",
       "        vertical-align: middle;\n",
       "    }\n",
       "\n",
       "    .dataframe tbody tr th {\n",
       "        vertical-align: top;\n",
       "    }\n",
       "\n",
       "    .dataframe thead th {\n",
       "        text-align: right;\n",
       "    }\n",
       "</style>\n",
       "<table border=\"1\" class=\"dataframe\">\n",
       "  <thead>\n",
       "    <tr style=\"text-align: right;\">\n",
       "      <th></th>\n",
       "      <th>Source</th>\n",
       "      <th>Destination</th>\n",
       "      <th>Price</th>\n",
       "      <th>Duration_Hours</th>\n",
       "      <th>Duration_Minutes</th>\n",
       "      <th>Dep_Hour</th>\n",
       "      <th>Dep_Minute</th>\n",
       "      <th>Arrival_Hour</th>\n",
       "      <th>Arrival_Minute</th>\n",
       "      <th>Day_of_journey</th>\n",
       "      <th>...</th>\n",
       "      <th>Airline_Air Asia</th>\n",
       "      <th>Airline_Air India</th>\n",
       "      <th>Airline_Go First</th>\n",
       "      <th>Airline_IndiGo</th>\n",
       "      <th>Airline_SpiceJet</th>\n",
       "      <th>Airline_Vistara</th>\n",
       "      <th>Total Stops_1 Stop</th>\n",
       "      <th>Total Stops_2 Stop(s)</th>\n",
       "      <th>Total Stops_3 Stop(s)</th>\n",
       "      <th>Total Stops_Non Stop</th>\n",
       "    </tr>\n",
       "  </thead>\n",
       "  <tbody>\n",
       "    <tr>\n",
       "      <th>0</th>\n",
       "      <td>Chennai</td>\n",
       "      <td>Mumbai</td>\n",
       "      <td>5880</td>\n",
       "      <td>4</td>\n",
       "      <td>30</td>\n",
       "      <td>16</td>\n",
       "      <td>5</td>\n",
       "      <td>20</td>\n",
       "      <td>35</td>\n",
       "      <td>22</td>\n",
       "      <td>...</td>\n",
       "      <td>1</td>\n",
       "      <td>0</td>\n",
       "      <td>0</td>\n",
       "      <td>0</td>\n",
       "      <td>0</td>\n",
       "      <td>0</td>\n",
       "      <td>1</td>\n",
       "      <td>0</td>\n",
       "      <td>0</td>\n",
       "      <td>0</td>\n",
       "    </tr>\n",
       "    <tr>\n",
       "      <th>1</th>\n",
       "      <td>Chennai</td>\n",
       "      <td>Mumbai</td>\n",
       "      <td>5880</td>\n",
       "      <td>8</td>\n",
       "      <td>40</td>\n",
       "      <td>22</td>\n",
       "      <td>35</td>\n",
       "      <td>7</td>\n",
       "      <td>15</td>\n",
       "      <td>22</td>\n",
       "      <td>...</td>\n",
       "      <td>1</td>\n",
       "      <td>0</td>\n",
       "      <td>0</td>\n",
       "      <td>0</td>\n",
       "      <td>0</td>\n",
       "      <td>0</td>\n",
       "      <td>1</td>\n",
       "      <td>0</td>\n",
       "      <td>0</td>\n",
       "      <td>0</td>\n",
       "    </tr>\n",
       "    <tr>\n",
       "      <th>2</th>\n",
       "      <td>Chennai</td>\n",
       "      <td>Mumbai</td>\n",
       "      <td>5882</td>\n",
       "      <td>1</td>\n",
       "      <td>50</td>\n",
       "      <td>4</td>\n",
       "      <td>45</td>\n",
       "      <td>6</td>\n",
       "      <td>35</td>\n",
       "      <td>22</td>\n",
       "      <td>...</td>\n",
       "      <td>0</td>\n",
       "      <td>0</td>\n",
       "      <td>0</td>\n",
       "      <td>1</td>\n",
       "      <td>0</td>\n",
       "      <td>0</td>\n",
       "      <td>0</td>\n",
       "      <td>0</td>\n",
       "      <td>0</td>\n",
       "      <td>1</td>\n",
       "    </tr>\n",
       "    <tr>\n",
       "      <th>3</th>\n",
       "      <td>Chennai</td>\n",
       "      <td>Mumbai</td>\n",
       "      <td>5882</td>\n",
       "      <td>2</td>\n",
       "      <td>5</td>\n",
       "      <td>22</td>\n",
       "      <td>15</td>\n",
       "      <td>0</td>\n",
       "      <td>20</td>\n",
       "      <td>23</td>\n",
       "      <td>...</td>\n",
       "      <td>0</td>\n",
       "      <td>0</td>\n",
       "      <td>0</td>\n",
       "      <td>1</td>\n",
       "      <td>0</td>\n",
       "      <td>0</td>\n",
       "      <td>0</td>\n",
       "      <td>0</td>\n",
       "      <td>0</td>\n",
       "      <td>1</td>\n",
       "    </tr>\n",
       "    <tr>\n",
       "      <th>4</th>\n",
       "      <td>Chennai</td>\n",
       "      <td>Mumbai</td>\n",
       "      <td>5883</td>\n",
       "      <td>2</td>\n",
       "      <td>0</td>\n",
       "      <td>12</td>\n",
       "      <td>30</td>\n",
       "      <td>14</td>\n",
       "      <td>30</td>\n",
       "      <td>22</td>\n",
       "      <td>...</td>\n",
       "      <td>0</td>\n",
       "      <td>0</td>\n",
       "      <td>0</td>\n",
       "      <td>0</td>\n",
       "      <td>0</td>\n",
       "      <td>1</td>\n",
       "      <td>0</td>\n",
       "      <td>0</td>\n",
       "      <td>0</td>\n",
       "      <td>1</td>\n",
       "    </tr>\n",
       "  </tbody>\n",
       "</table>\n",
       "<p>5 rows × 21 columns</p>\n",
       "</div>"
      ],
      "text/plain": [
       "    Source Destination  Price  Duration_Hours  Duration_Minutes  Dep_Hour  \\\n",
       "0  Chennai      Mumbai   5880               4                30        16   \n",
       "1  Chennai      Mumbai   5880               8                40        22   \n",
       "2  Chennai      Mumbai   5882               1                50         4   \n",
       "3  Chennai      Mumbai   5882               2                 5        22   \n",
       "4  Chennai      Mumbai   5883               2                 0        12   \n",
       "\n",
       "   Dep_Minute  Arrival_Hour  Arrival_Minute  Day_of_journey  ...  \\\n",
       "0           5            20              35              22  ...   \n",
       "1          35             7              15              22  ...   \n",
       "2          45             6              35              22  ...   \n",
       "3          15             0              20              23  ...   \n",
       "4          30            14              30              22  ...   \n",
       "\n",
       "   Airline_Air Asia  Airline_Air India  Airline_Go First  Airline_IndiGo  \\\n",
       "0                 1                  0                 0               0   \n",
       "1                 1                  0                 0               0   \n",
       "2                 0                  0                 0               1   \n",
       "3                 0                  0                 0               1   \n",
       "4                 0                  0                 0               0   \n",
       "\n",
       "   Airline_SpiceJet  Airline_Vistara  Total Stops_1 Stop  \\\n",
       "0                 0                0                   1   \n",
       "1                 0                0                   1   \n",
       "2                 0                0                   0   \n",
       "3                 0                0                   0   \n",
       "4                 0                1                   0   \n",
       "\n",
       "   Total Stops_2 Stop(s)  Total Stops_3 Stop(s)  Total Stops_Non Stop  \n",
       "0                      0                      0                     0  \n",
       "1                      0                      0                     0  \n",
       "2                      0                      0                     1  \n",
       "3                      0                      0                     1  \n",
       "4                      0                      0                     1  \n",
       "\n",
       "[5 rows x 21 columns]"
      ]
     },
     "execution_count": 52,
     "metadata": {},
     "output_type": "execute_result"
    }
   ],
   "source": [
    "df.head()"
   ]
  },
  {
   "cell_type": "code",
   "execution_count": 53,
   "id": "894b79b1",
   "metadata": {},
   "outputs": [],
   "source": [
    "#label encoding\n",
    "le=LabelEncoder()\n",
    "var=['Source','Destination']\n",
    "#storing column names to encode\n",
    "\n",
    "for i in var:\n",
    "    df[i]=le.fit_transform(df[i])"
   ]
  },
  {
   "cell_type": "code",
   "execution_count": 54,
   "id": "6864282b",
   "metadata": {
    "scrolled": true
   },
   "outputs": [
    {
     "data": {
      "text/html": [
       "<div>\n",
       "<style scoped>\n",
       "    .dataframe tbody tr th:only-of-type {\n",
       "        vertical-align: middle;\n",
       "    }\n",
       "\n",
       "    .dataframe tbody tr th {\n",
       "        vertical-align: top;\n",
       "    }\n",
       "\n",
       "    .dataframe thead th {\n",
       "        text-align: right;\n",
       "    }\n",
       "</style>\n",
       "<table border=\"1\" class=\"dataframe\">\n",
       "  <thead>\n",
       "    <tr style=\"text-align: right;\">\n",
       "      <th></th>\n",
       "      <th>Source</th>\n",
       "      <th>Destination</th>\n",
       "      <th>Price</th>\n",
       "      <th>Duration_Hours</th>\n",
       "      <th>Duration_Minutes</th>\n",
       "      <th>Dep_Hour</th>\n",
       "      <th>Dep_Minute</th>\n",
       "      <th>Arrival_Hour</th>\n",
       "      <th>Arrival_Minute</th>\n",
       "      <th>Day_of_journey</th>\n",
       "      <th>...</th>\n",
       "      <th>Airline_Air Asia</th>\n",
       "      <th>Airline_Air India</th>\n",
       "      <th>Airline_Go First</th>\n",
       "      <th>Airline_IndiGo</th>\n",
       "      <th>Airline_SpiceJet</th>\n",
       "      <th>Airline_Vistara</th>\n",
       "      <th>Total Stops_1 Stop</th>\n",
       "      <th>Total Stops_2 Stop(s)</th>\n",
       "      <th>Total Stops_3 Stop(s)</th>\n",
       "      <th>Total Stops_Non Stop</th>\n",
       "    </tr>\n",
       "  </thead>\n",
       "  <tbody>\n",
       "    <tr>\n",
       "      <th>0</th>\n",
       "      <td>1</td>\n",
       "      <td>4</td>\n",
       "      <td>5880</td>\n",
       "      <td>4</td>\n",
       "      <td>30</td>\n",
       "      <td>16</td>\n",
       "      <td>5</td>\n",
       "      <td>20</td>\n",
       "      <td>35</td>\n",
       "      <td>22</td>\n",
       "      <td>...</td>\n",
       "      <td>1</td>\n",
       "      <td>0</td>\n",
       "      <td>0</td>\n",
       "      <td>0</td>\n",
       "      <td>0</td>\n",
       "      <td>0</td>\n",
       "      <td>1</td>\n",
       "      <td>0</td>\n",
       "      <td>0</td>\n",
       "      <td>0</td>\n",
       "    </tr>\n",
       "    <tr>\n",
       "      <th>1</th>\n",
       "      <td>1</td>\n",
       "      <td>4</td>\n",
       "      <td>5880</td>\n",
       "      <td>8</td>\n",
       "      <td>40</td>\n",
       "      <td>22</td>\n",
       "      <td>35</td>\n",
       "      <td>7</td>\n",
       "      <td>15</td>\n",
       "      <td>22</td>\n",
       "      <td>...</td>\n",
       "      <td>1</td>\n",
       "      <td>0</td>\n",
       "      <td>0</td>\n",
       "      <td>0</td>\n",
       "      <td>0</td>\n",
       "      <td>0</td>\n",
       "      <td>1</td>\n",
       "      <td>0</td>\n",
       "      <td>0</td>\n",
       "      <td>0</td>\n",
       "    </tr>\n",
       "    <tr>\n",
       "      <th>2</th>\n",
       "      <td>1</td>\n",
       "      <td>4</td>\n",
       "      <td>5882</td>\n",
       "      <td>1</td>\n",
       "      <td>50</td>\n",
       "      <td>4</td>\n",
       "      <td>45</td>\n",
       "      <td>6</td>\n",
       "      <td>35</td>\n",
       "      <td>22</td>\n",
       "      <td>...</td>\n",
       "      <td>0</td>\n",
       "      <td>0</td>\n",
       "      <td>0</td>\n",
       "      <td>1</td>\n",
       "      <td>0</td>\n",
       "      <td>0</td>\n",
       "      <td>0</td>\n",
       "      <td>0</td>\n",
       "      <td>0</td>\n",
       "      <td>1</td>\n",
       "    </tr>\n",
       "  </tbody>\n",
       "</table>\n",
       "<p>3 rows × 21 columns</p>\n",
       "</div>"
      ],
      "text/plain": [
       "   Source  Destination  Price  Duration_Hours  Duration_Minutes  Dep_Hour  \\\n",
       "0       1            4   5880               4                30        16   \n",
       "1       1            4   5880               8                40        22   \n",
       "2       1            4   5882               1                50         4   \n",
       "\n",
       "   Dep_Minute  Arrival_Hour  Arrival_Minute  Day_of_journey  ...  \\\n",
       "0           5            20              35              22  ...   \n",
       "1          35             7              15              22  ...   \n",
       "2          45             6              35              22  ...   \n",
       "\n",
       "   Airline_Air Asia  Airline_Air India  Airline_Go First  Airline_IndiGo  \\\n",
       "0                 1                  0                 0               0   \n",
       "1                 1                  0                 0               0   \n",
       "2                 0                  0                 0               1   \n",
       "\n",
       "   Airline_SpiceJet  Airline_Vistara  Total Stops_1 Stop  \\\n",
       "0                 0                0                   1   \n",
       "1                 0                0                   1   \n",
       "2                 0                0                   0   \n",
       "\n",
       "   Total Stops_2 Stop(s)  Total Stops_3 Stop(s)  Total Stops_Non Stop  \n",
       "0                      0                      0                     0  \n",
       "1                      0                      0                     0  \n",
       "2                      0                      0                     1  \n",
       "\n",
       "[3 rows x 21 columns]"
      ]
     },
     "execution_count": 54,
     "metadata": {},
     "output_type": "execute_result"
    }
   ],
   "source": [
    "df.head(3)"
   ]
  },
  {
   "cell_type": "code",
   "execution_count": 55,
   "id": "a9a5e986",
   "metadata": {},
   "outputs": [
    {
     "data": {
      "image/png": "[encoded data removed]",
      "text/plain": [
       "<Figure size 1080x720 with 2 Axes>"
      ]
     },
     "metadata": {
      "needs_background": "light"
     },
     "output_type": "display_data"
    }
   ],
   "source": [
    "plt.figure(figsize=(15,10))\n",
    "sns.heatmap(df.corr(),annot=True,linewidths=0.1,linecolor=\"black\",fmt=\"0.2f\")\n",
    "plt.show()"
   ]
  },
  {
   "cell_type": "markdown",
   "id": "7e0a1786",
   "metadata": {},
   "source": [
    "Price is correlated to departure hours arrival hours airline names such as vistara and air asia, number of stops are also correlated to price."
   ]
  },
  {
   "cell_type": "markdown",
   "id": "87ea16fd",
   "metadata": {},
   "source": [
    "# Outliers"
   ]
  },
  {
   "cell_type": "code",
   "execution_count": 56,
   "id": "abf7dc30",
   "metadata": {},
   "outputs": [],
   "source": [
    "from scipy.stats import zscore\n",
    "z=np.abs(zscore(df))\n",
    "df_new=df[(z<3).all(axis=1)]"
   ]
  },
  {
   "cell_type": "code",
   "execution_count": 57,
   "id": "843b3eb8",
   "metadata": {},
   "outputs": [
    {
     "name": "stdout",
     "output_type": "stream",
     "text": [
      "(1710, 21)\n",
      "(1252, 21)\n"
     ]
    }
   ],
   "source": [
    "print(df.shape)\n",
    "print(df_new.shape)#after removing outliers"
   ]
  },
  {
   "cell_type": "code",
   "execution_count": 58,
   "id": "d15f8605",
   "metadata": {},
   "outputs": [
    {
     "name": "stdout",
     "output_type": "stream",
     "text": [
      "Percentage of data loss after removing outliers: 26.783625730994153\n"
     ]
    }
   ],
   "source": [
    "print(\"Percentage of data loss after removing outliers:\",(1710-1252)/1710*100)"
   ]
  },
  {
   "cell_type": "markdown",
   "id": "81658b6b",
   "metadata": {},
   "source": [
    "26% of data loss I think it is a big loss as or dataset is small so I am proceeding outliers"
   ]
  },
  {
   "cell_type": "markdown",
   "id": "0b992556",
   "metadata": {},
   "source": [
    "# Seperating Features and target"
   ]
  },
  {
   "cell_type": "code",
   "execution_count": 59,
   "id": "acd8667a",
   "metadata": {},
   "outputs": [],
   "source": [
    "x=df.drop('Price', axis = 1)\n",
    "y = df['Price']"
   ]
  },
  {
   "cell_type": "code",
   "execution_count": 60,
   "id": "704e96f9",
   "metadata": {},
   "outputs": [
    {
     "data": {
      "text/html": [
       "<div>\n",
       "<style scoped>\n",
       "    .dataframe tbody tr th:only-of-type {\n",
       "        vertical-align: middle;\n",
       "    }\n",
       "\n",
       "    .dataframe tbody tr th {\n",
       "        vertical-align: top;\n",
       "    }\n",
       "\n",
       "    .dataframe thead th {\n",
       "        text-align: right;\n",
       "    }\n",
       "</style>\n",
       "<table border=\"1\" class=\"dataframe\">\n",
       "  <thead>\n",
       "    <tr style=\"text-align: right;\">\n",
       "      <th></th>\n",
       "      <th>Source</th>\n",
       "      <th>Destination</th>\n",
       "      <th>Duration_Hours</th>\n",
       "      <th>Duration_Minutes</th>\n",
       "      <th>Dep_Hour</th>\n",
       "      <th>Dep_Minute</th>\n",
       "      <th>Arrival_Hour</th>\n",
       "      <th>Arrival_Minute</th>\n",
       "      <th>Day_of_journey</th>\n",
       "      <th>Month_of_journey</th>\n",
       "      <th>Airline_Air Asia</th>\n",
       "      <th>Airline_Air India</th>\n",
       "      <th>Airline_Go First</th>\n",
       "      <th>Airline_IndiGo</th>\n",
       "      <th>Airline_SpiceJet</th>\n",
       "      <th>Airline_Vistara</th>\n",
       "      <th>Total Stops_1 Stop</th>\n",
       "      <th>Total Stops_2 Stop(s)</th>\n",
       "      <th>Total Stops_3 Stop(s)</th>\n",
       "      <th>Total Stops_Non Stop</th>\n",
       "    </tr>\n",
       "  </thead>\n",
       "  <tbody>\n",
       "    <tr>\n",
       "      <th>0</th>\n",
       "      <td>1</td>\n",
       "      <td>4</td>\n",
       "      <td>4</td>\n",
       "      <td>30</td>\n",
       "      <td>16</td>\n",
       "      <td>5</td>\n",
       "      <td>20</td>\n",
       "      <td>35</td>\n",
       "      <td>22</td>\n",
       "      <td>2</td>\n",
       "      <td>1</td>\n",
       "      <td>0</td>\n",
       "      <td>0</td>\n",
       "      <td>0</td>\n",
       "      <td>0</td>\n",
       "      <td>0</td>\n",
       "      <td>1</td>\n",
       "      <td>0</td>\n",
       "      <td>0</td>\n",
       "      <td>0</td>\n",
       "    </tr>\n",
       "    <tr>\n",
       "      <th>1</th>\n",
       "      <td>1</td>\n",
       "      <td>4</td>\n",
       "      <td>8</td>\n",
       "      <td>40</td>\n",
       "      <td>22</td>\n",
       "      <td>35</td>\n",
       "      <td>7</td>\n",
       "      <td>15</td>\n",
       "      <td>22</td>\n",
       "      <td>2</td>\n",
       "      <td>1</td>\n",
       "      <td>0</td>\n",
       "      <td>0</td>\n",
       "      <td>0</td>\n",
       "      <td>0</td>\n",
       "      <td>0</td>\n",
       "      <td>1</td>\n",
       "      <td>0</td>\n",
       "      <td>0</td>\n",
       "      <td>0</td>\n",
       "    </tr>\n",
       "    <tr>\n",
       "      <th>2</th>\n",
       "      <td>1</td>\n",
       "      <td>4</td>\n",
       "      <td>1</td>\n",
       "      <td>50</td>\n",
       "      <td>4</td>\n",
       "      <td>45</td>\n",
       "      <td>6</td>\n",
       "      <td>35</td>\n",
       "      <td>22</td>\n",
       "      <td>2</td>\n",
       "      <td>0</td>\n",
       "      <td>0</td>\n",
       "      <td>0</td>\n",
       "      <td>1</td>\n",
       "      <td>0</td>\n",
       "      <td>0</td>\n",
       "      <td>0</td>\n",
       "      <td>0</td>\n",
       "      <td>0</td>\n",
       "      <td>1</td>\n",
       "    </tr>\n",
       "    <tr>\n",
       "      <th>3</th>\n",
       "      <td>1</td>\n",
       "      <td>4</td>\n",
       "      <td>2</td>\n",
       "      <td>5</td>\n",
       "      <td>22</td>\n",
       "      <td>15</td>\n",
       "      <td>0</td>\n",
       "      <td>20</td>\n",
       "      <td>23</td>\n",
       "      <td>2</td>\n",
       "      <td>0</td>\n",
       "      <td>0</td>\n",
       "      <td>0</td>\n",
       "      <td>1</td>\n",
       "      <td>0</td>\n",
       "      <td>0</td>\n",
       "      <td>0</td>\n",
       "      <td>0</td>\n",
       "      <td>0</td>\n",
       "      <td>1</td>\n",
       "    </tr>\n",
       "    <tr>\n",
       "      <th>4</th>\n",
       "      <td>1</td>\n",
       "      <td>4</td>\n",
       "      <td>2</td>\n",
       "      <td>0</td>\n",
       "      <td>12</td>\n",
       "      <td>30</td>\n",
       "      <td>14</td>\n",
       "      <td>30</td>\n",
       "      <td>22</td>\n",
       "      <td>2</td>\n",
       "      <td>0</td>\n",
       "      <td>0</td>\n",
       "      <td>0</td>\n",
       "      <td>0</td>\n",
       "      <td>0</td>\n",
       "      <td>1</td>\n",
       "      <td>0</td>\n",
       "      <td>0</td>\n",
       "      <td>0</td>\n",
       "      <td>1</td>\n",
       "    </tr>\n",
       "  </tbody>\n",
       "</table>\n",
       "</div>"
      ],
      "text/plain": [
       "   Source  Destination  Duration_Hours  Duration_Minutes  Dep_Hour  \\\n",
       "0       1            4               4                30        16   \n",
       "1       1            4               8                40        22   \n",
       "2       1            4               1                50         4   \n",
       "3       1            4               2                 5        22   \n",
       "4       1            4               2                 0        12   \n",
       "\n",
       "   Dep_Minute  Arrival_Hour  Arrival_Minute  Day_of_journey  Month_of_journey  \\\n",
       "0           5            20              35              22                 2   \n",
       "1          35             7              15              22                 2   \n",
       "2          45             6              35              22                 2   \n",
       "3          15             0              20              23                 2   \n",
       "4          30            14              30              22                 2   \n",
       "\n",
       "   Airline_Air Asia  Airline_Air India  Airline_Go First  Airline_IndiGo  \\\n",
       "0                 1                  0                 0               0   \n",
       "1                 1                  0                 0               0   \n",
       "2                 0                  0                 0               1   \n",
       "3                 0                  0                 0               1   \n",
       "4                 0                  0                 0               0   \n",
       "\n",
       "   Airline_SpiceJet  Airline_Vistara  Total Stops_1 Stop  \\\n",
       "0                 0                0                   1   \n",
       "1                 0                0                   1   \n",
       "2                 0                0                   0   \n",
       "3                 0                0                   0   \n",
       "4                 0                1                   0   \n",
       "\n",
       "   Total Stops_2 Stop(s)  Total Stops_3 Stop(s)  Total Stops_Non Stop  \n",
       "0                      0                      0                     0  \n",
       "1                      0                      0                     0  \n",
       "2                      0                      0                     1  \n",
       "3                      0                      0                     1  \n",
       "4                      0                      0                     1  "
      ]
     },
     "execution_count": 60,
     "metadata": {},
     "output_type": "execute_result"
    }
   ],
   "source": [
    "x.head()"
   ]
  },
  {
   "cell_type": "code",
   "execution_count": 61,
   "id": "ce5c2456",
   "metadata": {},
   "outputs": [
    {
     "data": {
      "text/plain": [
       "0    5880\n",
       "1    5880\n",
       "2    5882\n",
       "3    5882\n",
       "4    5883\n",
       "Name: Price, dtype: int64"
      ]
     },
     "execution_count": 61,
     "metadata": {},
     "output_type": "execute_result"
    }
   ],
   "source": [
    "y.head()"
   ]
  },
  {
   "cell_type": "markdown",
   "id": "74194776",
   "metadata": {},
   "source": [
    "# Multicollinearity"
   ]
  },
  {
   "cell_type": "code",
   "execution_count": 62,
   "id": "d4d0b6ad",
   "metadata": {},
   "outputs": [],
   "source": [
    "def vif_calc(x):\n",
    "    vif=pd.DataFrame()\n",
    "    vif['VIF Factor']=[variance_inflation_factor(x.values,i) for i in range(x.shape[1])]\n",
    "    vif['features']=x.columns\n",
    "    print(vif)"
   ]
  },
  {
   "cell_type": "code",
   "execution_count": 63,
   "id": "c461c96d",
   "metadata": {},
   "outputs": [
    {
     "name": "stdout",
     "output_type": "stream",
     "text": [
      "    VIF Factor               features\n",
      "0     1.315893                 Source\n",
      "1     1.124899            Destination\n",
      "2     2.152608         Duration_Hours\n",
      "3     1.026992       Duration_Minutes\n",
      "4     1.089062               Dep_Hour\n",
      "5     1.048401             Dep_Minute\n",
      "6     1.091397           Arrival_Hour\n",
      "7     1.051578         Arrival_Minute\n",
      "8    11.166221         Day_of_journey\n",
      "9    11.343338       Month_of_journey\n",
      "10         inf       Airline_Air Asia\n",
      "11         inf      Airline_Air India\n",
      "12         inf       Airline_Go First\n",
      "13         inf         Airline_IndiGo\n",
      "14         inf       Airline_SpiceJet\n",
      "15         inf        Airline_Vistara\n",
      "16         inf     Total Stops_1 Stop\n",
      "17         inf  Total Stops_2 Stop(s)\n",
      "18         inf  Total Stops_3 Stop(s)\n",
      "19         inf   Total Stops_Non Stop\n"
     ]
    }
   ],
   "source": [
    "vif_calc(x)"
   ]
  },
  {
   "cell_type": "markdown",
   "id": "b0ddea60",
   "metadata": {},
   "source": [
    " There is no Multicollinearity among features"
   ]
  },
  {
   "cell_type": "markdown",
   "id": "836bb192",
   "metadata": {},
   "source": [
    "# Skewness"
   ]
  },
  {
   "cell_type": "code",
   "execution_count": 64,
   "id": "d8d4d8ae",
   "metadata": {},
   "outputs": [
    {
     "data": {
      "text/plain": [
       "Source                   0.446783\n",
       "Destination              0.275146\n",
       "Duration_Hours           1.015645\n",
       "Duration_Minutes         0.036610\n",
       "Dep_Hour                 0.164894\n",
       "Dep_Minute              -0.061082\n",
       "Arrival_Hour            -0.551294\n",
       "Arrival_Minute          -0.045708\n",
       "Day_of_journey           0.822246\n",
       "Month_of_journey        -1.090419\n",
       "Airline_Air Asia         3.883978\n",
       "Airline_Air India        1.223900\n",
       "Airline_Go First         3.250127\n",
       "Airline_IndiGo           0.873638\n",
       "Airline_SpiceJet         5.105341\n",
       "Airline_Vistara          0.891977\n",
       "Total Stops_1 Stop      -0.888908\n",
       "Total Stops_2 Stop(s)    1.620647\n",
       "Total Stops_3 Stop(s)    7.775308\n",
       "Total Stops_Non Stop     2.747025\n",
       "dtype: float64"
      ]
     },
     "execution_count": 64,
     "metadata": {},
     "output_type": "execute_result"
    }
   ],
   "source": [
    "x.skew()"
   ]
  },
  {
   "cell_type": "markdown",
   "id": "ac661be9",
   "metadata": {},
   "source": [
    "# Removal Of skewness"
   ]
  },
  {
   "cell_type": "code",
   "execution_count": 65,
   "id": "c130a2d7",
   "metadata": {},
   "outputs": [],
   "source": [
    "from sklearn.preprocessing import power_transform\n",
    "x=power_transform(x,method='yeo-johnson')"
   ]
  },
  {
   "cell_type": "markdown",
   "id": "5ed9e99a",
   "metadata": {},
   "source": [
    "# Feature Scaling"
   ]
  },
  {
   "cell_type": "code",
   "execution_count": 66,
   "id": "7cd9e421",
   "metadata": {},
   "outputs": [],
   "source": [
    "sc=StandardScaler()\n",
    "x=sc.fit_transform(x)"
   ]
  },
  {
   "cell_type": "markdown",
   "id": "2d67a01f",
   "metadata": {},
   "source": [
    "# Model Building"
   ]
  },
  {
   "cell_type": "code",
   "execution_count": 67,
   "id": "05146b3f",
   "metadata": {},
   "outputs": [
    {
     "name": "stdout",
     "output_type": "stream",
     "text": [
      "r2 score 48.55351513450804\n",
      "Mean Absolute error 2122.2441593837107\n",
      "RMSE 2975.216264134831\n"
     ]
    }
   ],
   "source": [
    "#linear regression\n",
    "lr=LinearRegression()\n",
    "\n",
    "x_train,x_test,y_train,y_test=train_test_split(x,y,test_size=0.25,random_state=117)\n",
    "lr.fit(x_train,y_train)\n",
    "predlr=lr.predict(x_test)\n",
    "print(\"r2 score\",r2_score(y_test,predlr)*100)\n",
    "print(\"Mean Absolute error\",mean_absolute_error(y_test,predlr))\n",
    "print(\"RMSE\",np.sqrt(mean_squared_error(y_test,predlr)))"
   ]
  },
  {
   "cell_type": "code",
   "execution_count": 70,
   "id": "d29415e7",
   "metadata": {},
   "outputs": [
    {
     "name": "stdout",
     "output_type": "stream",
     "text": [
      "r2 score 56.89224296979032\n",
      "Mean Absolute error 1426.9007009345794\n",
      "RMSE 2761.247407376418\n"
     ]
    }
   ],
   "source": [
    "#dt regression\n",
    "dt=DecisionTreeRegressor()\n",
    "\n",
    "x_train,x_test,y_train,y_test=train_test_split(x,y,test_size=0.25,random_state=143)\n",
    "dt.fit(x_train,y_train)\n",
    "preddt=dt.predict(x_test)\n",
    "print(\"r2 score\",r2_score(y_test,preddt)*100)\n",
    "print(\"Mean Absolute error\",mean_absolute_error(y_test,preddt))\n",
    "print(\"RMSE\",np.sqrt(mean_squared_error(y_test,preddt)))"
   ]
  },
  {
   "cell_type": "code",
   "execution_count": 71,
   "id": "fef378f6",
   "metadata": {},
   "outputs": [
    {
     "name": "stdout",
     "output_type": "stream",
     "text": [
      "r2 score 63.53279808533689\n",
      "Mean Absolute error 1330.2335687861594\n",
      "RMSE 2461.4042461665385\n"
     ]
    }
   ],
   "source": [
    "#rf regression\n",
    "rf=RandomForestRegressor()\n",
    "x_train,x_test,y_train,y_test=train_test_split(x,y,test_size=0.25,random_state=195)\n",
    "rf.fit(x_train,y_train)\n",
    "predrf=rf.predict(x_test)\n",
    "print(\"r2 score\",r2_score(y_test,predrf)*100)\n",
    "print(\"Mean Absolute error\",mean_absolute_error(y_test,predrf))\n",
    "print(\"RMSE\",np.sqrt(mean_squared_error(y_test,predrf)))"
   ]
  },
  {
   "cell_type": "code",
   "execution_count": 72,
   "id": "edde7104",
   "metadata": {},
   "outputs": [
    {
     "name": "stdout",
     "output_type": "stream",
     "text": [
      "r2 score 0.6226885650186476\n",
      "Mean Absolute error 3104.159553547292\n",
      "RMSE 4063.266860883656\n"
     ]
    }
   ],
   "source": [
    "#svr regression\n",
    "svr=SVR()\n",
    "x_train,x_test,y_train,y_test=train_test_split(x,y,test_size=0.25,random_state=195)\n",
    "svr.fit(x_train,y_train)\n",
    "predsv=svr.predict(x_test)\n",
    "print(\"r2 score\",r2_score(y_test,predsv)*100)\n",
    "print(\"Mean Absolute error\",mean_absolute_error(y_test,predsv))\n",
    "print(\"RMSE\",np.sqrt(mean_squared_error(y_test,predsv)))"
   ]
  },
  {
   "cell_type": "code",
   "execution_count": 73,
   "id": "bc739ec3",
   "metadata": {},
   "outputs": [
    {
     "name": "stdout",
     "output_type": "stream",
     "text": [
      "r2 score 76.24430367748631\n",
      "Mean Absolute error 1207.1801441228279\n",
      "RMSE 1928.0539011273354\n"
     ]
    }
   ],
   "source": [
    "#xg boost regression\n",
    "xg=XGBRegressor()\n",
    "x_train,x_test,y_train,y_test=train_test_split(x,y,test_size=0.25,random_state=215)\n",
    "xg.fit(x_train,y_train)\n",
    "predxg=xg.predict(x_test)\n",
    "print(\"r2 score\",r2_score(y_test,predxg)*100)\n",
    "print(\"Mean Absolute error\",mean_absolute_error(y_test,predxg))\n",
    "print(\"RMSE\",np.sqrt(mean_squared_error(y_test,predxg)))"
   ]
  },
  {
   "cell_type": "markdown",
   "id": "144243a2",
   "metadata": {},
   "source": [
    "# Cross Validation Score"
   ]
  },
  {
   "cell_type": "code",
   "execution_count": 76,
   "id": "53c23cd0",
   "metadata": {},
   "outputs": [
    {
     "name": "stdout",
     "output_type": "stream",
     "text": [
      "CV score and it's mean of Linear Regression: 0.24161159402292848 r2 score: -0.8033250054512115\n",
      "CV score and it's mean of Decision Tree Regressor: -0.4532761025736987 r2 score: -1.3754078555300686\n",
      "CV score and it's mean of Support Vector: -0.32828073779139116 r2 score: -0.013556627393745746\n",
      "CV score and it's mean of Random Forest: 0.06229130479841542 r2 score: -0.7883241065546516\n",
      "CV score and it's mean of Xgboost: 0.0549122552705302 r2 score: 0.7624430367748631\n"
     ]
    }
   ],
   "source": [
    "print(\"CV score and it's mean of Linear Regression:\",cross_val_score(lr,x,y,cv=8).mean(),\"r2 score:\",r2_score(y_test,predlr))\n",
    "print(\"CV score and it's mean of Decision Tree Regressor:\",cross_val_score(dt,x,y,cv=8).mean(),\"r2 score:\",r2_score(y_test,preddt))\n",
    "print(\"CV score and it's mean of Support Vector:\",cross_val_score(svr,x,y,cv=8).mean(),\"r2 score:\",r2_score(y_test,predsv))\n",
    "print(\"CV score and it's mean of Random Forest:\",cross_val_score(rf,x,y,cv=8).mean(),\"r2 score:\",r2_score(y_test,predrf))\n",
    "print(\"CV score and it's mean of Xgboost:\",cross_val_score(xg,x,y,cv=8).mean(),\"r2 score:\",r2_score(y_test,predxg))"
   ]
  },
  {
   "cell_type": "markdown",
   "id": "a3fa3bc4",
   "metadata": {},
   "source": [
    "i prefer xgboost as my final model"
   ]
  },
  {
   "cell_type": "markdown",
   "id": "7f595531",
   "metadata": {},
   "source": [
    "# Hyper Parameter tuning"
   ]
  },
  {
   "cell_type": "code",
   "execution_count": 81,
   "id": "3936607d",
   "metadata": {},
   "outputs": [],
   "source": [
    "parameters={'booster':['gbtree','gblinear'],'verbosity':np.arange(0,5),'min_child_weight':np.arange(0,8),\n",
    "          'max_depth':np.arange(0,14)}"
   ]
  },
  {
   "cell_type": "code",
   "execution_count": 82,
   "id": "50d1b15f",
   "metadata": {},
   "outputs": [],
   "source": [
    "gsv=GridSearchCV(xg,parameters,cv=8)"
   ]
  },
  {
   "cell_type": "code",
   "execution_count": null,
   "id": "5db325c7",
   "metadata": {
    "scrolled": true
   },
   "outputs": [],
   "source": [
    "gsv.fit(x_train,y_train)"
   ]
  },
  {
   "cell_type": "code",
   "execution_count": null,
   "id": "70581eb6",
   "metadata": {},
   "outputs": [],
   "source": [
    "tuned and get best parameters, but showing t"
   ]
  },
  {
   "cell_type": "code",
   "execution_count": 84,
   "id": "04e612c1",
   "metadata": {},
   "outputs": [
    {
     "data": {
      "text/plain": [
       "{'booster': 'gbtree', 'max_depth': 5, 'min_child_weight': 3, 'verbosity': 0}"
      ]
     },
     "execution_count": 84,
     "metadata": {},
     "output_type": "execute_result"
    }
   ],
   "source": [
    "gsv.best_params_"
   ]
  },
  {
   "cell_type": "code",
   "execution_count": 85,
   "id": "95cab666",
   "metadata": {
    "collapsed": true
   },
   "outputs": [
    {
     "name": "stdout",
     "output_type": "stream",
     "text": [
      "74.63571699895222\n"
     ]
    }
   ],
   "source": [
    "best=XGBRegressor(booster='gbtree',max_depth=5,min_child_weight=3,verbosity=0)\n",
    "best.fit(x_train,y_train)\n",
    "predbest=best.predict(x_test)\n",
    "acc_b=(r2_score(y_test,predbest))\n",
    "print(acc_b*100)"
   ]
  },
  {
   "cell_type": "markdown",
   "id": "7077474f",
   "metadata": {},
   "source": [
    "# Model Saving"
   ]
  },
  {
   "cell_type": "code",
   "execution_count": 86,
   "id": "eec4c504",
   "metadata": {},
   "outputs": [
    {
     "data": {
      "text/plain": [
       "['flight_details.pkl']"
      ]
     },
     "execution_count": 86,
     "metadata": {},
     "output_type": "execute_result"
    }
   ],
   "source": [
    "import joblib as jb\n",
    "jb.dump(best,\"flight_details.pkl\")"
   ]
  }
 ],
 "metadata": {
  "kernelspec": {
   "display_name": "Python 3",
   "language": "python",
   "name": "python3"
  },
  "language_info": {
   "codemirror_mode": {
    "name": "ipython",
    "version": 3
   },
   "file_extension": ".py",
   "mimetype": "text/x-python",
   "name": "python",
   "nbconvert_exporter": "python",
   "pygments_lexer": "ipython3",
   "version": "3.8.8"
  }
 },
 "nbformat": 4,
 "nbformat_minor": 5
}
